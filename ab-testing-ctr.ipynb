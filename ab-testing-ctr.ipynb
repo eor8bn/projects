{
 "cells": [
  {
   "cell_type": "markdown",
   "id": "5a3f6754",
   "metadata": {
    "papermill": {
     "duration": 0.007688,
     "end_time": "2023-01-16T00:12:25.833308",
     "exception": false,
     "start_time": "2023-01-16T00:12:25.825620",
     "status": "completed"
    },
    "tags": []
   },
   "source": [
    "### A/B-тестирование с показателями кликабельности (CTR)"
   ]
  },
  {
   "cell_type": "markdown",
   "id": "fbf0fa1b",
   "metadata": {
    "papermill": {
     "duration": 0.006531,
     "end_time": "2023-01-16T00:12:25.848889",
     "exception": false,
     "start_time": "2023-01-16T00:12:25.842358",
     "status": "completed"
    },
    "tags": []
   },
   "source": [
    "A/B-тестирование - эксперимент по двум вариантам, чтобы увидеть, какой работает лучше на основе данной метрики"
   ]
  },
  {
   "cell_type": "markdown",
   "id": "a26c823d",
   "metadata": {
    "papermill": {
     "duration": 0.007261,
     "end_time": "2023-01-16T00:12:25.863624",
     "exception": false,
     "start_time": "2023-01-16T00:12:25.856363",
     "status": "completed"
    },
    "tags": []
   },
   "source": [
    "### Chi-Squared Test"
   ]
  },
  {
   "cell_type": "markdown",
   "id": "53c40535",
   "metadata": {
    "papermill": {
     "duration": 0.0066,
     "end_time": "2023-01-16T00:12:25.876841",
     "exception": false,
     "start_time": "2023-01-16T00:12:25.870241",
     "status": "completed"
    },
    "tags": []
   },
   "source": [
    "Так как проводится A/B-тест на конверсиях, которые являются дискретной переменной, подчиняющейся распределению Бернулли, следует использовать тест хи-квадрат.\n",
    "\n",
    "Шаги для проведения теста на хи-квадрат:\n",
    "1. Рассчитать критерий хи-квадрат\n",
    "2. Рассчитать p-значение\n",
    "3. Сравнить p-значение с уровнем значимости"
   ]
  },
  {
   "cell_type": "markdown",
   "id": "725fc5ea",
   "metadata": {
    "papermill": {
     "duration": 0.007275,
     "end_time": "2023-01-16T00:12:25.891394",
     "exception": false,
     "start_time": "2023-01-16T00:12:25.884119",
     "status": "completed"
    },
    "tags": []
   },
   "source": [
    "$ x^2 = \\Sigma \\frac{(observed_i - expected_i)^2}{expected_i} $"
   ]
  },
  {
   "cell_type": "markdown",
   "id": "43b63dcb",
   "metadata": {
    "papermill": {
     "duration": 0.006585,
     "end_time": "2023-01-16T00:12:25.906010",
     "exception": false,
     "start_time": "2023-01-16T00:12:25.899425",
     "status": "completed"
    },
    "tags": []
   },
   "source": [
    "### Data "
   ]
  },
  {
   "cell_type": "code",
   "execution_count": 1,
   "id": "abd3d7ab",
   "metadata": {
    "_cell_guid": "b1076dfc-b9ad-4769-8c92-a6c4dae69d19",
    "_uuid": "8f2839f25d086af736a60e9eeb907d3b93b6e0e5",
    "execution": {
     "iopub.execute_input": "2023-01-16T00:12:25.921972Z",
     "iopub.status.busy": "2023-01-16T00:12:25.921504Z",
     "iopub.status.idle": "2023-01-16T00:12:26.791043Z",
     "shell.execute_reply": "2023-01-16T00:12:26.789690Z"
    },
    "papermill": {
     "duration": 0.881305,
     "end_time": "2023-01-16T00:12:26.794067",
     "exception": false,
     "start_time": "2023-01-16T00:12:25.912762",
     "status": "completed"
    },
    "tags": []
   },
   "outputs": [
    {
     "name": "stdout",
     "output_type": "stream",
     "text": [
      "/kaggle/input/ab-testing/ab_data.csv\n"
     ]
    }
   ],
   "source": [
    "import numpy as np\n",
    "import pandas as pd\n",
    "from scipy import stats\n",
    "from matplotlib import pyplot as plt\n",
    "\n",
    "import os\n",
    "for dirname, _, filenames in os.walk('/kaggle/input'):\n",
    "    for filename in filenames:\n",
    "        print(os.path.join(dirname, filename))"
   ]
  },
  {
   "cell_type": "code",
   "execution_count": 2,
   "id": "eefce6c9",
   "metadata": {
    "execution": {
     "iopub.execute_input": "2023-01-16T00:12:26.810109Z",
     "iopub.status.busy": "2023-01-16T00:12:26.809669Z",
     "iopub.status.idle": "2023-01-16T00:12:27.527027Z",
     "shell.execute_reply": "2023-01-16T00:12:27.525160Z"
    },
    "papermill": {
     "duration": 0.729803,
     "end_time": "2023-01-16T00:12:27.530238",
     "exception": false,
     "start_time": "2023-01-16T00:12:26.800435",
     "status": "completed"
    },
    "tags": []
   },
   "outputs": [],
   "source": [
    "df = pd.read_csv('/kaggle/input/ab-testing/ab_data.csv')"
   ]
  },
  {
   "cell_type": "code",
   "execution_count": 3,
   "id": "738a3596",
   "metadata": {
    "execution": {
     "iopub.execute_input": "2023-01-16T00:12:27.546429Z",
     "iopub.status.busy": "2023-01-16T00:12:27.546026Z",
     "iopub.status.idle": "2023-01-16T00:12:27.692738Z",
     "shell.execute_reply": "2023-01-16T00:12:27.691168Z"
    },
    "papermill": {
     "duration": 0.159128,
     "end_time": "2023-01-16T00:12:27.697012",
     "exception": false,
     "start_time": "2023-01-16T00:12:27.537884",
     "status": "completed"
    },
    "tags": []
   },
   "outputs": [
    {
     "data": {
      "text/html": [
       "<div>\n",
       "<style scoped>\n",
       "    .dataframe tbody tr th:only-of-type {\n",
       "        vertical-align: middle;\n",
       "    }\n",
       "\n",
       "    .dataframe tbody tr th {\n",
       "        vertical-align: top;\n",
       "    }\n",
       "\n",
       "    .dataframe thead th {\n",
       "        text-align: right;\n",
       "    }\n",
       "</style>\n",
       "<table border=\"1\" class=\"dataframe\">\n",
       "  <thead>\n",
       "    <tr style=\"text-align: right;\">\n",
       "      <th></th>\n",
       "      <th>user_id</th>\n",
       "      <th>timestamp</th>\n",
       "      <th>group</th>\n",
       "      <th>landing_page</th>\n",
       "      <th>converted</th>\n",
       "    </tr>\n",
       "  </thead>\n",
       "  <tbody>\n",
       "    <tr>\n",
       "      <th>0</th>\n",
       "      <td>851104</td>\n",
       "      <td>2017-01-21 22:11:48.556739</td>\n",
       "      <td>control</td>\n",
       "      <td>old_page</td>\n",
       "      <td>0</td>\n",
       "    </tr>\n",
       "    <tr>\n",
       "      <th>1</th>\n",
       "      <td>804228</td>\n",
       "      <td>2017-01-12 08:01:45.159739</td>\n",
       "      <td>control</td>\n",
       "      <td>old_page</td>\n",
       "      <td>0</td>\n",
       "    </tr>\n",
       "    <tr>\n",
       "      <th>2</th>\n",
       "      <td>661590</td>\n",
       "      <td>2017-01-11 16:55:06.154213</td>\n",
       "      <td>treatment</td>\n",
       "      <td>new_page</td>\n",
       "      <td>0</td>\n",
       "    </tr>\n",
       "    <tr>\n",
       "      <th>3</th>\n",
       "      <td>853541</td>\n",
       "      <td>2017-01-08 18:28:03.143765</td>\n",
       "      <td>treatment</td>\n",
       "      <td>new_page</td>\n",
       "      <td>0</td>\n",
       "    </tr>\n",
       "    <tr>\n",
       "      <th>4</th>\n",
       "      <td>864975</td>\n",
       "      <td>2017-01-21 01:52:26.210827</td>\n",
       "      <td>control</td>\n",
       "      <td>old_page</td>\n",
       "      <td>1</td>\n",
       "    </tr>\n",
       "  </tbody>\n",
       "</table>\n",
       "</div>"
      ],
      "text/plain": [
       "   user_id                   timestamp      group landing_page  converted\n",
       "0   851104  2017-01-21 22:11:48.556739    control     old_page          0\n",
       "1   804228  2017-01-12 08:01:45.159739    control     old_page          0\n",
       "2   661590  2017-01-11 16:55:06.154213  treatment     new_page          0\n",
       "3   853541  2017-01-08 18:28:03.143765  treatment     new_page          0\n",
       "4   864975  2017-01-21 01:52:26.210827    control     old_page          1"
      ]
     },
     "execution_count": 3,
     "metadata": {},
     "output_type": "execute_result"
    }
   ],
   "source": [
    "df.head()"
   ]
  },
  {
   "cell_type": "code",
   "execution_count": 4,
   "id": "594ac214",
   "metadata": {
    "execution": {
     "iopub.execute_input": "2023-01-16T00:12:27.714069Z",
     "iopub.status.busy": "2023-01-16T00:12:27.713601Z",
     "iopub.status.idle": "2023-01-16T00:12:27.840118Z",
     "shell.execute_reply": "2023-01-16T00:12:27.838299Z"
    },
    "papermill": {
     "duration": 0.137804,
     "end_time": "2023-01-16T00:12:27.843283",
     "exception": false,
     "start_time": "2023-01-16T00:12:27.705479",
     "status": "completed"
    },
    "tags": []
   },
   "outputs": [
    {
     "data": {
      "text/html": [
       "<div>\n",
       "<style scoped>\n",
       "    .dataframe tbody tr th:only-of-type {\n",
       "        vertical-align: middle;\n",
       "    }\n",
       "\n",
       "    .dataframe tbody tr th {\n",
       "        vertical-align: top;\n",
       "    }\n",
       "\n",
       "    .dataframe thead th {\n",
       "        text-align: right;\n",
       "    }\n",
       "</style>\n",
       "<table border=\"1\" class=\"dataframe\">\n",
       "  <thead>\n",
       "    <tr style=\"text-align: right;\">\n",
       "      <th></th>\n",
       "      <th></th>\n",
       "      <th>user_id</th>\n",
       "      <th>timestamp</th>\n",
       "      <th>converted</th>\n",
       "    </tr>\n",
       "    <tr>\n",
       "      <th>group</th>\n",
       "      <th>landing_page</th>\n",
       "      <th></th>\n",
       "      <th></th>\n",
       "      <th></th>\n",
       "    </tr>\n",
       "  </thead>\n",
       "  <tbody>\n",
       "    <tr>\n",
       "      <th rowspan=\"2\" valign=\"top\">control</th>\n",
       "      <th>new_page</th>\n",
       "      <td>1928</td>\n",
       "      <td>1928</td>\n",
       "      <td>1928</td>\n",
       "    </tr>\n",
       "    <tr>\n",
       "      <th>old_page</th>\n",
       "      <td>145274</td>\n",
       "      <td>145274</td>\n",
       "      <td>145274</td>\n",
       "    </tr>\n",
       "    <tr>\n",
       "      <th rowspan=\"2\" valign=\"top\">treatment</th>\n",
       "      <th>new_page</th>\n",
       "      <td>145311</td>\n",
       "      <td>145311</td>\n",
       "      <td>145311</td>\n",
       "    </tr>\n",
       "    <tr>\n",
       "      <th>old_page</th>\n",
       "      <td>1965</td>\n",
       "      <td>1965</td>\n",
       "      <td>1965</td>\n",
       "    </tr>\n",
       "  </tbody>\n",
       "</table>\n",
       "</div>"
      ],
      "text/plain": [
       "                        user_id  timestamp  converted\n",
       "group     landing_page                               \n",
       "control   new_page         1928       1928       1928\n",
       "          old_page       145274     145274     145274\n",
       "treatment new_page       145311     145311     145311\n",
       "          old_page         1965       1965       1965"
      ]
     },
     "execution_count": 4,
     "metadata": {},
     "output_type": "execute_result"
    }
   ],
   "source": [
    "df.groupby(['group','landing_page']).count()"
   ]
  },
  {
   "cell_type": "code",
   "execution_count": 5,
   "id": "475ea883",
   "metadata": {
    "execution": {
     "iopub.execute_input": "2023-01-16T00:12:27.860888Z",
     "iopub.status.busy": "2023-01-16T00:12:27.860445Z",
     "iopub.status.idle": "2023-01-16T00:12:28.107982Z",
     "shell.execute_reply": "2023-01-16T00:12:28.106524Z"
    },
    "papermill": {
     "duration": 0.260145,
     "end_time": "2023-01-16T00:12:28.110611",
     "exception": false,
     "start_time": "2023-01-16T00:12:27.850466",
     "status": "completed"
    },
    "tags": []
   },
   "outputs": [
    {
     "data": {
      "text/html": [
       "<div>\n",
       "<style scoped>\n",
       "    .dataframe tbody tr th:only-of-type {\n",
       "        vertical-align: middle;\n",
       "    }\n",
       "\n",
       "    .dataframe tbody tr th {\n",
       "        vertical-align: top;\n",
       "    }\n",
       "\n",
       "    .dataframe thead th {\n",
       "        text-align: right;\n",
       "    }\n",
       "</style>\n",
       "<table border=\"1\" class=\"dataframe\">\n",
       "  <thead>\n",
       "    <tr style=\"text-align: right;\">\n",
       "      <th></th>\n",
       "      <th></th>\n",
       "      <th>user_id</th>\n",
       "      <th>timestamp</th>\n",
       "      <th>converted</th>\n",
       "    </tr>\n",
       "    <tr>\n",
       "      <th>group</th>\n",
       "      <th>landing_page</th>\n",
       "      <th></th>\n",
       "      <th></th>\n",
       "      <th></th>\n",
       "    </tr>\n",
       "  </thead>\n",
       "  <tbody>\n",
       "    <tr>\n",
       "      <th>control</th>\n",
       "      <th>old_page</th>\n",
       "      <td>145274</td>\n",
       "      <td>145274</td>\n",
       "      <td>145274</td>\n",
       "    </tr>\n",
       "    <tr>\n",
       "      <th>treatment</th>\n",
       "      <th>new_page</th>\n",
       "      <td>145311</td>\n",
       "      <td>145311</td>\n",
       "      <td>145311</td>\n",
       "    </tr>\n",
       "  </tbody>\n",
       "</table>\n",
       "</div>"
      ],
      "text/plain": [
       "                        user_id  timestamp  converted\n",
       "group     landing_page                               \n",
       "control   old_page       145274     145274     145274\n",
       "treatment new_page       145311     145311     145311"
      ]
     },
     "execution_count": 5,
     "metadata": {},
     "output_type": "execute_result"
    }
   ],
   "source": [
    "df_cleaned = df.loc[(df['group'] == 'control') & (df['landing_page'] == 'old_page') | (df['group'] == 'treatment') & (df['landing_page'] == 'new_page')]\n",
    "df_cleaned.groupby(['group','landing_page']).count()"
   ]
  },
  {
   "cell_type": "markdown",
   "id": "93b2e783",
   "metadata": {
    "papermill": {
     "duration": 0.007384,
     "end_time": "2023-01-16T00:12:28.125723",
     "exception": false,
     "start_time": "2023-01-16T00:12:28.118339",
     "status": "completed"
    },
    "tags": []
   },
   "source": [
    "Проверка на дубли"
   ]
  },
  {
   "cell_type": "code",
   "execution_count": 6,
   "id": "ec89dc99",
   "metadata": {
    "execution": {
     "iopub.execute_input": "2023-01-16T00:12:28.141118Z",
     "iopub.status.busy": "2023-01-16T00:12:28.140645Z",
     "iopub.status.idle": "2023-01-16T00:12:28.157294Z",
     "shell.execute_reply": "2023-01-16T00:12:28.155438Z"
    },
    "papermill": {
     "duration": 0.028163,
     "end_time": "2023-01-16T00:12:28.160676",
     "exception": false,
     "start_time": "2023-01-16T00:12:28.132513",
     "status": "completed"
    },
    "tags": []
   },
   "outputs": [
    {
     "data": {
      "text/plain": [
       "1"
      ]
     },
     "execution_count": 6,
     "metadata": {},
     "output_type": "execute_result"
    }
   ],
   "source": [
    "df_cleaned['user_id'].duplicated().sum()"
   ]
  },
  {
   "cell_type": "code",
   "execution_count": 7,
   "id": "bf65a38c",
   "metadata": {
    "execution": {
     "iopub.execute_input": "2023-01-16T00:12:28.177699Z",
     "iopub.status.busy": "2023-01-16T00:12:28.177228Z",
     "iopub.status.idle": "2023-01-16T00:12:28.231931Z",
     "shell.execute_reply": "2023-01-16T00:12:28.230036Z"
    },
    "papermill": {
     "duration": 0.066884,
     "end_time": "2023-01-16T00:12:28.235215",
     "exception": false,
     "start_time": "2023-01-16T00:12:28.168331",
     "status": "completed"
    },
    "tags": []
   },
   "outputs": [
    {
     "data": {
      "text/plain": [
       "1899    773192\n",
       "2893    773192\n",
       "Name: user_id, dtype: int64"
      ]
     },
     "execution_count": 7,
     "metadata": {},
     "output_type": "execute_result"
    }
   ],
   "source": [
    "df_cleaned[df_cleaned.duplicated(['user_id'],keep=False)]['user_id']"
   ]
  },
  {
   "cell_type": "code",
   "execution_count": 8,
   "id": "569eaa43",
   "metadata": {
    "execution": {
     "iopub.execute_input": "2023-01-16T00:12:28.251416Z",
     "iopub.status.busy": "2023-01-16T00:12:28.250933Z",
     "iopub.status.idle": "2023-01-16T00:12:28.264609Z",
     "shell.execute_reply": "2023-01-16T00:12:28.263405Z"
    },
    "papermill": {
     "duration": 0.024604,
     "end_time": "2023-01-16T00:12:28.266989",
     "exception": false,
     "start_time": "2023-01-16T00:12:28.242385",
     "status": "completed"
    },
    "tags": []
   },
   "outputs": [
    {
     "data": {
      "text/html": [
       "<div>\n",
       "<style scoped>\n",
       "    .dataframe tbody tr th:only-of-type {\n",
       "        vertical-align: middle;\n",
       "    }\n",
       "\n",
       "    .dataframe tbody tr th {\n",
       "        vertical-align: top;\n",
       "    }\n",
       "\n",
       "    .dataframe thead th {\n",
       "        text-align: right;\n",
       "    }\n",
       "</style>\n",
       "<table border=\"1\" class=\"dataframe\">\n",
       "  <thead>\n",
       "    <tr style=\"text-align: right;\">\n",
       "      <th></th>\n",
       "      <th>user_id</th>\n",
       "      <th>timestamp</th>\n",
       "      <th>group</th>\n",
       "      <th>landing_page</th>\n",
       "      <th>converted</th>\n",
       "    </tr>\n",
       "  </thead>\n",
       "  <tbody>\n",
       "    <tr>\n",
       "      <th>1899</th>\n",
       "      <td>773192</td>\n",
       "      <td>2017-01-09 05:37:58.781806</td>\n",
       "      <td>treatment</td>\n",
       "      <td>new_page</td>\n",
       "      <td>0</td>\n",
       "    </tr>\n",
       "    <tr>\n",
       "      <th>2893</th>\n",
       "      <td>773192</td>\n",
       "      <td>2017-01-14 02:55:59.590927</td>\n",
       "      <td>treatment</td>\n",
       "      <td>new_page</td>\n",
       "      <td>0</td>\n",
       "    </tr>\n",
       "  </tbody>\n",
       "</table>\n",
       "</div>"
      ],
      "text/plain": [
       "      user_id                   timestamp      group landing_page  converted\n",
       "1899   773192  2017-01-09 05:37:58.781806  treatment     new_page          0\n",
       "2893   773192  2017-01-14 02:55:59.590927  treatment     new_page          0"
      ]
     },
     "execution_count": 8,
     "metadata": {},
     "output_type": "execute_result"
    }
   ],
   "source": [
    "df[df['user_id'] == 773192]"
   ]
  },
  {
   "cell_type": "markdown",
   "id": "5add38ad",
   "metadata": {
    "papermill": {
     "duration": 0.006788,
     "end_time": "2023-01-16T00:12:28.281014",
     "exception": false,
     "start_time": "2023-01-16T00:12:28.274226",
     "status": "completed"
    },
    "tags": []
   },
   "source": [
    "Удаление дублей"
   ]
  },
  {
   "cell_type": "code",
   "execution_count": 9,
   "id": "303405c3",
   "metadata": {
    "execution": {
     "iopub.execute_input": "2023-01-16T00:12:28.298718Z",
     "iopub.status.busy": "2023-01-16T00:12:28.298302Z",
     "iopub.status.idle": "2023-01-16T00:12:28.369249Z",
     "shell.execute_reply": "2023-01-16T00:12:28.368008Z"
    },
    "papermill": {
     "duration": 0.082689,
     "end_time": "2023-01-16T00:12:28.372051",
     "exception": false,
     "start_time": "2023-01-16T00:12:28.289362",
     "status": "completed"
    },
    "tags": []
   },
   "outputs": [],
   "source": [
    "df_cleaned = df.drop_duplicates(subset='user_id', keep=\"first\")"
   ]
  },
  {
   "cell_type": "markdown",
   "id": "a580b6b2",
   "metadata": {
    "papermill": {
     "duration": 0.007059,
     "end_time": "2023-01-16T00:12:28.386263",
     "exception": false,
     "start_time": "2023-01-16T00:12:28.379204",
     "status": "completed"
    },
    "tags": []
   },
   "source": [
    "### Exploratory Data Analysis"
   ]
  },
  {
   "cell_type": "code",
   "execution_count": 10,
   "id": "90f466ad",
   "metadata": {
    "execution": {
     "iopub.execute_input": "2023-01-16T00:12:28.402292Z",
     "iopub.status.busy": "2023-01-16T00:12:28.401886Z",
     "iopub.status.idle": "2023-01-16T00:12:28.772868Z",
     "shell.execute_reply": "2023-01-16T00:12:28.771489Z"
    },
    "papermill": {
     "duration": 0.3824,
     "end_time": "2023-01-16T00:12:28.775677",
     "exception": false,
     "start_time": "2023-01-16T00:12:28.393277",
     "status": "completed"
    },
    "tags": []
   },
   "outputs": [
    {
     "data": {
      "image/png": "[encoded data removed]",
      "text/plain": [
       "<Figure size 432x288 with 1 Axes>"
      ]
     },
     "metadata": {
      "needs_background": "light"
     },
     "output_type": "display_data"
    }
   ],
   "source": [
    "groups = df_cleaned.groupby(['group','landing_page','converted']).size()\n",
    "groups.plot.bar(xlabel = '')\n",
    "plt.title('The proportion of conversions for both groups')\n",
    "plt.show()"
   ]
  },
  {
   "cell_type": "code",
   "execution_count": 11,
   "id": "b8940711",
   "metadata": {
    "execution": {
     "iopub.execute_input": "2023-01-16T00:12:28.792900Z",
     "iopub.status.busy": "2023-01-16T00:12:28.792491Z",
     "iopub.status.idle": "2023-01-16T00:12:28.958695Z",
     "shell.execute_reply": "2023-01-16T00:12:28.957165Z"
    },
    "papermill": {
     "duration": 0.179424,
     "end_time": "2023-01-16T00:12:28.962956",
     "exception": false,
     "start_time": "2023-01-16T00:12:28.783532",
     "status": "completed"
    },
    "tags": []
   },
   "outputs": [
    {
     "data": {
      "image/png": "[encoded data removed]",
      "text/plain": [
       "<Figure size 432x288 with 1 Axes>"
      ]
     },
     "metadata": {},
     "output_type": "display_data"
    }
   ],
   "source": [
    "lbls = df_cleaned['landing_page'].unique().tolist()\n",
    "plt.pie(df_cleaned['landing_page'].value_counts(), labels = lbls, colors = ['darkseagreen', 'lightsteelblue'])\n",
    "plt.title('The proportion between the number of users in each group')\n",
    "plt.show()"
   ]
  },
  {
   "cell_type": "markdown",
   "id": "350f682f",
   "metadata": {
    "papermill": {
     "duration": 0.021149,
     "end_time": "2023-01-16T00:12:29.005148",
     "exception": false,
     "start_time": "2023-01-16T00:12:28.983999",
     "status": "completed"
    },
    "tags": []
   },
   "source": [
    "### Data Preparation"
   ]
  },
  {
   "cell_type": "code",
   "execution_count": 12,
   "id": "2ba8e8d1",
   "metadata": {
    "execution": {
     "iopub.execute_input": "2023-01-16T00:12:29.037233Z",
     "iopub.status.busy": "2023-01-16T00:12:29.036713Z",
     "iopub.status.idle": "2023-01-16T00:12:29.121786Z",
     "shell.execute_reply": "2023-01-16T00:12:29.120219Z"
    },
    "papermill": {
     "duration": 0.099303,
     "end_time": "2023-01-16T00:12:29.125006",
     "exception": false,
     "start_time": "2023-01-16T00:12:29.025703",
     "status": "completed"
    },
    "tags": []
   },
   "outputs": [],
   "source": [
    "# Re-arrrange data into 2x2 for Chi-Squared\n",
    "\n",
    "# 1) Split groups into two separate DataFrames\n",
    "a = df_cleaned[df_cleaned['group'] == 'control']\n",
    "b = df_cleaned[df_cleaned['group'] == 'treatment']\n",
    "\n",
    "# 2) A-click, A-noclick, B-click, B-noclick\n",
    "a_click = a.converted.sum()\n",
    "a_noclick = a.converted.size - a.converted.sum()\n",
    "b_click = b.converted.sum()\n",
    "b_noclick = b.converted.size - b.converted.sum()\n",
    "\n",
    "# 3) Create np array\n",
    "T = np.array([[a_click, a_noclick], [b_click, b_noclick]])"
   ]
  },
  {
   "cell_type": "markdown",
   "id": "0c50af85",
   "metadata": {
    "papermill": {
     "duration": 0.008165,
     "end_time": "2023-01-16T00:12:29.141586",
     "exception": false,
     "start_time": "2023-01-16T00:12:29.133421",
     "status": "completed"
    },
    "tags": []
   },
   "source": [
    "### Chi-Squared Test"
   ]
  },
  {
   "cell_type": "code",
   "execution_count": 13,
   "id": "d53028b1",
   "metadata": {
    "execution": {
     "iopub.execute_input": "2023-01-16T00:12:29.160794Z",
     "iopub.status.busy": "2023-01-16T00:12:29.160343Z",
     "iopub.status.idle": "2023-01-16T00:12:29.169815Z",
     "shell.execute_reply": "2023-01-16T00:12:29.167507Z"
    },
    "papermill": {
     "duration": 0.023365,
     "end_time": "2023-01-16T00:12:29.173678",
     "exception": false,
     "start_time": "2023-01-16T00:12:29.150313",
     "status": "completed"
    },
    "tags": []
   },
   "outputs": [
    {
     "name": "stdout",
     "output_type": "stream",
     "text": [
      "0.22689933216132585\n"
     ]
    }
   ],
   "source": [
    "print(stats.chi2_contingency(T,correction=False)[1])"
   ]
  },
  {
   "cell_type": "markdown",
   "id": "07483b62",
   "metadata": {
    "papermill": {
     "duration": 0.007629,
     "end_time": "2023-01-16T00:12:29.189900",
     "exception": false,
     "start_time": "2023-01-16T00:12:29.182271",
     "status": "completed"
    },
    "tags": []
   },
   "source": [
    "P-значение было рассчитано на 22,7%. При уровне значимости 5% мы можем сделать вывод, что p-значение больше альфа и что мы не отвергаем нулевую гипотезу. Проще говоря, нет никакого значения в преобразованиях между старой и новой веб-страницей."
   ]
  },
  {
   "cell_type": "code",
   "execution_count": 14,
   "id": "13d59cb6",
   "metadata": {
    "execution": {
     "iopub.execute_input": "2023-01-16T00:12:29.208729Z",
     "iopub.status.busy": "2023-01-16T00:12:29.208265Z",
     "iopub.status.idle": "2023-01-16T00:12:29.216464Z",
     "shell.execute_reply": "2023-01-16T00:12:29.214547Z"
    },
    "papermill": {
     "duration": 0.021258,
     "end_time": "2023-01-16T00:12:29.219577",
     "exception": false,
     "start_time": "2023-01-16T00:12:29.198319",
     "status": "completed"
    },
    "tags": []
   },
   "outputs": [
    {
     "name": "stdout",
     "output_type": "stream",
     "text": [
      "0.12029717968491792 0.11884253398646046\n"
     ]
    }
   ],
   "source": [
    "# Sanity Check\n",
    "a_CTR = a_click / (a_click + a_noclick)\n",
    "b_CTR = b_click / (b_click + b_noclick)\n",
    "print(a_CTR, b_CTR)"
   ]
  },
  {
   "cell_type": "markdown",
   "id": "62d9f2d4",
   "metadata": {
    "papermill": {
     "duration": 0.007728,
     "end_time": "2023-01-16T00:12:29.236038",
     "exception": false,
     "start_time": "2023-01-16T00:12:29.228310",
     "status": "completed"
    },
    "tags": []
   },
   "source": [
    "Коэффициент конверсии между двумя группами и разница между ними действительно минимальны"
   ]
  }
 ],
 "metadata": {
  "kernelspec": {
   "display_name": "Python 3",
   "language": "python",
   "name": "python3"
  },
  "language_info": {
   "codemirror_mode": {
    "name": "ipython",
    "version": 3
   },
   "file_extension": ".py",
   "mimetype": "text/x-python",
   "name": "python",
   "nbconvert_exporter": "python",
   "pygments_lexer": "ipython3",
   "version": "3.7.12"
  },
  "papermill": {
   "default_parameters": {},
   "duration": 16.665684,
   "end_time": "2023-01-16T00:12:30.067272",
   "environment_variables": {},
   "exception": null,
   "input_path": "__notebook__.ipynb",
   "output_path": "__notebook__.ipynb",
   "parameters": {},
   "start_time": "2023-01-16T00:12:13.401588",
   "version": "2.3.4"
  }
 },
 "nbformat": 4,
 "nbformat_minor": 5
}
