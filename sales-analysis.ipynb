{
 "cells": [
  {
   "cell_type": "markdown",
   "id": "5a93354a",
   "metadata": {
    "papermill": {
     "duration": 0.010115,
     "end_time": "2023-02-14T15:54:04.342392",
     "exception": false,
     "start_time": "2023-02-14T15:54:04.332277",
     "status": "completed"
    },
    "tags": []
   },
   "source": [
    "# Анализ датасета по продажам"
   ]
  },
  {
   "cell_type": "code",
   "execution_count": 1,
   "id": "799ce67f",
   "metadata": {
    "execution": {
     "iopub.execute_input": "2023-02-14T15:54:04.362851Z",
     "iopub.status.busy": "2023-02-14T15:54:04.362213Z",
     "iopub.status.idle": "2023-02-14T15:54:05.490845Z",
     "shell.execute_reply": "2023-02-14T15:54:05.489873Z"
    },
    "papermill": {
     "duration": 1.142668,
     "end_time": "2023-02-14T15:54:05.494360",
     "exception": false,
     "start_time": "2023-02-14T15:54:04.351692",
     "status": "completed"
    },
    "tags": []
   },
   "outputs": [
    {
     "name": "stdout",
     "output_type": "stream",
     "text": [
      "/kaggle/input/sales-forecasting/train.csv\n"
     ]
    }
   ],
   "source": [
    "import numpy as np\n",
    "import pandas as pd\n",
    "import seaborn as sns\n",
    "import matplotlib.pyplot as plt\n",
    "\n",
    "import os\n",
    "for dirname, _, filenames in os.walk('/kaggle/input'):\n",
    "    for filename in filenames:\n",
    "        print(os.path.join(dirname, filename))"
   ]
  },
  {
   "cell_type": "code",
   "execution_count": 2,
   "id": "481b7dde",
   "metadata": {
    "execution": {
     "iopub.execute_input": "2023-02-14T15:54:05.515648Z",
     "iopub.status.busy": "2023-02-14T15:54:05.514730Z",
     "iopub.status.idle": "2023-02-14T15:54:05.633016Z",
     "shell.execute_reply": "2023-02-14T15:54:05.632149Z"
    },
    "papermill": {
     "duration": 0.131442,
     "end_time": "2023-02-14T15:54:05.635670",
     "exception": false,
     "start_time": "2023-02-14T15:54:05.504228",
     "status": "completed"
    },
    "tags": []
   },
   "outputs": [],
   "source": [
    "df = pd.read_csv('/kaggle/input/sales-forecasting/train.csv', index_col=0)"
   ]
  },
  {
   "cell_type": "code",
   "execution_count": 3,
   "id": "31cea8f1",
   "metadata": {
    "execution": {
     "iopub.execute_input": "2023-02-14T15:54:05.655883Z",
     "iopub.status.busy": "2023-02-14T15:54:05.655143Z",
     "iopub.status.idle": "2023-02-14T15:54:05.683491Z",
     "shell.execute_reply": "2023-02-14T15:54:05.682215Z"
    },
    "papermill": {
     "duration": 0.041354,
     "end_time": "2023-02-14T15:54:05.686023",
     "exception": false,
     "start_time": "2023-02-14T15:54:05.644669",
     "status": "completed"
    },
    "tags": []
   },
   "outputs": [
    {
     "data": {
      "text/html": [
       "<div>\n",
       "<style scoped>\n",
       "    .dataframe tbody tr th:only-of-type {\n",
       "        vertical-align: middle;\n",
       "    }\n",
       "\n",
       "    .dataframe tbody tr th {\n",
       "        vertical-align: top;\n",
       "    }\n",
       "\n",
       "    .dataframe thead th {\n",
       "        text-align: right;\n",
       "    }\n",
       "</style>\n",
       "<table border=\"1\" class=\"dataframe\">\n",
       "  <thead>\n",
       "    <tr style=\"text-align: right;\">\n",
       "      <th></th>\n",
       "      <th>Order ID</th>\n",
       "      <th>Order Date</th>\n",
       "      <th>Ship Date</th>\n",
       "      <th>Ship Mode</th>\n",
       "      <th>Customer ID</th>\n",
       "      <th>Customer Name</th>\n",
       "      <th>Segment</th>\n",
       "      <th>Country</th>\n",
       "      <th>City</th>\n",
       "      <th>State</th>\n",
       "      <th>Postal Code</th>\n",
       "      <th>Region</th>\n",
       "      <th>Product ID</th>\n",
       "      <th>Category</th>\n",
       "      <th>Sub-Category</th>\n",
       "      <th>Product Name</th>\n",
       "      <th>Sales</th>\n",
       "    </tr>\n",
       "    <tr>\n",
       "      <th>Row ID</th>\n",
       "      <th></th>\n",
       "      <th></th>\n",
       "      <th></th>\n",
       "      <th></th>\n",
       "      <th></th>\n",
       "      <th></th>\n",
       "      <th></th>\n",
       "      <th></th>\n",
       "      <th></th>\n",
       "      <th></th>\n",
       "      <th></th>\n",
       "      <th></th>\n",
       "      <th></th>\n",
       "      <th></th>\n",
       "      <th></th>\n",
       "      <th></th>\n",
       "      <th></th>\n",
       "    </tr>\n",
       "  </thead>\n",
       "  <tbody>\n",
       "    <tr>\n",
       "      <th>1</th>\n",
       "      <td>CA-2017-152156</td>\n",
       "      <td>08/11/2017</td>\n",
       "      <td>11/11/2017</td>\n",
       "      <td>Second Class</td>\n",
       "      <td>CG-12520</td>\n",
       "      <td>Claire Gute</td>\n",
       "      <td>Consumer</td>\n",
       "      <td>United States</td>\n",
       "      <td>Henderson</td>\n",
       "      <td>Kentucky</td>\n",
       "      <td>42420.0</td>\n",
       "      <td>South</td>\n",
       "      <td>FUR-BO-10001798</td>\n",
       "      <td>Furniture</td>\n",
       "      <td>Bookcases</td>\n",
       "      <td>Bush Somerset Collection Bookcase</td>\n",
       "      <td>261.96</td>\n",
       "    </tr>\n",
       "    <tr>\n",
       "      <th>2</th>\n",
       "      <td>CA-2017-152156</td>\n",
       "      <td>08/11/2017</td>\n",
       "      <td>11/11/2017</td>\n",
       "      <td>Second Class</td>\n",
       "      <td>CG-12520</td>\n",
       "      <td>Claire Gute</td>\n",
       "      <td>Consumer</td>\n",
       "      <td>United States</td>\n",
       "      <td>Henderson</td>\n",
       "      <td>Kentucky</td>\n",
       "      <td>42420.0</td>\n",
       "      <td>South</td>\n",
       "      <td>FUR-CH-10000454</td>\n",
       "      <td>Furniture</td>\n",
       "      <td>Chairs</td>\n",
       "      <td>Hon Deluxe Fabric Upholstered Stacking Chairs,...</td>\n",
       "      <td>731.94</td>\n",
       "    </tr>\n",
       "    <tr>\n",
       "      <th>3</th>\n",
       "      <td>CA-2017-138688</td>\n",
       "      <td>12/06/2017</td>\n",
       "      <td>16/06/2017</td>\n",
       "      <td>Second Class</td>\n",
       "      <td>DV-13045</td>\n",
       "      <td>Darrin Van Huff</td>\n",
       "      <td>Corporate</td>\n",
       "      <td>United States</td>\n",
       "      <td>Los Angeles</td>\n",
       "      <td>California</td>\n",
       "      <td>90036.0</td>\n",
       "      <td>West</td>\n",
       "      <td>OFF-LA-10000240</td>\n",
       "      <td>Office Supplies</td>\n",
       "      <td>Labels</td>\n",
       "      <td>Self-Adhesive Address Labels for Typewriters b...</td>\n",
       "      <td>14.62</td>\n",
       "    </tr>\n",
       "  </tbody>\n",
       "</table>\n",
       "</div>"
      ],
      "text/plain": [
       "              Order ID  Order Date   Ship Date     Ship Mode Customer ID  \\\n",
       "Row ID                                                                     \n",
       "1       CA-2017-152156  08/11/2017  11/11/2017  Second Class    CG-12520   \n",
       "2       CA-2017-152156  08/11/2017  11/11/2017  Second Class    CG-12520   \n",
       "3       CA-2017-138688  12/06/2017  16/06/2017  Second Class    DV-13045   \n",
       "\n",
       "          Customer Name    Segment        Country         City       State  \\\n",
       "Row ID                                                                       \n",
       "1           Claire Gute   Consumer  United States    Henderson    Kentucky   \n",
       "2           Claire Gute   Consumer  United States    Henderson    Kentucky   \n",
       "3       Darrin Van Huff  Corporate  United States  Los Angeles  California   \n",
       "\n",
       "        Postal Code Region       Product ID         Category Sub-Category  \\\n",
       "Row ID                                                                      \n",
       "1           42420.0  South  FUR-BO-10001798        Furniture    Bookcases   \n",
       "2           42420.0  South  FUR-CH-10000454        Furniture       Chairs   \n",
       "3           90036.0   West  OFF-LA-10000240  Office Supplies       Labels   \n",
       "\n",
       "                                             Product Name   Sales  \n",
       "Row ID                                                             \n",
       "1                       Bush Somerset Collection Bookcase  261.96  \n",
       "2       Hon Deluxe Fabric Upholstered Stacking Chairs,...  731.94  \n",
       "3       Self-Adhesive Address Labels for Typewriters b...   14.62  "
      ]
     },
     "execution_count": 3,
     "metadata": {},
     "output_type": "execute_result"
    }
   ],
   "source": [
    "df.head(3)"
   ]
  },
  {
   "cell_type": "markdown",
   "id": "3e459992",
   "metadata": {
    "papermill": {
     "duration": 0.008893,
     "end_time": "2023-02-14T15:54:05.706136",
     "exception": false,
     "start_time": "2023-02-14T15:54:05.697243",
     "status": "completed"
    },
    "tags": []
   },
   "source": [
    "### Предобработка данных"
   ]
  },
  {
   "cell_type": "code",
   "execution_count": 4,
   "id": "8b05a037",
   "metadata": {
    "execution": {
     "iopub.execute_input": "2023-02-14T15:54:05.726930Z",
     "iopub.status.busy": "2023-02-14T15:54:05.726104Z",
     "iopub.status.idle": "2023-02-14T15:54:05.751778Z",
     "shell.execute_reply": "2023-02-14T15:54:05.750598Z"
    },
    "papermill": {
     "duration": 0.039382,
     "end_time": "2023-02-14T15:54:05.754770",
     "exception": false,
     "start_time": "2023-02-14T15:54:05.715388",
     "status": "completed"
    },
    "tags": []
   },
   "outputs": [],
   "source": [
    "df['Order Date'] = pd.to_datetime(df['Order Date'], format = '%d/%m/%Y')\n",
    "df['Ship Date'] = pd.to_datetime(df['Ship Date'], format = '%d/%m/%Y')"
   ]
  },
  {
   "cell_type": "markdown",
   "id": "b4002d28",
   "metadata": {
    "papermill": {
     "duration": 0.009704,
     "end_time": "2023-02-14T15:54:05.773764",
     "exception": false,
     "start_time": "2023-02-14T15:54:05.764060",
     "status": "completed"
    },
    "tags": []
   },
   "source": [
    "Будем работать с данными за последний год"
   ]
  },
  {
   "cell_type": "code",
   "execution_count": 5,
   "id": "c5a315de",
   "metadata": {
    "execution": {
     "iopub.execute_input": "2023-02-14T15:54:05.794070Z",
     "iopub.status.busy": "2023-02-14T15:54:05.793350Z",
     "iopub.status.idle": "2023-02-14T15:54:05.804446Z",
     "shell.execute_reply": "2023-02-14T15:54:05.803425Z"
    },
    "papermill": {
     "duration": 0.024041,
     "end_time": "2023-02-14T15:54:05.806899",
     "exception": false,
     "start_time": "2023-02-14T15:54:05.782858",
     "status": "completed"
    },
    "tags": []
   },
   "outputs": [],
   "source": [
    "df = df[df['Order Date'] >= '2018-01-01']\n",
    "df = df.reset_index(drop = True)"
   ]
  },
  {
   "cell_type": "code",
   "execution_count": 6,
   "id": "9d95c165",
   "metadata": {
    "execution": {
     "iopub.execute_input": "2023-02-14T15:54:05.828233Z",
     "iopub.status.busy": "2023-02-14T15:54:05.827508Z",
     "iopub.status.idle": "2023-02-14T15:54:05.840931Z",
     "shell.execute_reply": "2023-02-14T15:54:05.839775Z"
    },
    "papermill": {
     "duration": 0.027051,
     "end_time": "2023-02-14T15:54:05.843313",
     "exception": false,
     "start_time": "2023-02-14T15:54:05.816262",
     "status": "completed"
    },
    "tags": []
   },
   "outputs": [
    {
     "data": {
      "text/html": [
       "<div>\n",
       "<style scoped>\n",
       "    .dataframe tbody tr th:only-of-type {\n",
       "        vertical-align: middle;\n",
       "    }\n",
       "\n",
       "    .dataframe tbody tr th {\n",
       "        vertical-align: top;\n",
       "    }\n",
       "\n",
       "    .dataframe thead th {\n",
       "        text-align: right;\n",
       "    }\n",
       "</style>\n",
       "<table border=\"1\" class=\"dataframe\">\n",
       "  <thead>\n",
       "    <tr style=\"text-align: right;\">\n",
       "      <th></th>\n",
       "      <th>Customer Name</th>\n",
       "      <th>City</th>\n",
       "      <th>State</th>\n",
       "    </tr>\n",
       "  </thead>\n",
       "  <tbody>\n",
       "    <tr>\n",
       "      <th>664</th>\n",
       "      <td>Quincy Jones</td>\n",
       "      <td>Burlington</td>\n",
       "      <td>Vermont</td>\n",
       "    </tr>\n",
       "    <tr>\n",
       "      <th>3120</th>\n",
       "      <td>Raymond Messe</td>\n",
       "      <td>Burlington</td>\n",
       "      <td>Vermont</td>\n",
       "    </tr>\n",
       "    <tr>\n",
       "      <th>3121</th>\n",
       "      <td>Raymond Messe</td>\n",
       "      <td>Burlington</td>\n",
       "      <td>Vermont</td>\n",
       "    </tr>\n",
       "    <tr>\n",
       "      <th>3122</th>\n",
       "      <td>Raymond Messe</td>\n",
       "      <td>Burlington</td>\n",
       "      <td>Vermont</td>\n",
       "    </tr>\n",
       "    <tr>\n",
       "      <th>3123</th>\n",
       "      <td>Raymond Messe</td>\n",
       "      <td>Burlington</td>\n",
       "      <td>Vermont</td>\n",
       "    </tr>\n",
       "  </tbody>\n",
       "</table>\n",
       "</div>"
      ],
      "text/plain": [
       "      Customer Name        City    State\n",
       "664    Quincy Jones  Burlington  Vermont\n",
       "3120  Raymond Messe  Burlington  Vermont\n",
       "3121  Raymond Messe  Burlington  Vermont\n",
       "3122  Raymond Messe  Burlington  Vermont\n",
       "3123  Raymond Messe  Burlington  Vermont"
      ]
     },
     "execution_count": 6,
     "metadata": {},
     "output_type": "execute_result"
    }
   ],
   "source": [
    "df[df['Postal Code'].isnull()][['Customer Name', 'City', 'State']]"
   ]
  },
  {
   "cell_type": "markdown",
   "id": "9c997d9f",
   "metadata": {
    "papermill": {
     "duration": 0.009042,
     "end_time": "2023-02-14T15:54:05.861881",
     "exception": false,
     "start_time": "2023-02-14T15:54:05.852839",
     "status": "completed"
    },
    "tags": []
   },
   "source": [
    "У покупателей из Burlington, Vermont не указан почтовый код. Стоит выяснить причину - по датасету не понять, там просто null, поэтому я бы сообщил команде. Почтовые коды Burlington, Vermont: 05401, 05402, 05405, 05406, 05408"
   ]
  },
  {
   "cell_type": "code",
   "execution_count": 7,
   "id": "e1693f21",
   "metadata": {
    "execution": {
     "iopub.execute_input": "2023-02-14T15:54:05.882773Z",
     "iopub.status.busy": "2023-02-14T15:54:05.881730Z",
     "iopub.status.idle": "2023-02-14T15:54:05.888789Z",
     "shell.execute_reply": "2023-02-14T15:54:05.887706Z"
    },
    "papermill": {
     "duration": 0.020066,
     "end_time": "2023-02-14T15:54:05.891377",
     "exception": false,
     "start_time": "2023-02-14T15:54:05.871311",
     "status": "completed"
    },
    "tags": []
   },
   "outputs": [],
   "source": [
    "df['Postal Code'] = df['Postal Code'].fillna(5401)\n",
    "df['Postal Code'] = df['Postal Code'].astype(int)"
   ]
  },
  {
   "cell_type": "code",
   "execution_count": 8,
   "id": "74cc8cfd",
   "metadata": {
    "execution": {
     "iopub.execute_input": "2023-02-14T15:54:05.912482Z",
     "iopub.status.busy": "2023-02-14T15:54:05.911774Z",
     "iopub.status.idle": "2023-02-14T15:54:05.918149Z",
     "shell.execute_reply": "2023-02-14T15:54:05.917212Z"
    },
    "papermill": {
     "duration": 0.019712,
     "end_time": "2023-02-14T15:54:05.920441",
     "exception": false,
     "start_time": "2023-02-14T15:54:05.900729",
     "status": "completed"
    },
    "tags": []
   },
   "outputs": [],
   "source": [
    "df['Delivery Time in Days'] = (df['Ship Date'] - df['Order Date']).dt.days"
   ]
  },
  {
   "cell_type": "code",
   "execution_count": 9,
   "id": "0a62a0c9",
   "metadata": {
    "execution": {
     "iopub.execute_input": "2023-02-14T15:54:05.941444Z",
     "iopub.status.busy": "2023-02-14T15:54:05.940507Z",
     "iopub.status.idle": "2023-02-14T15:54:05.962196Z",
     "shell.execute_reply": "2023-02-14T15:54:05.960895Z"
    },
    "papermill": {
     "duration": 0.034604,
     "end_time": "2023-02-14T15:54:05.964553",
     "exception": false,
     "start_time": "2023-02-14T15:54:05.929949",
     "status": "completed"
    },
    "tags": []
   },
   "outputs": [
    {
     "data": {
      "text/html": [
       "<div>\n",
       "<style scoped>\n",
       "    .dataframe tbody tr th:only-of-type {\n",
       "        vertical-align: middle;\n",
       "    }\n",
       "\n",
       "    .dataframe tbody tr th {\n",
       "        vertical-align: top;\n",
       "    }\n",
       "\n",
       "    .dataframe thead th {\n",
       "        text-align: right;\n",
       "    }\n",
       "</style>\n",
       "<table border=\"1\" class=\"dataframe\">\n",
       "  <thead>\n",
       "    <tr style=\"text-align: right;\">\n",
       "      <th></th>\n",
       "      <th>Order ID</th>\n",
       "      <th>Order Date</th>\n",
       "      <th>Ship Date</th>\n",
       "      <th>Ship Mode</th>\n",
       "      <th>Customer ID</th>\n",
       "      <th>Customer Name</th>\n",
       "      <th>Segment</th>\n",
       "      <th>Country</th>\n",
       "      <th>City</th>\n",
       "      <th>State</th>\n",
       "      <th>Postal Code</th>\n",
       "      <th>Region</th>\n",
       "      <th>Product ID</th>\n",
       "      <th>Category</th>\n",
       "      <th>Sub-Category</th>\n",
       "      <th>Product Name</th>\n",
       "      <th>Sales</th>\n",
       "      <th>Delivery Time in Days</th>\n",
       "    </tr>\n",
       "  </thead>\n",
       "  <tbody>\n",
       "    <tr>\n",
       "      <th>0</th>\n",
       "      <td>CA-2018-114412</td>\n",
       "      <td>2018-04-15</td>\n",
       "      <td>2018-04-20</td>\n",
       "      <td>Standard Class</td>\n",
       "      <td>AA-10480</td>\n",
       "      <td>Andrew Allen</td>\n",
       "      <td>Consumer</td>\n",
       "      <td>United States</td>\n",
       "      <td>Concord</td>\n",
       "      <td>North Carolina</td>\n",
       "      <td>28027</td>\n",
       "      <td>South</td>\n",
       "      <td>OFF-PA-10002365</td>\n",
       "      <td>Office Supplies</td>\n",
       "      <td>Paper</td>\n",
       "      <td>Xerox 1967</td>\n",
       "      <td>15.552</td>\n",
       "      <td>5</td>\n",
       "    </tr>\n",
       "    <tr>\n",
       "      <th>1</th>\n",
       "      <td>US-2018-156909</td>\n",
       "      <td>2018-07-16</td>\n",
       "      <td>2018-07-18</td>\n",
       "      <td>Second Class</td>\n",
       "      <td>SF-20065</td>\n",
       "      <td>Sandra Flanagan</td>\n",
       "      <td>Consumer</td>\n",
       "      <td>United States</td>\n",
       "      <td>Philadelphia</td>\n",
       "      <td>Pennsylvania</td>\n",
       "      <td>19140</td>\n",
       "      <td>East</td>\n",
       "      <td>FUR-CH-10002774</td>\n",
       "      <td>Furniture</td>\n",
       "      <td>Chairs</td>\n",
       "      <td>Global Deluxe Stacking Chair, Gray</td>\n",
       "      <td>71.372</td>\n",
       "      <td>2</td>\n",
       "    </tr>\n",
       "    <tr>\n",
       "      <th>2</th>\n",
       "      <td>CA-2018-107727</td>\n",
       "      <td>2018-10-19</td>\n",
       "      <td>2018-10-23</td>\n",
       "      <td>Second Class</td>\n",
       "      <td>MA-17560</td>\n",
       "      <td>Matt Abelman</td>\n",
       "      <td>Home Office</td>\n",
       "      <td>United States</td>\n",
       "      <td>Houston</td>\n",
       "      <td>Texas</td>\n",
       "      <td>77095</td>\n",
       "      <td>Central</td>\n",
       "      <td>OFF-PA-10000249</td>\n",
       "      <td>Office Supplies</td>\n",
       "      <td>Paper</td>\n",
       "      <td>Easy-staple paper</td>\n",
       "      <td>29.472</td>\n",
       "      <td>4</td>\n",
       "    </tr>\n",
       "    <tr>\n",
       "      <th>3</th>\n",
       "      <td>CA-2018-120999</td>\n",
       "      <td>2018-09-10</td>\n",
       "      <td>2018-09-15</td>\n",
       "      <td>Standard Class</td>\n",
       "      <td>LC-16930</td>\n",
       "      <td>Linda Cazamias</td>\n",
       "      <td>Corporate</td>\n",
       "      <td>United States</td>\n",
       "      <td>Naperville</td>\n",
       "      <td>Illinois</td>\n",
       "      <td>60540</td>\n",
       "      <td>Central</td>\n",
       "      <td>TEC-PH-10004093</td>\n",
       "      <td>Technology</td>\n",
       "      <td>Phones</td>\n",
       "      <td>Panasonic Kx-TS550</td>\n",
       "      <td>147.168</td>\n",
       "      <td>5</td>\n",
       "    </tr>\n",
       "    <tr>\n",
       "      <th>4</th>\n",
       "      <td>CA-2018-139619</td>\n",
       "      <td>2018-09-19</td>\n",
       "      <td>2018-09-23</td>\n",
       "      <td>Standard Class</td>\n",
       "      <td>ES-14080</td>\n",
       "      <td>Erin Smith</td>\n",
       "      <td>Corporate</td>\n",
       "      <td>United States</td>\n",
       "      <td>Melbourne</td>\n",
       "      <td>Florida</td>\n",
       "      <td>32935</td>\n",
       "      <td>South</td>\n",
       "      <td>OFF-ST-10003282</td>\n",
       "      <td>Office Supplies</td>\n",
       "      <td>Storage</td>\n",
       "      <td>Advantus 10-Drawer Portable Organizer, Chrome ...</td>\n",
       "      <td>95.616</td>\n",
       "      <td>4</td>\n",
       "    </tr>\n",
       "  </tbody>\n",
       "</table>\n",
       "</div>"
      ],
      "text/plain": [
       "         Order ID Order Date  Ship Date       Ship Mode Customer ID  \\\n",
       "0  CA-2018-114412 2018-04-15 2018-04-20  Standard Class    AA-10480   \n",
       "1  US-2018-156909 2018-07-16 2018-07-18    Second Class    SF-20065   \n",
       "2  CA-2018-107727 2018-10-19 2018-10-23    Second Class    MA-17560   \n",
       "3  CA-2018-120999 2018-09-10 2018-09-15  Standard Class    LC-16930   \n",
       "4  CA-2018-139619 2018-09-19 2018-09-23  Standard Class    ES-14080   \n",
       "\n",
       "     Customer Name      Segment        Country          City           State  \\\n",
       "0     Andrew Allen     Consumer  United States       Concord  North Carolina   \n",
       "1  Sandra Flanagan     Consumer  United States  Philadelphia    Pennsylvania   \n",
       "2     Matt Abelman  Home Office  United States       Houston           Texas   \n",
       "3   Linda Cazamias    Corporate  United States    Naperville        Illinois   \n",
       "4       Erin Smith    Corporate  United States     Melbourne         Florida   \n",
       "\n",
       "   Postal Code   Region       Product ID         Category Sub-Category  \\\n",
       "0        28027    South  OFF-PA-10002365  Office Supplies        Paper   \n",
       "1        19140     East  FUR-CH-10002774        Furniture       Chairs   \n",
       "2        77095  Central  OFF-PA-10000249  Office Supplies        Paper   \n",
       "3        60540  Central  TEC-PH-10004093       Technology       Phones   \n",
       "4        32935    South  OFF-ST-10003282  Office Supplies      Storage   \n",
       "\n",
       "                                        Product Name    Sales  \\\n",
       "0                                         Xerox 1967   15.552   \n",
       "1                 Global Deluxe Stacking Chair, Gray   71.372   \n",
       "2                                  Easy-staple paper   29.472   \n",
       "3                                 Panasonic Kx-TS550  147.168   \n",
       "4  Advantus 10-Drawer Portable Organizer, Chrome ...   95.616   \n",
       "\n",
       "   Delivery Time in Days  \n",
       "0                      5  \n",
       "1                      2  \n",
       "2                      4  \n",
       "3                      5  \n",
       "4                      4  "
      ]
     },
     "execution_count": 9,
     "metadata": {},
     "output_type": "execute_result"
    }
   ],
   "source": [
    "df.head()"
   ]
  },
  {
   "cell_type": "code",
   "execution_count": 10,
   "id": "9f5331c0",
   "metadata": {
    "execution": {
     "iopub.execute_input": "2023-02-14T15:54:05.986362Z",
     "iopub.status.busy": "2023-02-14T15:54:05.985957Z",
     "iopub.status.idle": "2023-02-14T15:54:06.006211Z",
     "shell.execute_reply": "2023-02-14T15:54:06.004878Z"
    },
    "papermill": {
     "duration": 0.034135,
     "end_time": "2023-02-14T15:54:06.008657",
     "exception": false,
     "start_time": "2023-02-14T15:54:05.974522",
     "status": "completed"
    },
    "tags": []
   },
   "outputs": [
    {
     "name": "stdout",
     "output_type": "stream",
     "text": [
      "<class 'pandas.core.frame.DataFrame'>\n",
      "RangeIndex: 3258 entries, 0 to 3257\n",
      "Data columns (total 18 columns):\n",
      " #   Column                 Non-Null Count  Dtype         \n",
      "---  ------                 --------------  -----         \n",
      " 0   Order ID               3258 non-null   object        \n",
      " 1   Order Date             3258 non-null   datetime64[ns]\n",
      " 2   Ship Date              3258 non-null   datetime64[ns]\n",
      " 3   Ship Mode              3258 non-null   object        \n",
      " 4   Customer ID            3258 non-null   object        \n",
      " 5   Customer Name          3258 non-null   object        \n",
      " 6   Segment                3258 non-null   object        \n",
      " 7   Country                3258 non-null   object        \n",
      " 8   City                   3258 non-null   object        \n",
      " 9   State                  3258 non-null   object        \n",
      " 10  Postal Code            3258 non-null   int64         \n",
      " 11  Region                 3258 non-null   object        \n",
      " 12  Product ID             3258 non-null   object        \n",
      " 13  Category               3258 non-null   object        \n",
      " 14  Sub-Category           3258 non-null   object        \n",
      " 15  Product Name           3258 non-null   object        \n",
      " 16  Sales                  3258 non-null   float64       \n",
      " 17  Delivery Time in Days  3258 non-null   int64         \n",
      "dtypes: datetime64[ns](2), float64(1), int64(2), object(13)\n",
      "memory usage: 458.3+ KB\n"
     ]
    }
   ],
   "source": [
    "df.info()"
   ]
  },
  {
   "cell_type": "markdown",
   "id": "e7ea5871",
   "metadata": {
    "papermill": {
     "duration": 0.009679,
     "end_time": "2023-02-14T15:54:06.028341",
     "exception": false,
     "start_time": "2023-02-14T15:54:06.018662",
     "status": "completed"
    },
    "tags": []
   },
   "source": [
    "## Рассчёт метрик"
   ]
  },
  {
   "cell_type": "markdown",
   "id": "18480f48",
   "metadata": {
    "papermill": {
     "duration": 0.009421,
     "end_time": "2023-02-14T15:54:06.047734",
     "exception": false,
     "start_time": "2023-02-14T15:54:06.038313",
     "status": "completed"
    },
    "tags": []
   },
   "source": [
    "- DAU, WAU, MAU - аудитория в день, неделю, месяц\n",
    "- Retention - кол-во пользователей, возвращающееся в продукт через Х временных периодов\n",
    "- Средний чек и выручка по месяцам\n",
    "- LTV (Life Time Value) - суммарные траты пользователя"
   ]
  },
  {
   "cell_type": "markdown",
   "id": "d2190799",
   "metadata": {
    "papermill": {
     "duration": 0.009457,
     "end_time": "2023-02-14T15:54:06.067053",
     "exception": false,
     "start_time": "2023-02-14T15:54:06.057596",
     "status": "completed"
    },
    "tags": []
   },
   "source": [
    "### Active Users, Retention"
   ]
  },
  {
   "cell_type": "code",
   "execution_count": 11,
   "id": "ed0ee992",
   "metadata": {
    "execution": {
     "iopub.execute_input": "2023-02-14T15:54:06.089873Z",
     "iopub.status.busy": "2023-02-14T15:54:06.089227Z",
     "iopub.status.idle": "2023-02-14T15:54:06.107043Z",
     "shell.execute_reply": "2023-02-14T15:54:06.105916Z"
    },
    "papermill": {
     "duration": 0.032305,
     "end_time": "2023-02-14T15:54:06.109662",
     "exception": false,
     "start_time": "2023-02-14T15:54:06.077357",
     "status": "completed"
    },
    "tags": []
   },
   "outputs": [],
   "source": [
    "ret_df = pd.DataFrame(columns = ['Customer ID'])\n",
    "ret_df['Customer ID'] = df['Customer ID']\n",
    "\n",
    "ret_df['Order Date'] = df['Order Date']\n",
    "ret_df['Order Day'] = df['Order Date'].dt.day\n",
    "ret_df['Order Week'] = df['Order Date'].dt.isocalendar().week\n",
    "ret_df['Order Month'] = df['Order Date'].dt.month\n",
    "ret_df['Order Year'] = df['Order Date'].dt.year"
   ]
  },
  {
   "cell_type": "code",
   "execution_count": 12,
   "id": "2ed23540",
   "metadata": {
    "execution": {
     "iopub.execute_input": "2023-02-14T15:54:06.132375Z",
     "iopub.status.busy": "2023-02-14T15:54:06.131939Z",
     "iopub.status.idle": "2023-02-14T15:54:06.144692Z",
     "shell.execute_reply": "2023-02-14T15:54:06.143385Z"
    },
    "papermill": {
     "duration": 0.026723,
     "end_time": "2023-02-14T15:54:06.147007",
     "exception": false,
     "start_time": "2023-02-14T15:54:06.120284",
     "status": "completed"
    },
    "tags": []
   },
   "outputs": [
    {
     "data": {
      "text/html": [
       "<div>\n",
       "<style scoped>\n",
       "    .dataframe tbody tr th:only-of-type {\n",
       "        vertical-align: middle;\n",
       "    }\n",
       "\n",
       "    .dataframe tbody tr th {\n",
       "        vertical-align: top;\n",
       "    }\n",
       "\n",
       "    .dataframe thead th {\n",
       "        text-align: right;\n",
       "    }\n",
       "</style>\n",
       "<table border=\"1\" class=\"dataframe\">\n",
       "  <thead>\n",
       "    <tr style=\"text-align: right;\">\n",
       "      <th></th>\n",
       "      <th>Customer ID</th>\n",
       "      <th>Order Date</th>\n",
       "      <th>Order Day</th>\n",
       "      <th>Order Week</th>\n",
       "      <th>Order Month</th>\n",
       "      <th>Order Year</th>\n",
       "    </tr>\n",
       "  </thead>\n",
       "  <tbody>\n",
       "    <tr>\n",
       "      <th>0</th>\n",
       "      <td>AA-10480</td>\n",
       "      <td>2018-04-15</td>\n",
       "      <td>15</td>\n",
       "      <td>15</td>\n",
       "      <td>4</td>\n",
       "      <td>2018</td>\n",
       "    </tr>\n",
       "    <tr>\n",
       "      <th>1</th>\n",
       "      <td>SF-20065</td>\n",
       "      <td>2018-07-16</td>\n",
       "      <td>16</td>\n",
       "      <td>29</td>\n",
       "      <td>7</td>\n",
       "      <td>2018</td>\n",
       "    </tr>\n",
       "    <tr>\n",
       "      <th>2</th>\n",
       "      <td>MA-17560</td>\n",
       "      <td>2018-10-19</td>\n",
       "      <td>19</td>\n",
       "      <td>42</td>\n",
       "      <td>10</td>\n",
       "      <td>2018</td>\n",
       "    </tr>\n",
       "  </tbody>\n",
       "</table>\n",
       "</div>"
      ],
      "text/plain": [
       "  Customer ID Order Date  Order Day  Order Week  Order Month  Order Year\n",
       "0    AA-10480 2018-04-15         15          15            4        2018\n",
       "1    SF-20065 2018-07-16         16          29            7        2018\n",
       "2    MA-17560 2018-10-19         19          42           10        2018"
      ]
     },
     "execution_count": 12,
     "metadata": {},
     "output_type": "execute_result"
    }
   ],
   "source": [
    "ret_df.head(3)"
   ]
  },
  {
   "cell_type": "code",
   "execution_count": 13,
   "id": "f587643a",
   "metadata": {
    "execution": {
     "iopub.execute_input": "2023-02-14T15:54:06.168983Z",
     "iopub.status.busy": "2023-02-14T15:54:06.168604Z",
     "iopub.status.idle": "2023-02-14T15:54:06.189835Z",
     "shell.execute_reply": "2023-02-14T15:54:06.189025Z"
    },
    "papermill": {
     "duration": 0.035129,
     "end_time": "2023-02-14T15:54:06.192233",
     "exception": false,
     "start_time": "2023-02-14T15:54:06.157104",
     "status": "completed"
    },
    "tags": []
   },
   "outputs": [
    {
     "name": "stdout",
     "output_type": "stream",
     "text": [
      "DAU = 5.14 человек в день\n",
      "WAU = 31.13 человек в неделю\n",
      "MAU = 125.33 человек в месяц\n"
     ]
    }
   ],
   "source": [
    "DAU = ret_df.groupby('Order Date').agg({'Customer ID': 'nunique'}).mean()\n",
    "print(\"DAU = {0:.2f} человек в день\".format(DAU[0]))\n",
    "\n",
    "WAU = ret_df.groupby('Order Week').agg({'Customer ID': 'nunique'}).mean()\n",
    "print(\"WAU = {0:.2f} человек в неделю\".format(WAU[0]))\n",
    "\n",
    "MAU = ret_df.groupby('Order Month').agg({'Customer ID': 'nunique'}).mean()\n",
    "print(\"MAU = {0:.2f} человек в месяц\".format(MAU[0]))"
   ]
  },
  {
   "cell_type": "code",
   "execution_count": 14,
   "id": "94aa467b",
   "metadata": {
    "execution": {
     "iopub.execute_input": "2023-02-14T15:54:06.214842Z",
     "iopub.status.busy": "2023-02-14T15:54:06.214443Z",
     "iopub.status.idle": "2023-02-14T15:54:06.231906Z",
     "shell.execute_reply": "2023-02-14T15:54:06.230719Z"
    },
    "papermill": {
     "duration": 0.03161,
     "end_time": "2023-02-14T15:54:06.234222",
     "exception": false,
     "start_time": "2023-02-14T15:54:06.202612",
     "status": "completed"
    },
    "tags": []
   },
   "outputs": [
    {
     "data": {
      "text/html": [
       "<div>\n",
       "<style scoped>\n",
       "    .dataframe tbody tr th:only-of-type {\n",
       "        vertical-align: middle;\n",
       "    }\n",
       "\n",
       "    .dataframe tbody tr th {\n",
       "        vertical-align: top;\n",
       "    }\n",
       "\n",
       "    .dataframe thead th {\n",
       "        text-align: right;\n",
       "    }\n",
       "</style>\n",
       "<table border=\"1\" class=\"dataframe\">\n",
       "  <thead>\n",
       "    <tr style=\"text-align: right;\">\n",
       "      <th></th>\n",
       "      <th>Customer ID</th>\n",
       "      <th>First Order Date</th>\n",
       "    </tr>\n",
       "  </thead>\n",
       "  <tbody>\n",
       "    <tr>\n",
       "      <th>0</th>\n",
       "      <td>AA-10315</td>\n",
       "      <td>2018-06-29</td>\n",
       "    </tr>\n",
       "    <tr>\n",
       "      <th>1</th>\n",
       "      <td>AA-10375</td>\n",
       "      <td>2018-09-07</td>\n",
       "    </tr>\n",
       "    <tr>\n",
       "      <th>2</th>\n",
       "      <td>AA-10480</td>\n",
       "      <td>2018-04-15</td>\n",
       "    </tr>\n",
       "  </tbody>\n",
       "</table>\n",
       "</div>"
      ],
      "text/plain": [
       "  Customer ID First Order Date\n",
       "0    AA-10315       2018-06-29\n",
       "1    AA-10375       2018-09-07\n",
       "2    AA-10480       2018-04-15"
      ]
     },
     "execution_count": 14,
     "metadata": {},
     "output_type": "execute_result"
    }
   ],
   "source": [
    "first_orders_df = df.groupby(['Customer ID'])['Order Date'].min().reset_index()\n",
    "first_orders_df.columns = ['Customer ID', 'First Order Date']\n",
    "first_orders_df.head(3)"
   ]
  },
  {
   "cell_type": "code",
   "execution_count": 15,
   "id": "4ae4abc1",
   "metadata": {
    "execution": {
     "iopub.execute_input": "2023-02-14T15:54:06.257203Z",
     "iopub.status.busy": "2023-02-14T15:54:06.256154Z",
     "iopub.status.idle": "2023-02-14T15:54:06.284644Z",
     "shell.execute_reply": "2023-02-14T15:54:06.283548Z"
    },
    "papermill": {
     "duration": 0.042377,
     "end_time": "2023-02-14T15:54:06.287018",
     "exception": false,
     "start_time": "2023-02-14T15:54:06.244641",
     "status": "completed"
    },
    "tags": []
   },
   "outputs": [
    {
     "data": {
      "text/html": [
       "<div>\n",
       "<style scoped>\n",
       "    .dataframe tbody tr th:only-of-type {\n",
       "        vertical-align: middle;\n",
       "    }\n",
       "\n",
       "    .dataframe tbody tr th {\n",
       "        vertical-align: top;\n",
       "    }\n",
       "\n",
       "    .dataframe thead th {\n",
       "        text-align: right;\n",
       "    }\n",
       "</style>\n",
       "<table border=\"1\" class=\"dataframe\">\n",
       "  <thead>\n",
       "    <tr style=\"text-align: right;\">\n",
       "      <th></th>\n",
       "      <th>Customer ID</th>\n",
       "      <th>Order Date</th>\n",
       "      <th>Order Day</th>\n",
       "      <th>Order Week</th>\n",
       "      <th>Order Month</th>\n",
       "      <th>Order Year</th>\n",
       "      <th>First Order Date</th>\n",
       "    </tr>\n",
       "  </thead>\n",
       "  <tbody>\n",
       "    <tr>\n",
       "      <th>0</th>\n",
       "      <td>AA-10480</td>\n",
       "      <td>2018-04-15</td>\n",
       "      <td>15</td>\n",
       "      <td>15</td>\n",
       "      <td>4</td>\n",
       "      <td>2018</td>\n",
       "      <td>2018-04-15</td>\n",
       "    </tr>\n",
       "    <tr>\n",
       "      <th>1</th>\n",
       "      <td>SF-20065</td>\n",
       "      <td>2018-07-16</td>\n",
       "      <td>16</td>\n",
       "      <td>29</td>\n",
       "      <td>7</td>\n",
       "      <td>2018</td>\n",
       "      <td>2018-07-16</td>\n",
       "    </tr>\n",
       "    <tr>\n",
       "      <th>2</th>\n",
       "      <td>SF-20065</td>\n",
       "      <td>2018-11-01</td>\n",
       "      <td>1</td>\n",
       "      <td>44</td>\n",
       "      <td>11</td>\n",
       "      <td>2018</td>\n",
       "      <td>2018-07-16</td>\n",
       "    </tr>\n",
       "  </tbody>\n",
       "</table>\n",
       "</div>"
      ],
      "text/plain": [
       "  Customer ID Order Date  Order Day  Order Week  Order Month  Order Year  \\\n",
       "0    AA-10480 2018-04-15         15          15            4        2018   \n",
       "1    SF-20065 2018-07-16         16          29            7        2018   \n",
       "2    SF-20065 2018-11-01          1          44           11        2018   \n",
       "\n",
       "  First Order Date  \n",
       "0       2018-04-15  \n",
       "1       2018-07-16  \n",
       "2       2018-07-16  "
      ]
     },
     "execution_count": 15,
     "metadata": {},
     "output_type": "execute_result"
    }
   ],
   "source": [
    "ret_df = ret_df.merge(first_orders_df)\n",
    "ret_df.head(3)"
   ]
  },
  {
   "cell_type": "code",
   "execution_count": 16,
   "id": "271ebe15",
   "metadata": {
    "execution": {
     "iopub.execute_input": "2023-02-14T15:54:06.310300Z",
     "iopub.status.busy": "2023-02-14T15:54:06.309667Z",
     "iopub.status.idle": "2023-02-14T15:54:06.319673Z",
     "shell.execute_reply": "2023-02-14T15:54:06.318491Z"
    },
    "papermill": {
     "duration": 0.024716,
     "end_time": "2023-02-14T15:54:06.322389",
     "exception": false,
     "start_time": "2023-02-14T15:54:06.297673",
     "status": "completed"
    },
    "tags": []
   },
   "outputs": [],
   "source": [
    "ret_df['First Order Month'] = ret_df['First Order Date'].astype('datetime64[M]')\n",
    "ret_df['Order Month DT'] = ret_df['Order Date'].astype('datetime64[M]')\n",
    "\n",
    "ret_df['Lifetime'] = (ret_df['Order Month DT'] - ret_df['First Order Month']) / np.timedelta64(1, 'M')\n",
    "ret_df['Lifetime'] = ret_df['Lifetime'].round().astype('int')"
   ]
  },
  {
   "cell_type": "code",
   "execution_count": 17,
   "id": "53f8e6c0",
   "metadata": {
    "execution": {
     "iopub.execute_input": "2023-02-14T15:54:06.345404Z",
     "iopub.status.busy": "2023-02-14T15:54:06.344962Z",
     "iopub.status.idle": "2023-02-14T15:54:06.365289Z",
     "shell.execute_reply": "2023-02-14T15:54:06.364064Z"
    },
    "papermill": {
     "duration": 0.034526,
     "end_time": "2023-02-14T15:54:06.367666",
     "exception": false,
     "start_time": "2023-02-14T15:54:06.333140",
     "status": "completed"
    },
    "tags": []
   },
   "outputs": [
    {
     "data": {
      "text/html": [
       "<div>\n",
       "<style scoped>\n",
       "    .dataframe tbody tr th:only-of-type {\n",
       "        vertical-align: middle;\n",
       "    }\n",
       "\n",
       "    .dataframe tbody tr th {\n",
       "        vertical-align: top;\n",
       "    }\n",
       "\n",
       "    .dataframe thead th {\n",
       "        text-align: right;\n",
       "    }\n",
       "</style>\n",
       "<table border=\"1\" class=\"dataframe\">\n",
       "  <thead>\n",
       "    <tr style=\"text-align: right;\">\n",
       "      <th></th>\n",
       "      <th>First Order Month</th>\n",
       "      <th>f_ID</th>\n",
       "    </tr>\n",
       "  </thead>\n",
       "  <tbody>\n",
       "    <tr>\n",
       "      <th>0</th>\n",
       "      <td>2018-01-01</td>\n",
       "      <td>66</td>\n",
       "    </tr>\n",
       "    <tr>\n",
       "      <th>12</th>\n",
       "      <td>2018-02-01</td>\n",
       "      <td>49</td>\n",
       "    </tr>\n",
       "    <tr>\n",
       "      <th>23</th>\n",
       "      <td>2018-03-01</td>\n",
       "      <td>100</td>\n",
       "    </tr>\n",
       "    <tr>\n",
       "      <th>33</th>\n",
       "      <td>2018-04-01</td>\n",
       "      <td>77</td>\n",
       "    </tr>\n",
       "    <tr>\n",
       "      <th>42</th>\n",
       "      <td>2018-05-01</td>\n",
       "      <td>70</td>\n",
       "    </tr>\n",
       "  </tbody>\n",
       "</table>\n",
       "</div>"
      ],
      "text/plain": [
       "   First Order Month  f_ID\n",
       "0         2018-01-01    66\n",
       "12        2018-02-01    49\n",
       "23        2018-03-01   100\n",
       "33        2018-04-01    77\n",
       "42        2018-05-01    70"
      ]
     },
     "execution_count": 17,
     "metadata": {},
     "output_type": "execute_result"
    }
   ],
   "source": [
    "cohort_ret_df = ret_df.groupby(['First Order Month', 'Lifetime']).agg({'Customer ID': 'nunique'}).reset_index()\n",
    "f_ID = cohort_ret_df[cohort_ret_df['Lifetime'] == 0][['First Order Month', 'Customer ID']]\n",
    "f_ID.columns = ['First Order Month', 'f_ID']\n",
    "f_ID.head()"
   ]
  },
  {
   "cell_type": "code",
   "execution_count": 18,
   "id": "24580c78",
   "metadata": {
    "execution": {
     "iopub.execute_input": "2023-02-14T15:54:06.391342Z",
     "iopub.status.busy": "2023-02-14T15:54:06.390888Z",
     "iopub.status.idle": "2023-02-14T15:54:06.417129Z",
     "shell.execute_reply": "2023-02-14T15:54:06.416301Z"
    },
    "papermill": {
     "duration": 0.040702,
     "end_time": "2023-02-14T15:54:06.419228",
     "exception": false,
     "start_time": "2023-02-14T15:54:06.378526",
     "status": "completed"
    },
    "tags": []
   },
   "outputs": [
    {
     "data": {
      "text/plain": [
       "Lifetime\n",
       "0     100.000000\n",
       "1      14.454058\n",
       "2      17.109362\n",
       "3      20.294266\n",
       "4      18.394511\n",
       "5      17.018751\n",
       "6      21.277845\n",
       "7      23.543599\n",
       "8      25.789889\n",
       "9      21.735931\n",
       "10     26.406926\n",
       "11     25.757576\n",
       "dtype: float64"
      ]
     },
     "execution_count": 18,
     "metadata": {},
     "output_type": "execute_result"
    }
   ],
   "source": [
    "cohort_ret_df = cohort_ret_df.merge(f_ID)\n",
    "cohort_ret_df['Retention'] = cohort_ret_df['Customer ID'] / cohort_ret_df['f_ID']\n",
    "orders_retention_pivot = cohort_ret_df.pivot_table(index = 'First Order Month', \n",
    "                                                   columns = 'Lifetime', \n",
    "                                                   values = 'Retention', \n",
    "                                                   aggfunc = 'sum')\n",
    "\n",
    "orders_retention_pivot.mean() * 100"
   ]
  },
  {
   "cell_type": "code",
   "execution_count": 19,
   "id": "47c442f9",
   "metadata": {
    "execution": {
     "iopub.execute_input": "2023-02-14T15:54:06.443565Z",
     "iopub.status.busy": "2023-02-14T15:54:06.442575Z",
     "iopub.status.idle": "2023-02-14T15:54:07.198875Z",
     "shell.execute_reply": "2023-02-14T15:54:07.197948Z"
    },
    "papermill": {
     "duration": 0.771411,
     "end_time": "2023-02-14T15:54:07.201948",
     "exception": false,
     "start_time": "2023-02-14T15:54:06.430537",
     "status": "completed"
    },
    "tags": []
   },
   "outputs": [
    {
     "data": {
      "image/png": "[encoded data removed]",
      "text/plain": [
       "<Figure size 1296x864 with 2 Axes>"
      ]
     },
     "metadata": {},
     "output_type": "display_data"
    }
   ],
   "source": [
    "sns.set(style = 'whitegrid')\n",
    "plt.figure(figsize = (18, 12))\n",
    "plt.title('Retention')\n",
    "\n",
    "ax = sns.heatmap(orders_retention_pivot, annot=True, fmt='.2%', linewidths=1, linecolor='white')\n",
    "ax.set_yticklabels(orders_retention_pivot.index.date)\n",
    "plt.show()"
   ]
  },
  {
   "cell_type": "markdown",
   "id": "0280da1d",
   "metadata": {
    "papermill": {
     "duration": 0.01202,
     "end_time": "2023-02-14T15:54:07.226856",
     "exception": false,
     "start_time": "2023-02-14T15:54:07.214836",
     "status": "completed"
    },
    "tags": []
   },
   "source": [
    "Retention вырос в сентябре и ноябре-декабре \\\n",
    "Половина покупателей, пришедших в августе, вернулись в ноябре"
   ]
  },
  {
   "cell_type": "markdown",
   "id": "40fe4870",
   "metadata": {
    "papermill": {
     "duration": 0.012016,
     "end_time": "2023-02-14T15:54:07.251544",
     "exception": false,
     "start_time": "2023-02-14T15:54:07.239528",
     "status": "completed"
    },
    "tags": []
   },
   "source": [
    "### Средний чек, LTV"
   ]
  },
  {
   "cell_type": "code",
   "execution_count": 20,
   "id": "8f467c92",
   "metadata": {
    "execution": {
     "iopub.execute_input": "2023-02-14T15:54:07.278497Z",
     "iopub.status.busy": "2023-02-14T15:54:07.277744Z",
     "iopub.status.idle": "2023-02-14T15:54:07.290809Z",
     "shell.execute_reply": "2023-02-14T15:54:07.289741Z"
    },
    "papermill": {
     "duration": 0.029224,
     "end_time": "2023-02-14T15:54:07.293128",
     "exception": false,
     "start_time": "2023-02-14T15:54:07.263904",
     "status": "completed"
    },
    "tags": []
   },
   "outputs": [
    {
     "data": {
      "text/html": [
       "<div>\n",
       "<style scoped>\n",
       "    .dataframe tbody tr th:only-of-type {\n",
       "        vertical-align: middle;\n",
       "    }\n",
       "\n",
       "    .dataframe tbody tr th {\n",
       "        vertical-align: top;\n",
       "    }\n",
       "\n",
       "    .dataframe thead th {\n",
       "        text-align: right;\n",
       "    }\n",
       "</style>\n",
       "<table border=\"1\" class=\"dataframe\">\n",
       "  <thead>\n",
       "    <tr style=\"text-align: right;\">\n",
       "      <th></th>\n",
       "      <th>Customer ID</th>\n",
       "      <th>Order Date</th>\n",
       "      <th>Sales</th>\n",
       "    </tr>\n",
       "  </thead>\n",
       "  <tbody>\n",
       "    <tr>\n",
       "      <th>0</th>\n",
       "      <td>AA-10480</td>\n",
       "      <td>2018-04-15</td>\n",
       "      <td>15.552</td>\n",
       "    </tr>\n",
       "    <tr>\n",
       "      <th>1</th>\n",
       "      <td>SF-20065</td>\n",
       "      <td>2018-07-16</td>\n",
       "      <td>71.372</td>\n",
       "    </tr>\n",
       "    <tr>\n",
       "      <th>2</th>\n",
       "      <td>MA-17560</td>\n",
       "      <td>2018-10-19</td>\n",
       "      <td>29.472</td>\n",
       "    </tr>\n",
       "  </tbody>\n",
       "</table>\n",
       "</div>"
      ],
      "text/plain": [
       "  Customer ID Order Date   Sales\n",
       "0    AA-10480 2018-04-15  15.552\n",
       "1    SF-20065 2018-07-16  71.372\n",
       "2    MA-17560 2018-10-19  29.472"
      ]
     },
     "execution_count": 20,
     "metadata": {},
     "output_type": "execute_result"
    }
   ],
   "source": [
    "ltv_df = df[['Customer ID', 'Order Date', 'Sales']]\n",
    "ltv_df.head(3)"
   ]
  },
  {
   "cell_type": "code",
   "execution_count": 21,
   "id": "a64775ad",
   "metadata": {
    "execution": {
     "iopub.execute_input": "2023-02-14T15:54:07.324379Z",
     "iopub.status.busy": "2023-02-14T15:54:07.323662Z",
     "iopub.status.idle": "2023-02-14T15:54:07.348521Z",
     "shell.execute_reply": "2023-02-14T15:54:07.347164Z"
    },
    "papermill": {
     "duration": 0.041629,
     "end_time": "2023-02-14T15:54:07.351228",
     "exception": false,
     "start_time": "2023-02-14T15:54:07.309599",
     "status": "completed"
    },
    "tags": []
   },
   "outputs": [
    {
     "data": {
      "text/html": [
       "<div>\n",
       "<style scoped>\n",
       "    .dataframe tbody tr th:only-of-type {\n",
       "        vertical-align: middle;\n",
       "    }\n",
       "\n",
       "    .dataframe tbody tr th {\n",
       "        vertical-align: top;\n",
       "    }\n",
       "\n",
       "    .dataframe thead th {\n",
       "        text-align: right;\n",
       "    }\n",
       "</style>\n",
       "<table border=\"1\" class=\"dataframe\">\n",
       "  <thead>\n",
       "    <tr style=\"text-align: right;\">\n",
       "      <th></th>\n",
       "      <th>Customer ID</th>\n",
       "      <th>Order Date</th>\n",
       "      <th>Sales</th>\n",
       "      <th>Order Day</th>\n",
       "      <th>Order Week</th>\n",
       "      <th>Order Month</th>\n",
       "      <th>Order Year</th>\n",
       "      <th>First Order Date</th>\n",
       "      <th>First Order Month</th>\n",
       "      <th>Order Month DT</th>\n",
       "      <th>Lifetime</th>\n",
       "    </tr>\n",
       "  </thead>\n",
       "  <tbody>\n",
       "    <tr>\n",
       "      <th>0</th>\n",
       "      <td>AA-10480</td>\n",
       "      <td>2018-04-15</td>\n",
       "      <td>15.552</td>\n",
       "      <td>15</td>\n",
       "      <td>15</td>\n",
       "      <td>4</td>\n",
       "      <td>2018</td>\n",
       "      <td>2018-04-15</td>\n",
       "      <td>2018-04-01</td>\n",
       "      <td>2018-04-01</td>\n",
       "      <td>0</td>\n",
       "    </tr>\n",
       "    <tr>\n",
       "      <th>1</th>\n",
       "      <td>SF-20065</td>\n",
       "      <td>2018-07-16</td>\n",
       "      <td>71.372</td>\n",
       "      <td>16</td>\n",
       "      <td>29</td>\n",
       "      <td>7</td>\n",
       "      <td>2018</td>\n",
       "      <td>2018-07-16</td>\n",
       "      <td>2018-07-01</td>\n",
       "      <td>2018-07-01</td>\n",
       "      <td>0</td>\n",
       "    </tr>\n",
       "    <tr>\n",
       "      <th>2</th>\n",
       "      <td>MA-17560</td>\n",
       "      <td>2018-10-19</td>\n",
       "      <td>29.472</td>\n",
       "      <td>19</td>\n",
       "      <td>42</td>\n",
       "      <td>10</td>\n",
       "      <td>2018</td>\n",
       "      <td>2018-10-19</td>\n",
       "      <td>2018-10-01</td>\n",
       "      <td>2018-10-01</td>\n",
       "      <td>0</td>\n",
       "    </tr>\n",
       "  </tbody>\n",
       "</table>\n",
       "</div>"
      ],
      "text/plain": [
       "  Customer ID Order Date   Sales  Order Day  Order Week  Order Month  \\\n",
       "0    AA-10480 2018-04-15  15.552         15          15            4   \n",
       "1    SF-20065 2018-07-16  71.372         16          29            7   \n",
       "2    MA-17560 2018-10-19  29.472         19          42           10   \n",
       "\n",
       "   Order Year First Order Date First Order Month Order Month DT  Lifetime  \n",
       "0        2018       2018-04-15        2018-04-01     2018-04-01         0  \n",
       "1        2018       2018-07-16        2018-07-01     2018-07-01         0  \n",
       "2        2018       2018-10-19        2018-10-01     2018-10-01         0  "
      ]
     },
     "execution_count": 21,
     "metadata": {},
     "output_type": "execute_result"
    }
   ],
   "source": [
    "ltv_df = ltv_df.merge(ret_df)\n",
    "ltv_df.head(3)"
   ]
  },
  {
   "cell_type": "code",
   "execution_count": 22,
   "id": "6cd0d304",
   "metadata": {
    "execution": {
     "iopub.execute_input": "2023-02-14T15:54:07.378931Z",
     "iopub.status.busy": "2023-02-14T15:54:07.378096Z",
     "iopub.status.idle": "2023-02-14T15:54:07.874184Z",
     "shell.execute_reply": "2023-02-14T15:54:07.873044Z"
    },
    "papermill": {
     "duration": 0.512946,
     "end_time": "2023-02-14T15:54:07.876853",
     "exception": false,
     "start_time": "2023-02-14T15:54:07.363907",
     "status": "completed"
    },
    "tags": []
   },
   "outputs": [
    {
     "data": {
      "text/plain": [
       "[Text(0, 0.5, 'Число заказов'), Text(0.5, 0, 'Дата заказа')]"
      ]
     },
     "execution_count": 22,
     "metadata": {},
     "output_type": "execute_result"
    },
    {
     "data": {
      "image/png": "[encoded data removed]",
      "text/plain": [
       "<Figure size 1296x576 with 1 Axes>"
      ]
     },
     "metadata": {},
     "output_type": "display_data"
    }
   ],
   "source": [
    "plt.figure(figsize=(18,8))\n",
    "plt.title('Динамика числа заказов')\n",
    "sns.lineplot(data = ltv_df.groupby('Order Date')['Customer ID'].count()).set(ylabel = 'Число заказов', xlabel = 'Дата заказа')"
   ]
  },
  {
   "cell_type": "markdown",
   "id": "11169926",
   "metadata": {
    "papermill": {
     "duration": 0.014976,
     "end_time": "2023-02-14T15:54:07.907219",
     "exception": false,
     "start_time": "2023-02-14T15:54:07.892243",
     "status": "completed"
    },
    "tags": []
   },
   "source": [
    "Наблюдается резкое увеличение количества заказов в сентябре"
   ]
  },
  {
   "cell_type": "code",
   "execution_count": 23,
   "id": "6afc1f18",
   "metadata": {
    "execution": {
     "iopub.execute_input": "2023-02-14T15:54:07.938971Z",
     "iopub.status.busy": "2023-02-14T15:54:07.938551Z",
     "iopub.status.idle": "2023-02-14T15:54:07.950091Z",
     "shell.execute_reply": "2023-02-14T15:54:07.948088Z"
    },
    "papermill": {
     "duration": 0.03048,
     "end_time": "2023-02-14T15:54:07.952664",
     "exception": false,
     "start_time": "2023-02-14T15:54:07.922184",
     "status": "completed"
    },
    "tags": []
   },
   "outputs": [
    {
     "name": "stdout",
     "output_type": "stream",
     "text": [
      "Значение среднего чека\n",
      "Среднее = 228.76\n",
      "Медианное = 56.28\n"
     ]
    }
   ],
   "source": [
    "print('Значение среднего чека')\n",
    "print('Среднее =', ltv_df['Sales'].mean().round(2))\n",
    "print('Медианное =', ltv_df['Sales'].median().round(2))"
   ]
  },
  {
   "cell_type": "code",
   "execution_count": 24,
   "id": "ad4e0f40",
   "metadata": {
    "execution": {
     "iopub.execute_input": "2023-02-14T15:54:07.984372Z",
     "iopub.status.busy": "2023-02-14T15:54:07.983928Z",
     "iopub.status.idle": "2023-02-14T15:54:08.330158Z",
     "shell.execute_reply": "2023-02-14T15:54:08.329218Z"
    },
    "papermill": {
     "duration": 0.364953,
     "end_time": "2023-02-14T15:54:08.332561",
     "exception": false,
     "start_time": "2023-02-14T15:54:07.967608",
     "status": "completed"
    },
    "tags": []
   },
   "outputs": [
    {
     "data": {
      "text/plain": [
       "[Text(0, 0.5, '$'), Text(0.5, 0, 'Месяц')]"
      ]
     },
     "execution_count": 24,
     "metadata": {},
     "output_type": "execute_result"
    },
    {
     "data": {
      "image/png": "[encoded data removed]",
      "text/plain": [
       "<Figure size 864x576 with 1 Axes>"
      ]
     },
     "metadata": {},
     "output_type": "display_data"
    }
   ],
   "source": [
    "plt.figure(figsize=(12,8))\n",
    "plt.title('Доход в месяц')\n",
    "sns.barplot(data = ltv_df.groupby('Order Month', as_index = False).agg({'Sales': 'mean'}), \n",
    "            y = 'Sales', x = 'Order Month', color = 'Skyblue').set(ylabel = '$', xlabel = 'Месяц')"
   ]
  },
  {
   "cell_type": "code",
   "execution_count": 25,
   "id": "042d0a41",
   "metadata": {
    "execution": {
     "iopub.execute_input": "2023-02-14T15:54:08.365217Z",
     "iopub.status.busy": "2023-02-14T15:54:08.364558Z",
     "iopub.status.idle": "2023-02-14T15:54:08.380881Z",
     "shell.execute_reply": "2023-02-14T15:54:08.380021Z"
    },
    "papermill": {
     "duration": 0.035585,
     "end_time": "2023-02-14T15:54:08.383444",
     "exception": false,
     "start_time": "2023-02-14T15:54:08.347859",
     "status": "completed"
    },
    "tags": []
   },
   "outputs": [],
   "source": [
    "ltv = ltv_df.groupby(['First Order Month','Lifetime']).agg({'Sales':'sum'})\n",
    "ltv = ltv.pivot_table(index='First Order Month', columns='Lifetime', values='Sales', aggfunc='sum')\n",
    "ltv = ltv.cumsum(axis=1)"
   ]
  },
  {
   "cell_type": "code",
   "execution_count": 26,
   "id": "026844fa",
   "metadata": {
    "execution": {
     "iopub.execute_input": "2023-02-14T15:54:08.416380Z",
     "iopub.status.busy": "2023-02-14T15:54:08.415949Z",
     "iopub.status.idle": "2023-02-14T15:54:08.424175Z",
     "shell.execute_reply": "2023-02-14T15:54:08.423339Z"
    },
    "papermill": {
     "duration": 0.027657,
     "end_time": "2023-02-14T15:54:08.426568",
     "exception": false,
     "start_time": "2023-02-14T15:54:08.398911",
     "status": "completed"
    },
    "tags": []
   },
   "outputs": [],
   "source": [
    "cohorts = (ltv_df.groupby('First Order Month').agg({'Customer ID':'count','Sales':'sum'})\n",
    "                                             .rename(columns={'Customer ID':'Cohort Size'}))"
   ]
  },
  {
   "cell_type": "code",
   "execution_count": 27,
   "id": "6d3d82a0",
   "metadata": {
    "execution": {
     "iopub.execute_input": "2023-02-14T15:54:08.460390Z",
     "iopub.status.busy": "2023-02-14T15:54:08.459650Z",
     "iopub.status.idle": "2023-02-14T15:54:08.470041Z",
     "shell.execute_reply": "2023-02-14T15:54:08.468989Z"
    },
    "papermill": {
     "duration": 0.030457,
     "end_time": "2023-02-14T15:54:08.472650",
     "exception": false,
     "start_time": "2023-02-14T15:54:08.442193",
     "status": "completed"
    },
    "tags": []
   },
   "outputs": [],
   "source": [
    "ltv = cohorts[['Cohort Size']].join(ltv)\n",
    "ltv = ltv.div(ltv['Cohort Size']*100, axis=0).drop(columns = ['Cohort Size'])"
   ]
  },
  {
   "cell_type": "code",
   "execution_count": 28,
   "id": "a1f38300",
   "metadata": {
    "execution": {
     "iopub.execute_input": "2023-02-14T15:54:08.505957Z",
     "iopub.status.busy": "2023-02-14T15:54:08.505580Z",
     "iopub.status.idle": "2023-02-14T15:54:09.209658Z",
     "shell.execute_reply": "2023-02-14T15:54:09.208269Z"
    },
    "papermill": {
     "duration": 0.723945,
     "end_time": "2023-02-14T15:54:09.212293",
     "exception": false,
     "start_time": "2023-02-14T15:54:08.488348",
     "status": "completed"
    },
    "tags": []
   },
   "outputs": [
    {
     "data": {
      "image/png": "[encoded data removed]",
      "text/plain": [
       "<Figure size 1152x648 with 2 Axes>"
      ]
     },
     "metadata": {},
     "output_type": "display_data"
    }
   ],
   "source": [
    "sns.set(style = 'whitegrid')\n",
    "plt.figure(figsize = (16, 9))\n",
    "plt.title('LTV (Life Time Value)')\n",
    "ax = sns.heatmap(ltv, annot=True, fmt='.1f', linewidths=1, linecolor='white')\n",
    "ax.set_yticklabels(ltv.index.date)\n",
    "plt.show()"
   ]
  },
  {
   "cell_type": "markdown",
   "id": "98eacc67",
   "metadata": {
    "papermill": {
     "duration": 0.016319,
     "end_time": "2023-02-14T15:54:09.245361",
     "exception": false,
     "start_time": "2023-02-14T15:54:09.229042",
     "status": "completed"
    },
    "tags": []
   },
   "source": [
    "Покупатели, пришедшие в июле и октябре, резко увеличили свой показатель LTV в сентябре и декабре соответсвенно. Также суммарные траты новых покупателей активно выросли во второй половине года"
   ]
  },
  {
   "cell_type": "markdown",
   "id": "c97667eb",
   "metadata": {
    "papermill": {
     "duration": 0.016228,
     "end_time": "2023-02-14T15:54:09.278045",
     "exception": false,
     "start_time": "2023-02-14T15:54:09.261817",
     "status": "completed"
    },
    "tags": []
   },
   "source": [
    "## Выводы"
   ]
  },
  {
   "cell_type": "markdown",
   "id": "e46394c9",
   "metadata": {
    "papermill": {
     "duration": 0.016574,
     "end_time": "2023-02-14T15:54:09.311040",
     "exception": false,
     "start_time": "2023-02-14T15:54:09.294466",
     "status": "completed"
    },
    "tags": []
   },
   "source": [
    "Покупатели продолжают возвращаться, retention вырос в сентябре и ноябре-декабре \\\n",
    "(Половина покупателей, пришедших в августе, вернулись в ноябре)\n",
    "\n",
    "В сентябре количество заказов резко увеличилось\n",
    "\n",
    "Доход в месяц выше всего с августа по октябрь\n",
    "\n",
    "Покупатели, пришедшие в июле и октябре, резко увеличили свой показатель LTV в сентябре и декабре соответсвенно. Также суммарные траты новых покупателей активно выросли во второй половине года\n",
    "\n",
    "P. S. При наличии информации о действиях, направленных на рост метрик, можно делать выводы об эффективности этих действий"
   ]
  }
 ],
 "metadata": {
  "kernelspec": {
   "display_name": "Python 3",
   "language": "python",
   "name": "python3"
  },
  "language_info": {
   "codemirror_mode": {
    "name": "ipython",
    "version": 3
   },
   "file_extension": ".py",
   "mimetype": "text/x-python",
   "name": "python",
   "nbconvert_exporter": "python",
   "pygments_lexer": "ipython3",
   "version": "3.7.12"
  },
  "papermill": {
   "default_parameters": {},
   "duration": 15.399173,
   "end_time": "2023-02-14T15:54:10.048971",
   "environment_variables": {},
   "exception": null,
   "input_path": "__notebook__.ipynb",
   "output_path": "__notebook__.ipynb",
   "parameters": {},
   "start_time": "2023-02-14T15:53:54.649798",
   "version": "2.3.4"
  }
 },
 "nbformat": 4,
 "nbformat_minor": 5
}
