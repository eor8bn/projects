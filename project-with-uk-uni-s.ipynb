{
 "cells": [
  {
   "cell_type": "markdown",
   "id": "b8a4ac13",
   "metadata": {
    "_cell_guid": "2e701332-fbf0-43c5-b2c3-c3ddc8f74718",
    "_uuid": "b510636d-c087-437f-8895-13f1711366a4",
    "papermill": {
     "duration": 0.014216,
     "end_time": "2023-02-14T16:08:02.559759",
     "exception": false,
     "start_time": "2023-02-14T16:08:02.545543",
     "status": "completed"
    },
    "tags": []
   },
   "source": [
    "### Исследование регионов Великобритании по параметрам университетов"
   ]
  },
  {
   "cell_type": "markdown",
   "id": "b2d17f56",
   "metadata": {
    "_cell_guid": "3d0abdc9-2f22-4de8-83ff-f5a5c5ff2cc8",
    "_uuid": "533b08bf-1b84-45b1-bc2a-898a61dd55f1",
    "papermill": {
     "duration": 0.011987,
     "end_time": "2023-02-14T16:08:02.584282",
     "exception": false,
     "start_time": "2023-02-14T16:08:02.572295",
     "status": "completed"
    },
    "tags": []
   },
   "source": [
    "Выбор университета происходит преимущественно по наличию интересующих образовательных программ, его рейтингу, стоимости обучения и прочим параметрам.\n",
    "\n",
    "Однако, существует важный момент, на который не все обращают внимание при выборе университета - это жизнь в том месте, где университет находится.\n",
    "\n",
    "Цель данного проекта - изучить параметры университетов в регионах \n",
    "и получить информацию с особенностями для каждого региона, что могло бы помочь студентам при выборе региона, в котором они хотят учиться."
   ]
  },
  {
   "cell_type": "code",
   "execution_count": 1,
   "id": "45e0c400",
   "metadata": {
    "_cell_guid": "99dd7bf8-7eb8-4950-a974-3b1226f14fe8",
    "_uuid": "bf536673-8de0-4a86-864f-bdfdec2ffbcf",
    "collapsed": false,
    "execution": {
     "iopub.execute_input": "2023-02-14T16:08:02.613845Z",
     "iopub.status.busy": "2023-02-14T16:08:02.613214Z",
     "iopub.status.idle": "2023-02-14T16:08:03.952501Z",
     "shell.execute_reply": "2023-02-14T16:08:03.951132Z"
    },
    "jupyter": {
     "outputs_hidden": false
    },
    "papermill": {
     "duration": 1.359253,
     "end_time": "2023-02-14T16:08:03.955909",
     "exception": false,
     "start_time": "2023-02-14T16:08:02.596656",
     "status": "completed"
    },
    "tags": []
   },
   "outputs": [
    {
     "name": "stdout",
     "output_type": "stream",
     "text": [
      "/kaggle/input/best-universities-in-the-united-kingdom/uk_universities.csv\n"
     ]
    }
   ],
   "source": [
    "import pandas as pd\n",
    "import numpy as np\n",
    "from scipy import stats as st\n",
    "\n",
    "import os\n",
    "for dirname, _, filenames in os.walk('/kaggle/input'):\n",
    "    for filename in filenames:\n",
    "        print(os.path.join(dirname, filename))\n",
    "\n",
    "import seaborn as sns\n",
    "from matplotlib import pyplot as plt"
   ]
  },
  {
   "cell_type": "code",
   "execution_count": 2,
   "id": "3de59371",
   "metadata": {
    "_cell_guid": "d056b2da-5cc6-44be-a18b-661451e284c3",
    "_uuid": "6e57b288-5a3d-4d5c-80d2-247bb750b9ef",
    "collapsed": false,
    "execution": {
     "iopub.execute_input": "2023-02-14T16:08:03.985035Z",
     "iopub.status.busy": "2023-02-14T16:08:03.984391Z",
     "iopub.status.idle": "2023-02-14T16:08:04.010817Z",
     "shell.execute_reply": "2023-02-14T16:08:04.009339Z"
    },
    "jupyter": {
     "outputs_hidden": false
    },
    "papermill": {
     "duration": 0.04483,
     "end_time": "2023-02-14T16:08:04.014125",
     "exception": false,
     "start_time": "2023-02-14T16:08:03.969295",
     "status": "completed"
    },
    "tags": []
   },
   "outputs": [],
   "source": [
    "uk_uni_df = pd.read_csv('../input/best-universities-in-the-united-kingdom/uk_universities.csv')"
   ]
  },
  {
   "cell_type": "code",
   "execution_count": 3,
   "id": "55437106",
   "metadata": {
    "_cell_guid": "0c05a526-3546-4da0-9286-ac19bb7f8bb1",
    "_uuid": "67177908-4e73-4467-987a-b4157cc1802e",
    "collapsed": false,
    "execution": {
     "iopub.execute_input": "2023-02-14T16:08:04.043619Z",
     "iopub.status.busy": "2023-02-14T16:08:04.043148Z",
     "iopub.status.idle": "2023-02-14T16:08:04.086808Z",
     "shell.execute_reply": "2023-02-14T16:08:04.085767Z"
    },
    "jupyter": {
     "outputs_hidden": false
    },
    "papermill": {
     "duration": 0.061449,
     "end_time": "2023-02-14T16:08:04.089401",
     "exception": false,
     "start_time": "2023-02-14T16:08:04.027952",
     "status": "completed"
    },
    "tags": []
   },
   "outputs": [
    {
     "data": {
      "text/html": [
       "<div>\n",
       "<style scoped>\n",
       "    .dataframe tbody tr th:only-of-type {\n",
       "        vertical-align: middle;\n",
       "    }\n",
       "\n",
       "    .dataframe tbody tr th {\n",
       "        vertical-align: top;\n",
       "    }\n",
       "\n",
       "    .dataframe thead th {\n",
       "        text-align: right;\n",
       "    }\n",
       "</style>\n",
       "<table border=\"1\" class=\"dataframe\">\n",
       "  <thead>\n",
       "    <tr style=\"text-align: right;\">\n",
       "      <th></th>\n",
       "      <th>University_name</th>\n",
       "      <th>Region</th>\n",
       "      <th>Founded_year</th>\n",
       "      <th>Motto</th>\n",
       "      <th>UK_rank</th>\n",
       "      <th>World_rank</th>\n",
       "      <th>CWUR_score</th>\n",
       "      <th>Minimum_IELTS_score</th>\n",
       "      <th>UG_average_fees_(in_pounds)</th>\n",
       "      <th>PG_average_fees_(in_pounds)</th>\n",
       "      <th>...</th>\n",
       "      <th>Student_satisfaction</th>\n",
       "      <th>Student_enrollment</th>\n",
       "      <th>Academic_staff</th>\n",
       "      <th>Control_type</th>\n",
       "      <th>Academic_Calender</th>\n",
       "      <th>Campus_setting</th>\n",
       "      <th>Estimated_cost_of_living_per_year_(in_pounds)</th>\n",
       "      <th>Latitude</th>\n",
       "      <th>Longitude</th>\n",
       "      <th>Website</th>\n",
       "    </tr>\n",
       "  </thead>\n",
       "  <tbody>\n",
       "    <tr>\n",
       "      <th>0</th>\n",
       "      <td>University of Cambridge</td>\n",
       "      <td>East of England</td>\n",
       "      <td>1209</td>\n",
       "      <td>From here, light and sacred draughts</td>\n",
       "      <td>1</td>\n",
       "      <td>4</td>\n",
       "      <td>94.1</td>\n",
       "      <td>6.5</td>\n",
       "      <td>21750</td>\n",
       "      <td>23187</td>\n",
       "      <td>...</td>\n",
       "      <td>85.50%</td>\n",
       "      <td>20,000-24,999</td>\n",
       "      <td>over-5,000</td>\n",
       "      <td>Public</td>\n",
       "      <td>Trimesters</td>\n",
       "      <td>Urban</td>\n",
       "      <td>12000</td>\n",
       "      <td>52.2054</td>\n",
       "      <td>0.1132</td>\n",
       "      <td>www.cam.ac.uk</td>\n",
       "    </tr>\n",
       "    <tr>\n",
       "      <th>1</th>\n",
       "      <td>University of Oxford</td>\n",
       "      <td>South East England</td>\n",
       "      <td>1096</td>\n",
       "      <td>The Lord is my light</td>\n",
       "      <td>2</td>\n",
       "      <td>2</td>\n",
       "      <td>93.3</td>\n",
       "      <td>6.5</td>\n",
       "      <td>21770</td>\n",
       "      <td>19888</td>\n",
       "      <td>...</td>\n",
       "      <td>86.50%</td>\n",
       "      <td>25,000-29,999</td>\n",
       "      <td>over-5,000</td>\n",
       "      <td>Public</td>\n",
       "      <td>Trimesters</td>\n",
       "      <td>Urban</td>\n",
       "      <td>11500</td>\n",
       "      <td>51.7548</td>\n",
       "      <td>-1.2544</td>\n",
       "      <td>www.ox.ac.uk</td>\n",
       "    </tr>\n",
       "    <tr>\n",
       "      <th>2</th>\n",
       "      <td>University of St Andrews</td>\n",
       "      <td>Scotland</td>\n",
       "      <td>1413</td>\n",
       "      <td>Ever to excel</td>\n",
       "      <td>3</td>\n",
       "      <td>86</td>\n",
       "      <td>75.8</td>\n",
       "      <td>6.5</td>\n",
       "      <td>17040</td>\n",
       "      <td>15440</td>\n",
       "      <td>...</td>\n",
       "      <td>87.90%</td>\n",
       "      <td>10,000-14,999</td>\n",
       "      <td>1,000-1,499</td>\n",
       "      <td>Public</td>\n",
       "      <td>Semesters</td>\n",
       "      <td>Suburban</td>\n",
       "      <td>12000</td>\n",
       "      <td>56.3417</td>\n",
       "      <td>-2.7943</td>\n",
       "      <td>www.st-andrews.ac.uk</td>\n",
       "    </tr>\n",
       "    <tr>\n",
       "      <th>3</th>\n",
       "      <td>Imperial College London</td>\n",
       "      <td>London</td>\n",
       "      <td>1907</td>\n",
       "      <td>Knowledge is the adornment and safeguard of th...</td>\n",
       "      <td>4</td>\n",
       "      <td>8</td>\n",
       "      <td>86.6</td>\n",
       "      <td>6.5</td>\n",
       "      <td>23500</td>\n",
       "      <td>29900</td>\n",
       "      <td>...</td>\n",
       "      <td>77.90%</td>\n",
       "      <td>15,000-19,999</td>\n",
       "      <td>4,000-4,499</td>\n",
       "      <td>Public</td>\n",
       "      <td>Continuous</td>\n",
       "      <td>Urban</td>\n",
       "      <td>10700</td>\n",
       "      <td>51.4988</td>\n",
       "      <td>-0.1749</td>\n",
       "      <td>www.ic.ac.uk</td>\n",
       "    </tr>\n",
       "    <tr>\n",
       "      <th>4</th>\n",
       "      <td>Loughborough University</td>\n",
       "      <td>East Midlands</td>\n",
       "      <td>1966</td>\n",
       "      <td>With Truth, Knowledge and Labour</td>\n",
       "      <td>5</td>\n",
       "      <td>404</td>\n",
       "      <td>72.8</td>\n",
       "      <td>5.5</td>\n",
       "      <td>16400</td>\n",
       "      <td>16400</td>\n",
       "      <td>...</td>\n",
       "      <td>85.80%</td>\n",
       "      <td>15,000-19,999</td>\n",
       "      <td>1,500-1,999</td>\n",
       "      <td>Public</td>\n",
       "      <td>Semesters</td>\n",
       "      <td>Suburban</td>\n",
       "      <td>9398</td>\n",
       "      <td>52.7650</td>\n",
       "      <td>-1.2321</td>\n",
       "      <td>www.lboro.ac.uk/</td>\n",
       "    </tr>\n",
       "  </tbody>\n",
       "</table>\n",
       "<p>5 rows × 21 columns</p>\n",
       "</div>"
      ],
      "text/plain": [
       "            University_name              Region  Founded_year  \\\n",
       "0   University of Cambridge     East of England          1209   \n",
       "1      University of Oxford  South East England          1096   \n",
       "2  University of St Andrews            Scotland          1413   \n",
       "3   Imperial College London              London          1907   \n",
       "4   Loughborough University       East Midlands          1966   \n",
       "\n",
       "                                               Motto  UK_rank  World_rank  \\\n",
       "0               From here, light and sacred draughts        1           4   \n",
       "1                               The Lord is my light        2           2   \n",
       "2                                      Ever to excel        3          86   \n",
       "3  Knowledge is the adornment and safeguard of th...        4           8   \n",
       "4                   With Truth, Knowledge and Labour        5         404   \n",
       "\n",
       "   CWUR_score  Minimum_IELTS_score  UG_average_fees_(in_pounds)  \\\n",
       "0        94.1                  6.5                        21750   \n",
       "1        93.3                  6.5                        21770   \n",
       "2        75.8                  6.5                        17040   \n",
       "3        86.6                  6.5                        23500   \n",
       "4        72.8                  5.5                        16400   \n",
       "\n",
       "   PG_average_fees_(in_pounds)  ... Student_satisfaction Student_enrollment  \\\n",
       "0                        23187  ...               85.50%      20,000-24,999   \n",
       "1                        19888  ...               86.50%      25,000-29,999   \n",
       "2                        15440  ...               87.90%      10,000-14,999   \n",
       "3                        29900  ...               77.90%      15,000-19,999   \n",
       "4                        16400  ...               85.80%      15,000-19,999   \n",
       "\n",
       "  Academic_staff Control_type Academic_Calender Campus_setting  \\\n",
       "0     over-5,000       Public        Trimesters          Urban   \n",
       "1     over-5,000       Public        Trimesters          Urban   \n",
       "2    1,000-1,499       Public         Semesters       Suburban   \n",
       "3    4,000-4,499       Public        Continuous          Urban   \n",
       "4    1,500-1,999       Public         Semesters       Suburban   \n",
       "\n",
       "  Estimated_cost_of_living_per_year_(in_pounds)  Latitude  Longitude  \\\n",
       "0                                         12000   52.2054     0.1132   \n",
       "1                                         11500   51.7548    -1.2544   \n",
       "2                                         12000   56.3417    -2.7943   \n",
       "3                                         10700   51.4988    -0.1749   \n",
       "4                                          9398   52.7650    -1.2321   \n",
       "\n",
       "                Website  \n",
       "0         www.cam.ac.uk  \n",
       "1          www.ox.ac.uk  \n",
       "2  www.st-andrews.ac.uk  \n",
       "3          www.ic.ac.uk  \n",
       "4      www.lboro.ac.uk/  \n",
       "\n",
       "[5 rows x 21 columns]"
      ]
     },
     "execution_count": 3,
     "metadata": {},
     "output_type": "execute_result"
    }
   ],
   "source": [
    "uk_uni_df.head()"
   ]
  },
  {
   "cell_type": "code",
   "execution_count": 4,
   "id": "e7fa03bb",
   "metadata": {
    "_cell_guid": "ce225445-ae3b-474a-b7a3-29302efaad83",
    "_uuid": "20e2d902-7663-4b08-b4e5-329838cd1120",
    "collapsed": false,
    "execution": {
     "iopub.execute_input": "2023-02-14T16:08:04.118392Z",
     "iopub.status.busy": "2023-02-14T16:08:04.117959Z",
     "iopub.status.idle": "2023-02-14T16:08:04.147918Z",
     "shell.execute_reply": "2023-02-14T16:08:04.146359Z"
    },
    "jupyter": {
     "outputs_hidden": false
    },
    "papermill": {
     "duration": 0.047904,
     "end_time": "2023-02-14T16:08:04.150997",
     "exception": false,
     "start_time": "2023-02-14T16:08:04.103093",
     "status": "completed"
    },
    "tags": []
   },
   "outputs": [
    {
     "name": "stdout",
     "output_type": "stream",
     "text": [
      "<class 'pandas.core.frame.DataFrame'>\n",
      "RangeIndex: 131 entries, 0 to 130\n",
      "Data columns (total 21 columns):\n",
      " #   Column                                         Non-Null Count  Dtype  \n",
      "---  ------                                         --------------  -----  \n",
      " 0   University_name                                131 non-null    object \n",
      " 1   Region                                         131 non-null    object \n",
      " 2   Founded_year                                   131 non-null    int64  \n",
      " 3   Motto                                          114 non-null    object \n",
      " 4   UK_rank                                        131 non-null    int64  \n",
      " 5   World_rank                                     131 non-null    int64  \n",
      " 6   CWUR_score                                     84 non-null     float64\n",
      " 7   Minimum_IELTS_score                            131 non-null    float64\n",
      " 8   UG_average_fees_(in_pounds)                    131 non-null    int64  \n",
      " 9   PG_average_fees_(in_pounds)                    131 non-null    int64  \n",
      " 10  International_students                         131 non-null    object \n",
      " 11  Student_satisfaction                           131 non-null    object \n",
      " 12  Student_enrollment                             131 non-null    object \n",
      " 13  Academic_staff                                 131 non-null    object \n",
      " 14  Control_type                                   131 non-null    object \n",
      " 15  Academic_Calender                              105 non-null    object \n",
      " 16  Campus_setting                                 113 non-null    object \n",
      " 17  Estimated_cost_of_living_per_year_(in_pounds)  131 non-null    int64  \n",
      " 18  Latitude                                       131 non-null    float64\n",
      " 19  Longitude                                      131 non-null    float64\n",
      " 20  Website                                        131 non-null    object \n",
      "dtypes: float64(4), int64(6), object(11)\n",
      "memory usage: 21.6+ KB\n"
     ]
    }
   ],
   "source": [
    "uk_uni_df.info()"
   ]
  },
  {
   "cell_type": "markdown",
   "id": "6e1b1d69",
   "metadata": {
    "_cell_guid": "849954a8-b870-41bd-a6e9-7cc97479adf9",
    "_uuid": "18c25391-12bf-4a5e-9edb-bbfc1a0ce78a",
    "papermill": {
     "duration": 0.012907,
     "end_time": "2023-02-14T16:08:04.177368",
     "exception": false,
     "start_time": "2023-02-14T16:08:04.164461",
     "status": "completed"
    },
    "tags": []
   },
   "source": [
    "Нужно исследовать по кажому региону следующие параметры:\n",
    "- удовлетворённость студентов (основной показатель)\n",
    "- стоимость жизни (чтобы оценить необходимый бюджет)\n",
    "- число студентов (для тех, кому важно большое комьюнити)\n",
    "- процент иностранных студентов"
   ]
  },
  {
   "cell_type": "markdown",
   "id": "b4e326c6",
   "metadata": {
    "_cell_guid": "8e7fb760-49c8-455f-a54e-adf8982d60c6",
    "_uuid": "a17770fc-733a-4628-b5a8-0768091c7ce7",
    "papermill": {
     "duration": 0.012865,
     "end_time": "2023-02-14T16:08:04.203502",
     "exception": false,
     "start_time": "2023-02-14T16:08:04.190637",
     "status": "completed"
    },
    "tags": []
   },
   "source": [
    "## Анализ данных"
   ]
  },
  {
   "cell_type": "markdown",
   "id": "20ed65e1",
   "metadata": {
    "_cell_guid": "78d3714e-08cd-4bb6-bf93-d1bf8a6f88b5",
    "_uuid": "fa8df8fb-47e1-480b-a5f7-4c9d33ead060",
    "papermill": {
     "duration": 0.012955,
     "end_time": "2023-02-14T16:08:04.229931",
     "exception": false,
     "start_time": "2023-02-14T16:08:04.216976",
     "status": "completed"
    },
    "tags": []
   },
   "source": [
    "### Удовлетворённость студентов по регионам"
   ]
  },
  {
   "cell_type": "code",
   "execution_count": 5,
   "id": "e1e5c476",
   "metadata": {
    "_cell_guid": "fc96c635-4327-40f3-8c8c-8c0f0bb6b1f0",
    "_uuid": "2a2d440a-2637-4006-a272-7278c3dda126",
    "collapsed": false,
    "execution": {
     "iopub.execute_input": "2023-02-14T16:08:04.258264Z",
     "iopub.status.busy": "2023-02-14T16:08:04.257786Z",
     "iopub.status.idle": "2023-02-14T16:08:04.268687Z",
     "shell.execute_reply": "2023-02-14T16:08:04.267736Z"
    },
    "jupyter": {
     "outputs_hidden": false
    },
    "papermill": {
     "duration": 0.027922,
     "end_time": "2023-02-14T16:08:04.270922",
     "exception": false,
     "start_time": "2023-02-14T16:08:04.243000",
     "status": "completed"
    },
    "tags": []
   },
   "outputs": [],
   "source": [
    "# преобразование колонок, содержащих проценты\n",
    "uk_uni_df.Student_satisfaction = uk_uni_df.Student_satisfaction.str.replace('%','').astype('float')\n",
    "uk_uni_df.International_students = uk_uni_df.International_students.str.replace('%','').astype('float')\n",
    "uk_uni_df = uk_uni_df.rename(columns={'Student_satisfaction': 'Percent_of_student_satisfaction', 'International_students': 'Percent_of_international_students'})"
   ]
  },
  {
   "cell_type": "markdown",
   "id": "aac98ba7",
   "metadata": {
    "_cell_guid": "4e64a877-f1c0-4e34-8aa0-3706213ba314",
    "_uuid": "8c32fd57-b9d0-49b1-9310-5d1de6b8edd6",
    "papermill": {
     "duration": 0.012843,
     "end_time": "2023-02-14T16:08:04.296923",
     "exception": false,
     "start_time": "2023-02-14T16:08:04.284080",
     "status": "completed"
    },
    "tags": []
   },
   "source": [
    "В пределах одного региона значения Student_satisfaction могут быть разнообразны, \\\n",
    "стоит посмотреть на их распределние."
   ]
  },
  {
   "cell_type": "code",
   "execution_count": 6,
   "id": "f75bcd86",
   "metadata": {
    "_cell_guid": "18876305-4769-4d07-b5a1-1d3ba4bd4cb4",
    "_uuid": "8b4cf85b-969f-4885-a52e-6aed8f497a91",
    "collapsed": false,
    "execution": {
     "iopub.execute_input": "2023-02-14T16:08:04.326795Z",
     "iopub.status.busy": "2023-02-14T16:08:04.326325Z",
     "iopub.status.idle": "2023-02-14T16:08:05.663944Z",
     "shell.execute_reply": "2023-02-14T16:08:05.662321Z"
    },
    "jupyter": {
     "outputs_hidden": false
    },
    "papermill": {
     "duration": 1.35602,
     "end_time": "2023-02-14T16:08:05.666922",
     "exception": false,
     "start_time": "2023-02-14T16:08:04.310902",
     "status": "completed"
    },
    "tags": []
   },
   "outputs": [
    {
     "data": {
      "image/png": "[encoded data removed]",
      "text/plain": [
       "<Figure size 720x432 with 12 Axes>"
      ]
     },
     "metadata": {
      "needs_background": "light"
     },
     "output_type": "display_data"
    }
   ],
   "source": [
    "# распределение Student_satisfaction по регионам\n",
    "ur = uk_uni_df.Region.unique()\n",
    "plt.figure(figsize=(10,6))\n",
    "for i in range(len(ur)):\n",
    "    plt.subplot(3, 4, i+1)\n",
    "    plt.subplots_adjust(wspace=0.5, hspace=1)\n",
    "    plt.title(ur[i])\n",
    "    sns.kdeplot(data = uk_uni_df[uk_uni_df.Region == ur[i]], x = 'Percent_of_student_satisfaction').set(xlabel='Student satisfaction, %')"
   ]
  },
  {
   "cell_type": "markdown",
   "id": "3af04438",
   "metadata": {
    "_cell_guid": "4a393516-65d0-4f95-bdc0-d974d8e469a6",
    "_uuid": "22e83af1-6d68-47b4-9ba2-196758f9655b",
    "papermill": {
     "duration": 0.013562,
     "end_time": "2023-02-14T16:08:05.696841",
     "exception": false,
     "start_time": "2023-02-14T16:08:05.683279",
     "status": "completed"
    },
    "tags": []
   },
   "source": [
    "Видно, что распредление близко к нормальному, однако есть различные деформации графиков. \\\n",
    "Посмотрим на данные, используя boxplot."
   ]
  },
  {
   "cell_type": "code",
   "execution_count": 7,
   "id": "b44d0006",
   "metadata": {
    "_cell_guid": "9bc545db-5639-46c4-96a2-803d94eef617",
    "_uuid": "8e89c565-fb9f-4631-a4c1-5b999f11b4f2",
    "collapsed": false,
    "execution": {
     "iopub.execute_input": "2023-02-14T16:08:05.726999Z",
     "iopub.status.busy": "2023-02-14T16:08:05.726518Z",
     "iopub.status.idle": "2023-02-14T16:08:06.093306Z",
     "shell.execute_reply": "2023-02-14T16:08:06.092110Z"
    },
    "jupyter": {
     "outputs_hidden": false
    },
    "papermill": {
     "duration": 0.38547,
     "end_time": "2023-02-14T16:08:06.096186",
     "exception": false,
     "start_time": "2023-02-14T16:08:05.710716",
     "status": "completed"
    },
    "tags": []
   },
   "outputs": [
    {
     "data": {
      "text/plain": [
       "[Text(0, 0.5, 'Student satisfaction, %')]"
      ]
     },
     "execution_count": 7,
     "metadata": {},
     "output_type": "execute_result"
    },
    {
     "data": {
      "image/png": "[encoded data removed]",
      "text/plain": [
       "<Figure size 864x576 with 1 Axes>"
      ]
     },
     "metadata": {
      "needs_background": "light"
     },
     "output_type": "display_data"
    }
   ],
   "source": [
    "plt.figure(figsize=(12,8))\n",
    "plt.xticks(rotation=45)\n",
    "sns.boxplot(data = uk_uni_df, x = 'Region', y = 'Percent_of_student_satisfaction').set(ylabel='Student satisfaction, %')"
   ]
  },
  {
   "cell_type": "code",
   "execution_count": 8,
   "id": "ab314b3c",
   "metadata": {
    "execution": {
     "iopub.execute_input": "2023-02-14T16:08:06.127564Z",
     "iopub.status.busy": "2023-02-14T16:08:06.127145Z",
     "iopub.status.idle": "2023-02-14T16:08:06.136727Z",
     "shell.execute_reply": "2023-02-14T16:08:06.135182Z"
    },
    "papermill": {
     "duration": 0.028423,
     "end_time": "2023-02-14T16:08:06.139416",
     "exception": false,
     "start_time": "2023-02-14T16:08:06.110993",
     "status": "completed"
    },
    "tags": []
   },
   "outputs": [],
   "source": [
    "PoSS = uk_uni_df.groupby('Region').Percent_of_student_satisfaction.mean()"
   ]
  },
  {
   "cell_type": "markdown",
   "id": "2c3620f5",
   "metadata": {
    "_cell_guid": "d6d74cc6-9c96-47da-8a4d-c62f2ca13b86",
    "_uuid": "44ac1399-928c-4e28-badf-86da26b9de6a",
    "papermill": {
     "duration": 0.014369,
     "end_time": "2023-02-14T16:08:06.168898",
     "exception": false,
     "start_time": "2023-02-14T16:08:06.154529",
     "status": "completed"
    },
    "tags": []
   },
   "source": [
    "Заметно, что удовлетворённость студентов в Лондоне ниже, чем в остальных регионах. \\\n",
    "Проверим эту гипотезу...\n",
    "\n",
    "H0: удовлетворённость студентов Лондона не отличается \\\n",
    "H1: удовлетворённость студентов Лондона отличается"
   ]
  },
  {
   "cell_type": "code",
   "execution_count": 9,
   "id": "7322d83c",
   "metadata": {
    "execution": {
     "iopub.execute_input": "2023-02-14T16:08:06.201080Z",
     "iopub.status.busy": "2023-02-14T16:08:06.199551Z",
     "iopub.status.idle": "2023-02-14T16:08:06.208453Z",
     "shell.execute_reply": "2023-02-14T16:08:06.206868Z"
    },
    "papermill": {
     "duration": 0.027998,
     "end_time": "2023-02-14T16:08:06.211488",
     "exception": false,
     "start_time": "2023-02-14T16:08:06.183490",
     "status": "completed"
    },
    "tags": []
   },
   "outputs": [],
   "source": [
    "def delete_outliers(df, column, graphic=0, x = 10, y = 10):\n",
    "    q1 = df[column].quantile(0.25)                 \n",
    "    q3 = df[column].quantile(0.75)\n",
    "    iqr = q3 - q1\n",
    "    iqr_test = (df[column] >= (q1 - 1.5 * iqr)) & (df[column] <= (q3 + 1.5 * iqr))\n",
    "    if graphic == 1:\n",
    "        return df.loc[iqr_test].boxplot([column], figsize=(x,y))\n",
    "    else:\n",
    "        return df.loc[iqr_test]"
   ]
  },
  {
   "cell_type": "code",
   "execution_count": 10,
   "id": "565045f4",
   "metadata": {
    "execution": {
     "iopub.execute_input": "2023-02-14T16:08:06.243614Z",
     "iopub.status.busy": "2023-02-14T16:08:06.243055Z",
     "iopub.status.idle": "2023-02-14T16:08:06.261018Z",
     "shell.execute_reply": "2023-02-14T16:08:06.259745Z"
    },
    "papermill": {
     "duration": 0.037103,
     "end_time": "2023-02-14T16:08:06.263653",
     "exception": false,
     "start_time": "2023-02-14T16:08:06.226550",
     "status": "completed"
    },
    "tags": []
   },
   "outputs": [],
   "source": [
    "londstuds = uk_uni_df[uk_uni_df['Region'] == 'London']\n",
    "nonlondstuds = uk_uni_df[uk_uni_df['Region'] != 'London']\n",
    "\n",
    "londstuds = delete_outliers(londstuds, 'Percent_of_student_satisfaction', 0)\n",
    "londstuds = londstuds['Percent_of_student_satisfaction']\n",
    "\n",
    "nonlondstuds = delete_outliers(nonlondstuds, 'Percent_of_student_satisfaction', 0)\n",
    "nonlondstuds = nonlondstuds['Percent_of_student_satisfaction']"
   ]
  },
  {
   "cell_type": "code",
   "execution_count": 11,
   "id": "ce9e3040",
   "metadata": {
    "_kg_hide-input": false,
    "execution": {
     "iopub.execute_input": "2023-02-14T16:08:06.295615Z",
     "iopub.status.busy": "2023-02-14T16:08:06.295126Z",
     "iopub.status.idle": "2023-02-14T16:08:06.305584Z",
     "shell.execute_reply": "2023-02-14T16:08:06.304057Z"
    },
    "papermill": {
     "duration": 0.029843,
     "end_time": "2023-02-14T16:08:06.308246",
     "exception": false,
     "start_time": "2023-02-14T16:08:06.278403",
     "status": "completed"
    },
    "tags": []
   },
   "outputs": [
    {
     "name": "stdout",
     "output_type": "stream",
     "text": [
      "p-value: 4.63997406298399e-09\n",
      "Отвергаем нулевую гипотезу\n"
     ]
    }
   ],
   "source": [
    "alpha = 0.05\n",
    "results = st.ttest_ind(londstuds, nonlondstuds)\n",
    "\n",
    "print('p-value:', results.pvalue)\n",
    "\n",
    "if (results.pvalue < alpha):\n",
    "    print(\"Отвергаем нулевую гипотезу\")\n",
    "else:\n",
    "    print(\"Не отвергаем нулевую гипотезу\")"
   ]
  },
  {
   "cell_type": "markdown",
   "id": "f934f009",
   "metadata": {
    "papermill": {
     "duration": 0.015018,
     "end_time": "2023-02-14T16:08:06.338375",
     "exception": false,
     "start_time": "2023-02-14T16:08:06.323357",
     "status": "completed"
    },
    "tags": []
   },
   "source": [
    "Удовлетворённость студентов в Лондоне действительно ниже, чем в остальных регионах"
   ]
  },
  {
   "cell_type": "code",
   "execution_count": 12,
   "id": "d06a5c32",
   "metadata": {
    "_cell_guid": "3a211995-e2d5-4839-a057-a88fe34433ab",
    "_uuid": "7e09805c-4063-4dec-943b-8f3e6416a9c5",
    "collapsed": false,
    "execution": {
     "iopub.execute_input": "2023-02-14T16:08:06.370488Z",
     "iopub.status.busy": "2023-02-14T16:08:06.370056Z",
     "iopub.status.idle": "2023-02-14T16:08:08.108005Z",
     "shell.execute_reply": "2023-02-14T16:08:08.106750Z"
    },
    "jupyter": {
     "outputs_hidden": false
    },
    "papermill": {
     "duration": 1.757896,
     "end_time": "2023-02-14T16:08:08.111308",
     "exception": false,
     "start_time": "2023-02-14T16:08:06.353412",
     "status": "completed"
    },
    "tags": []
   },
   "outputs": [
    {
     "data": {
      "image/png": "[encoded data removed]",
      "text/plain": [
       "<Figure size 1152x1152 with 6 Axes>"
      ]
     },
     "metadata": {
      "needs_background": "light"
     },
     "output_type": "display_data"
    }
   ],
   "source": [
    "# влияние разных факторов на удовлетворённость студентов\n",
    "fctr = ['UK_rank', 'World_rank', 'CWUR_score',\n",
    "        'UG_average_fees_(in_pounds)', 'PG_average_fees_(in_pounds)',\n",
    "        'Estimated_cost_of_living_per_year_(in_pounds)']\n",
    "plt.figure(figsize=(16,16))\n",
    "for i in range(len(fctr)):\n",
    "    plt.subplot(3, 3, i+1)\n",
    "    sns.regplot(data = uk_uni_df, y = 'Percent_of_student_satisfaction', x = fctr[i]).set(ylabel='Student satisfaction, %', xlabel=fctr[i].replace('_',' '))"
   ]
  },
  {
   "cell_type": "markdown",
   "id": "d7a45899",
   "metadata": {
    "_cell_guid": "b95f2a8a-cd7e-4070-aac0-22eb0edbcf99",
    "_uuid": "5a50377a-42c5-4ff8-85e8-e0d0207ffc32",
    "papermill": {
     "duration": 0.01706,
     "end_time": "2023-02-14T16:08:08.146998",
     "exception": false,
     "start_time": "2023-02-14T16:08:08.129938",
     "status": "completed"
    },
    "tags": []
   },
   "source": [
    "Корреляции между рейтингами/стоимостями и удовлетворённостью студентов практически не наблюдается, за исключением небольшой корреляции по UK_rank, однако это объясняется тем, что при составлении рейтинга внутри Великобритании учитывается удовлетворённость студентов."
   ]
  },
  {
   "cell_type": "markdown",
   "id": "bc08daa1",
   "metadata": {
    "_cell_guid": "fcc1ce18-e695-4a3e-9270-fcf3954c334c",
    "_uuid": "a218293b-888a-41d7-8aec-3b9ebebab91d",
    "papermill": {
     "duration": 0.016657,
     "end_time": "2023-02-14T16:08:08.180627",
     "exception": false,
     "start_time": "2023-02-14T16:08:08.163970",
     "status": "completed"
    },
    "tags": []
   },
   "source": [
    "### Оценочная стоимость проживания в год по каждому региону"
   ]
  },
  {
   "cell_type": "markdown",
   "id": "7493e046",
   "metadata": {
    "_cell_guid": "6cf95fb2-2612-474b-b885-f602868be9b1",
    "_uuid": "2cc52239-94e2-4b0d-8a7b-f894766d857e",
    "papermill": {
     "duration": 0.01657,
     "end_time": "2023-02-14T16:08:08.214375",
     "exception": false,
     "start_time": "2023-02-14T16:08:08.197805",
     "status": "completed"
    },
    "tags": []
   },
   "source": [
    "Стоимость будет в той или иной степени варьироваться по регионам. \\\n",
    "Однако, она может также изменяться от расположения кампуса."
   ]
  },
  {
   "cell_type": "code",
   "execution_count": 13,
   "id": "3659011d",
   "metadata": {
    "_cell_guid": "01b09099-361a-471e-8f83-1d58de5f132f",
    "_uuid": "6420bf2d-1d35-46c4-96f5-4ad0c2479ae5",
    "collapsed": false,
    "execution": {
     "iopub.execute_input": "2023-02-14T16:08:08.251346Z",
     "iopub.status.busy": "2023-02-14T16:08:08.250505Z",
     "iopub.status.idle": "2023-02-14T16:08:09.767676Z",
     "shell.execute_reply": "2023-02-14T16:08:09.766174Z"
    },
    "jupyter": {
     "outputs_hidden": false
    },
    "papermill": {
     "duration": 1.538488,
     "end_time": "2023-02-14T16:08:09.770277",
     "exception": false,
     "start_time": "2023-02-14T16:08:08.231789",
     "status": "completed"
    },
    "tags": []
   },
   "outputs": [
    {
     "data": {
      "image/png": "[encoded data removed]",
      "text/plain": [
       "<Figure size 720x432 with 12 Axes>"
      ]
     },
     "metadata": {
      "needs_background": "light"
     },
     "output_type": "display_data"
    }
   ],
   "source": [
    "# распределение Estimated_cost_of_living_(in_pounds) по регионам\n",
    "ur = uk_uni_df.Region.unique()\n",
    "plt.figure(figsize=(10,6))\n",
    "for i in range(len(ur)):\n",
    "    plt.subplot(3, 4, i+1)\n",
    "    plt.subplots_adjust(wspace=1, hspace=1.2)\n",
    "    plt.title(ur[i])\n",
    "    sns.kdeplot(data = uk_uni_df[uk_uni_df.Region == ur[i]], x = 'Estimated_cost_of_living_per_year_(in_pounds)', warn_singular = False).set(xlabel='Costs per year, £')"
   ]
  },
  {
   "cell_type": "markdown",
   "id": "dd01338d",
   "metadata": {
    "_cell_guid": "9f39e8e5-5873-4519-8c29-2d1c638cf40f",
    "_uuid": "e8defb40-3d99-4f41-8c19-d57a2f792674",
    "papermill": {
     "duration": 0.017119,
     "end_time": "2023-02-14T16:08:09.805261",
     "exception": false,
     "start_time": "2023-02-14T16:08:09.788142",
     "status": "completed"
    },
    "tags": []
   },
   "source": [
    "Два графика не отобразились, посмотрим на их данные отдельно."
   ]
  },
  {
   "cell_type": "code",
   "execution_count": 14,
   "id": "0e812988",
   "metadata": {
    "_cell_guid": "d5d2f3e6-8516-42a3-b312-fde4330c74b7",
    "_uuid": "0a368d8e-d281-4655-bbbb-c8d96175cc57",
    "collapsed": false,
    "execution": {
     "iopub.execute_input": "2023-02-14T16:08:09.842570Z",
     "iopub.status.busy": "2023-02-14T16:08:09.842078Z",
     "iopub.status.idle": "2023-02-14T16:08:09.852398Z",
     "shell.execute_reply": "2023-02-14T16:08:09.851183Z"
    },
    "jupyter": {
     "outputs_hidden": false
    },
    "papermill": {
     "duration": 0.032242,
     "end_time": "2023-02-14T16:08:09.854818",
     "exception": false,
     "start_time": "2023-02-14T16:08:09.822576",
     "status": "completed"
    },
    "tags": []
   },
   "outputs": [
    {
     "data": {
      "text/plain": [
       "6      8000\n",
       "27     8000\n",
       "54     8000\n",
       "64     8000\n",
       "86     8000\n",
       "108    8000\n",
       "Name: Estimated_cost_of_living_per_year_(in_pounds), dtype: int64"
      ]
     },
     "execution_count": 14,
     "metadata": {},
     "output_type": "execute_result"
    }
   ],
   "source": [
    "uk_uni_df[uk_uni_df.Region == 'North East England']['Estimated_cost_of_living_per_year_(in_pounds)']"
   ]
  },
  {
   "cell_type": "code",
   "execution_count": 15,
   "id": "c52fb318",
   "metadata": {
    "_cell_guid": "a4820061-e754-4e55-a099-f65655a8dbcc",
    "_uuid": "19b2cc81-ab63-46c8-9d1d-853673a9a68b",
    "collapsed": false,
    "execution": {
     "iopub.execute_input": "2023-02-14T16:08:09.891894Z",
     "iopub.status.busy": "2023-02-14T16:08:09.891398Z",
     "iopub.status.idle": "2023-02-14T16:08:09.902310Z",
     "shell.execute_reply": "2023-02-14T16:08:09.900851Z"
    },
    "jupyter": {
     "outputs_hidden": false
    },
    "papermill": {
     "duration": 0.032706,
     "end_time": "2023-02-14T16:08:09.904771",
     "exception": false,
     "start_time": "2023-02-14T16:08:09.872065",
     "status": "completed"
    },
    "tags": []
   },
   "outputs": [
    {
     "data": {
      "text/plain": [
       "34    6000\n",
       "58    6000\n",
       "Name: Estimated_cost_of_living_per_year_(in_pounds), dtype: int64"
      ]
     },
     "execution_count": 15,
     "metadata": {},
     "output_type": "execute_result"
    }
   ],
   "source": [
    "uk_uni_df[uk_uni_df.Region == 'Northern Ireland']['Estimated_cost_of_living_per_year_(in_pounds)']"
   ]
  },
  {
   "cell_type": "markdown",
   "id": "d75c0e30",
   "metadata": {
    "_cell_guid": "4ad1d1cf-435f-4346-9fb4-b8a457ab5b05",
    "_uuid": "7d9753e3-e261-4fb8-9f90-cae485f81a4e",
    "papermill": {
     "duration": 0.017199,
     "end_time": "2023-02-14T16:08:09.939381",
     "exception": false,
     "start_time": "2023-02-14T16:08:09.922182",
     "status": "completed"
    },
    "tags": []
   },
   "source": [
    "Их значения одинаковые, это равномерное распределение, поэтому kdeplot и не строится."
   ]
  },
  {
   "cell_type": "code",
   "execution_count": 16,
   "id": "b3fdcd3f",
   "metadata": {
    "_cell_guid": "94394cf1-4b5c-488e-ab92-f2fc9989ae89",
    "_uuid": "1bb7de8a-2d5a-4431-a4ac-2f0a517b5456",
    "collapsed": false,
    "execution": {
     "iopub.execute_input": "2023-02-14T16:08:09.985392Z",
     "iopub.status.busy": "2023-02-14T16:08:09.983897Z",
     "iopub.status.idle": "2023-02-14T16:08:10.768362Z",
     "shell.execute_reply": "2023-02-14T16:08:10.766795Z"
    },
    "jupyter": {
     "outputs_hidden": false
    },
    "papermill": {
     "duration": 0.810632,
     "end_time": "2023-02-14T16:08:10.771586",
     "exception": false,
     "start_time": "2023-02-14T16:08:09.960954",
     "status": "completed"
    },
    "tags": []
   },
   "outputs": [
    {
     "data": {
      "text/plain": [
       "[Text(0.5, 0, 'Costs per year, £')]"
      ]
     },
     "execution_count": 16,
     "metadata": {},
     "output_type": "execute_result"
    },
    {
     "data": {
      "image/png": "[encoded data removed]",
      "text/plain": [
       "<Figure size 864x864 with 1 Axes>"
      ]
     },
     "metadata": {
      "needs_background": "light"
     },
     "output_type": "display_data"
    }
   ],
   "source": [
    "plt.figure(figsize=(12,12))\n",
    "sns.boxplot(data = uk_uni_df, y = 'Region', x = 'Estimated_cost_of_living_per_year_(in_pounds)', hue = 'Campus_setting', palette='viridis').set(xlabel='Costs per year, £')"
   ]
  },
  {
   "cell_type": "markdown",
   "id": "987c11a1",
   "metadata": {
    "_cell_guid": "f266cb9b-6382-42cf-b640-dbca3f6c7906",
    "_uuid": "1d2e884e-19e0-4a6b-94c1-267c86d63de8",
    "papermill": {
     "duration": 0.018846,
     "end_time": "2023-02-14T16:08:10.811507",
     "exception": false,
     "start_time": "2023-02-14T16:08:10.792661",
     "status": "completed"
    },
    "tags": []
   },
   "source": [
    "Видим, что оценочная стоимость жизни действительно изменяется в зависимости от региона и расположения кампуса. \\\n",
    "Однако, по некоторым вариантам расположения кампуса информации практически нет. \\\n",
    "Это может быть связано с null значениями, что и видно в .info() выше (Campus_setting: 113 non-null значений из 131)"
   ]
  },
  {
   "cell_type": "code",
   "execution_count": 17,
   "id": "6c22bf0c",
   "metadata": {
    "_cell_guid": "d6902dd4-97f8-45f0-82c7-19782208e8f7",
    "_uuid": "a17004ee-b9ef-4254-90c9-9796987f2765",
    "collapsed": false,
    "execution": {
     "iopub.execute_input": "2023-02-14T16:08:10.857648Z",
     "iopub.status.busy": "2023-02-14T16:08:10.857231Z",
     "iopub.status.idle": "2023-02-14T16:08:10.877595Z",
     "shell.execute_reply": "2023-02-14T16:08:10.876357Z"
    },
    "jupyter": {
     "outputs_hidden": false
    },
    "papermill": {
     "duration": 0.048629,
     "end_time": "2023-02-14T16:08:10.880304",
     "exception": false,
     "start_time": "2023-02-14T16:08:10.831675",
     "status": "completed"
    },
    "tags": []
   },
   "outputs": [
    {
     "data": {
      "text/plain": [
       "Region\n",
       "South West England    33.33\n",
       "South East England    23.53\n",
       "Wales                 22.22\n",
       "North West England    18.18\n",
       "East Midlands         14.29\n",
       "London                13.64\n",
       "East of England       10.00\n",
       "West Midlands         10.00\n",
       "Name: Region, dtype: float64"
      ]
     },
     "execution_count": 17,
     "metadata": {},
     "output_type": "execute_result"
    }
   ],
   "source": [
    "# процент null значений по Campus_setting\n",
    "cs_n = round((uk_uni_df[uk_uni_df['Campus_setting'].isna() == True].groupby('Region').Region.count() / uk_uni_df.groupby('Region').Region.count() * 100), 2).dropna().sort_values(ascending = False)\n",
    "cs_n"
   ]
  },
  {
   "cell_type": "markdown",
   "id": "6674140c",
   "metadata": {
    "_cell_guid": "0952cc95-96c3-49fc-b346-5ad43d9d60ca",
    "_uuid": "65f45bc3-9f02-4131-8d6d-a1a6a7d32f9a",
    "papermill": {
     "duration": 0.019713,
     "end_time": "2023-02-14T16:08:10.920096",
     "exception": false,
     "start_time": "2023-02-14T16:08:10.900383",
     "status": "completed"
    },
    "tags": []
   },
   "source": [
    "При описании стоимости жизни по регионам стоит учитывать отсутствие записей. \\\n",
    "Для регионов, где null значений по Campus_setting больше 20%, подпишем замечание о том, что стоит уточнить информацию о стоимости жизнь при выборе этих регионов."
   ]
  },
  {
   "cell_type": "code",
   "execution_count": 18,
   "id": "7f2451b1",
   "metadata": {
    "_cell_guid": "e301a2f8-2851-43b2-b4d2-4b2c8cc06dcd",
    "_uuid": "2c0b56af-5f52-48c0-8354-d31e21051233",
    "collapsed": false,
    "execution": {
     "iopub.execute_input": "2023-02-14T16:08:10.961586Z",
     "iopub.status.busy": "2023-02-14T16:08:10.960808Z",
     "iopub.status.idle": "2023-02-14T16:08:10.972902Z",
     "shell.execute_reply": "2023-02-14T16:08:10.972024Z"
    },
    "jupyter": {
     "outputs_hidden": false
    },
    "papermill": {
     "duration": 0.036089,
     "end_time": "2023-02-14T16:08:10.975620",
     "exception": false,
     "start_time": "2023-02-14T16:08:10.939531",
     "status": "completed"
    },
    "tags": []
   },
   "outputs": [
    {
     "data": {
      "text/plain": [
       "Region                    Campus_setting\n",
       "Northern Ireland          Urban              6000.0\n",
       "Wales                     Rural              6885.5\n",
       "West Midlands             Urban              7048.5\n",
       "North West England        Suburban           7471.0\n",
       "                          Urban              7471.0\n",
       "Scotland                  Suburban           7500.0\n",
       "South West England        Urban              7608.5\n",
       "Wales                     Suburban           7635.5\n",
       "                          Urban              7771.0\n",
       "Scotland                  Urban              8000.0\n",
       "West Midlands             Rural              8000.0\n",
       "North East England        Rural              8000.0\n",
       "                          Urban              8000.0\n",
       "Yorkshire and the Humber  Suburban           8000.0\n",
       "South East England        Rural              8000.0\n",
       "Yorkshire and the Humber  Urban              8270.0\n",
       "South West England        Suburban           8308.5\n",
       "North West England        Rural              8500.0\n",
       "South West England        Rural              8808.5\n",
       "West Midlands             Suburban           8838.5\n",
       "South East England        Urban              8990.0\n",
       "                          Suburban           8990.0\n",
       "London                    Suburban           9114.5\n",
       "East Midlands             Suburban           9199.0\n",
       "East of England           Urban              9415.0\n",
       "                          Suburban           9415.0\n",
       "East Midlands             Urban              9949.0\n",
       "London                    Urban             10229.0\n",
       "Name: Estimated_cost_of_living_per_year_(in_pounds), dtype: float64"
      ]
     },
     "execution_count": 18,
     "metadata": {},
     "output_type": "execute_result"
    }
   ],
   "source": [
    "# стоимость жизни по регионам и расположению кампуса\n",
    "ECoL = uk_uni_df.groupby(['Region', 'Campus_setting'])['Estimated_cost_of_living_per_year_(in_pounds)'].median().sort_values()\n",
    "ECoL_df = pd.DataFrame(ECoL)\n",
    "ECoL"
   ]
  },
  {
   "cell_type": "markdown",
   "id": "2c4955ed",
   "metadata": {
    "_cell_guid": "0af0feac-b110-40c8-8e2a-b5cbb38c8dd9",
    "_uuid": "573c05e3-c3bd-4775-97e1-06d1a1550314",
    "papermill": {
     "duration": 0.019824,
     "end_time": "2023-02-14T16:08:11.018687",
     "exception": false,
     "start_time": "2023-02-14T16:08:10.998863",
     "status": "completed"
    },
    "tags": []
   },
   "source": [
    "### Число студентов (и преподавателей)"
   ]
  },
  {
   "cell_type": "markdown",
   "id": "718103c8",
   "metadata": {
    "_cell_guid": "ae3e03ee-293c-4a29-ae3e-5ed976ad8ed2",
    "_uuid": "1e5d3318-61be-4362-9329-7e1ec619457a",
    "papermill": {
     "duration": 0.018292,
     "end_time": "2023-02-14T16:08:11.056661",
     "exception": false,
     "start_time": "2023-02-14T16:08:11.038369",
     "status": "completed"
    },
    "tags": []
   },
   "source": [
    "Данные представленны в виде диапазонов, записанных как строчки, поэтому необходимо преобразовать их."
   ]
  },
  {
   "cell_type": "code",
   "execution_count": 19,
   "id": "0ce74646",
   "metadata": {
    "_cell_guid": "8becb476-3c1b-44e4-b1d6-97ee99a09fd7",
    "_uuid": "bc6047ff-1361-43a6-81cb-1325b36ca2dc",
    "collapsed": false,
    "execution": {
     "iopub.execute_input": "2023-02-14T16:08:11.096194Z",
     "iopub.status.busy": "2023-02-14T16:08:11.095694Z",
     "iopub.status.idle": "2023-02-14T16:08:11.102802Z",
     "shell.execute_reply": "2023-02-14T16:08:11.101953Z"
    },
    "jupyter": {
     "outputs_hidden": false
    },
    "papermill": {
     "duration": 0.029933,
     "end_time": "2023-02-14T16:08:11.104984",
     "exception": false,
     "start_time": "2023-02-14T16:08:11.075051",
     "status": "completed"
    },
    "tags": []
   },
   "outputs": [
    {
     "data": {
      "text/plain": [
       "array(['20,000-24,999', '25,000-29,999', '10,000-14,999', '15,000-19,999',\n",
       "       '40,000-44,999', '35,000-39,999', '30,000-34,999', '5,000-5,999',\n",
       "       '6,000-6,999', '3,000-3,999', '7,000-7,999', '2,000-2,999',\n",
       "       '4,000-4,999', '1,000-1,999', '9,000-9,999', '8,000-8,999'],\n",
       "      dtype=object)"
      ]
     },
     "execution_count": 19,
     "metadata": {},
     "output_type": "execute_result"
    }
   ],
   "source": [
    "uk_uni_df.Student_enrollment.unique()"
   ]
  },
  {
   "cell_type": "code",
   "execution_count": 20,
   "id": "b1101b36",
   "metadata": {
    "_cell_guid": "4a804b61-7d92-474a-b662-941be0d05960",
    "_uuid": "5a428cb8-5270-402c-8bad-c748a5eeb460",
    "collapsed": false,
    "execution": {
     "iopub.execute_input": "2023-02-14T16:08:11.145416Z",
     "iopub.status.busy": "2023-02-14T16:08:11.144535Z",
     "iopub.status.idle": "2023-02-14T16:08:11.151756Z",
     "shell.execute_reply": "2023-02-14T16:08:11.150821Z"
    },
    "jupyter": {
     "outputs_hidden": false
    },
    "papermill": {
     "duration": 0.030144,
     "end_time": "2023-02-14T16:08:11.153918",
     "exception": false,
     "start_time": "2023-02-14T16:08:11.123774",
     "status": "completed"
    },
    "tags": []
   },
   "outputs": [
    {
     "data": {
      "text/plain": [
       "array(['over-5,000', '1,000-1,499', '4,000-4,499', '1,500-1,999',\n",
       "       '2,000-2,499', '2,500-2,999', '3,500-3,999', '3,000-3,499',\n",
       "       '100-199', '800-899', '300-399', '700-799', '400-499', '900-999',\n",
       "       '200-299', '500-599', '600-699', '50-99'], dtype=object)"
      ]
     },
     "execution_count": 20,
     "metadata": {},
     "output_type": "execute_result"
    }
   ],
   "source": [
    "uk_uni_df.Academic_staff.unique()"
   ]
  },
  {
   "cell_type": "code",
   "execution_count": 21,
   "id": "31eaabb4",
   "metadata": {
    "_cell_guid": "c46a88b6-8008-4a8a-9859-11050ad91ac2",
    "_uuid": "c41935ba-e76c-4b0d-99aa-0fc2f94c32e3",
    "collapsed": false,
    "execution": {
     "iopub.execute_input": "2023-02-14T16:08:11.194155Z",
     "iopub.status.busy": "2023-02-14T16:08:11.193237Z",
     "iopub.status.idle": "2023-02-14T16:08:11.203806Z",
     "shell.execute_reply": "2023-02-14T16:08:11.202243Z"
    },
    "jupyter": {
     "outputs_hidden": false
    },
    "papermill": {
     "duration": 0.034087,
     "end_time": "2023-02-14T16:08:11.206756",
     "exception": false,
     "start_time": "2023-02-14T16:08:11.172669",
     "status": "completed"
    },
    "tags": []
   },
   "outputs": [],
   "source": [
    "def range_to_mean(str0):\n",
    "    s = str0.replace(',', '').split('-')\n",
    "    if s[0] == 'over':\n",
    "        m = int(s[1])\n",
    "    else:\n",
    "        m = (int(s[0]) + int(s[1])) / 2\n",
    "        m = round(m)\n",
    "    return m\n",
    "    \n",
    "uk_uni_df['Approx_stud_enrollment'] = uk_uni_df.Student_enrollment.apply(range_to_mean)\n",
    "uk_uni_df['Approx_academic_staff'] = uk_uni_df.Academic_staff.apply(range_to_mean)"
   ]
  },
  {
   "cell_type": "code",
   "execution_count": 22,
   "id": "9f7cd938",
   "metadata": {
    "_cell_guid": "5dec16c7-8b87-4912-a0db-b03882b706a5",
    "_uuid": "62100426-df6d-478f-911b-2e1ac19128e5",
    "collapsed": false,
    "execution": {
     "iopub.execute_input": "2023-02-14T16:08:11.247109Z",
     "iopub.status.busy": "2023-02-14T16:08:11.246593Z",
     "iopub.status.idle": "2023-02-14T16:08:11.971312Z",
     "shell.execute_reply": "2023-02-14T16:08:11.969710Z"
    },
    "jupyter": {
     "outputs_hidden": false
    },
    "papermill": {
     "duration": 0.748109,
     "end_time": "2023-02-14T16:08:11.973965",
     "exception": false,
     "start_time": "2023-02-14T16:08:11.225856",
     "status": "completed"
    },
    "tags": []
   },
   "outputs": [
    {
     "data": {
      "image/png": "[encoded data removed]",
      "text/plain": [
       "<Figure size 1152x1152 with 2 Axes>"
      ]
     },
     "metadata": {
      "needs_background": "light"
     },
     "output_type": "display_data"
    }
   ],
   "source": [
    "ppl = ['Approx_stud_enrollment', 'Approx_academic_staff']\n",
    "plt.figure(figsize=(16,16))\n",
    "for i in range(len(ppl)):\n",
    "    plt.subplot(2, 2, i+1)\n",
    "    plt.subplots_adjust(wspace=0.5, hspace=0.5)\n",
    "    sns.boxplot(data = uk_uni_df, x = ppl[i], y = 'Region').set(xlabel=ppl[i].replace('_',' ').replace('Approx','Approximately'))"
   ]
  },
  {
   "cell_type": "markdown",
   "id": "c68a073c",
   "metadata": {
    "_cell_guid": "c36763fc-edbc-4f06-ad84-83be88611728",
    "_uuid": "b6fe7802-62af-4640-a5e1-aa11ddbb7af6",
    "papermill": {
     "duration": 0.0204,
     "end_time": "2023-02-14T16:08:12.014339",
     "exception": false,
     "start_time": "2023-02-14T16:08:11.993939",
     "status": "completed"
    },
    "tags": []
   },
   "source": [
    "Видно, что данные по большинству регионов довольно широко распределены, поэтому учитывать число студентов в университете всё же лучше независимо от региона."
   ]
  },
  {
   "cell_type": "code",
   "execution_count": 23,
   "id": "b276a745",
   "metadata": {
    "_cell_guid": "ac73bfec-0cf5-4070-b474-bd4556e7913d",
    "_uuid": "d774ce08-65c8-4802-a819-c7fdf26312aa",
    "collapsed": false,
    "execution": {
     "iopub.execute_input": "2023-02-14T16:08:12.058841Z",
     "iopub.status.busy": "2023-02-14T16:08:12.058361Z",
     "iopub.status.idle": "2023-02-14T16:08:12.067217Z",
     "shell.execute_reply": "2023-02-14T16:08:12.065816Z"
    },
    "jupyter": {
     "outputs_hidden": false
    },
    "papermill": {
     "duration": 0.033778,
     "end_time": "2023-02-14T16:08:12.069591",
     "exception": false,
     "start_time": "2023-02-14T16:08:12.035813",
     "status": "completed"
    },
    "tags": []
   },
   "outputs": [],
   "source": [
    "AprSE = round(uk_uni_df.groupby('Region').Approx_stud_enrollment.mean().sort_values(ascending = False), 2)"
   ]
  },
  {
   "cell_type": "markdown",
   "id": "fa33b2ce",
   "metadata": {
    "_cell_guid": "bdf8f624-3a3a-471c-b81d-0e26c1923f3f",
    "_uuid": "c5e9e819-9178-43ba-991c-0f8471145b5f",
    "papermill": {
     "duration": 0.020065,
     "end_time": "2023-02-14T16:08:12.110097",
     "exception": false,
     "start_time": "2023-02-14T16:08:12.090032",
     "status": "completed"
    },
    "tags": []
   },
   "source": [
    "### Число иностранных студентов"
   ]
  },
  {
   "cell_type": "code",
   "execution_count": 24,
   "id": "b53ea692",
   "metadata": {
    "_cell_guid": "7728acb0-4cb7-4b91-9e72-f603989155bf",
    "_uuid": "3b92628c-a656-4008-a75d-be7110dae5bf",
    "collapsed": false,
    "execution": {
     "iopub.execute_input": "2023-02-14T16:08:12.154640Z",
     "iopub.status.busy": "2023-02-14T16:08:12.154166Z",
     "iopub.status.idle": "2023-02-14T16:08:12.575570Z",
     "shell.execute_reply": "2023-02-14T16:08:12.574196Z"
    },
    "jupyter": {
     "outputs_hidden": false
    },
    "papermill": {
     "duration": 0.446367,
     "end_time": "2023-02-14T16:08:12.578384",
     "exception": false,
     "start_time": "2023-02-14T16:08:12.132017",
     "status": "completed"
    },
    "tags": []
   },
   "outputs": [
    {
     "data": {
      "text/plain": [
       "[Text(0, 0.5, 'International students, %')]"
      ]
     },
     "execution_count": 24,
     "metadata": {},
     "output_type": "execute_result"
    },
    {
     "data": {
      "image/png": "[encoded data removed]",
      "text/plain": [
       "<Figure size 864x576 with 1 Axes>"
      ]
     },
     "metadata": {
      "needs_background": "light"
     },
     "output_type": "display_data"
    }
   ],
   "source": [
    "plt.figure(figsize=(12,8))\n",
    "plt.xticks(rotation=45)\n",
    "sns.boxplot(data = uk_uni_df, x = 'Region', y = 'Percent_of_international_students').set(ylabel='International students, %')"
   ]
  },
  {
   "cell_type": "code",
   "execution_count": 25,
   "id": "22c247d5",
   "metadata": {
    "_cell_guid": "23a74db7-9615-4368-9cca-53e4368a8c90",
    "_uuid": "b00e779f-cf00-4fc2-9450-aa4ba3bdf463",
    "collapsed": false,
    "execution": {
     "iopub.execute_input": "2023-02-14T16:08:12.625208Z",
     "iopub.status.busy": "2023-02-14T16:08:12.624785Z",
     "iopub.status.idle": "2023-02-14T16:08:12.636605Z",
     "shell.execute_reply": "2023-02-14T16:08:12.635155Z"
    },
    "jupyter": {
     "outputs_hidden": false
    },
    "papermill": {
     "duration": 0.038044,
     "end_time": "2023-02-14T16:08:12.638954",
     "exception": false,
     "start_time": "2023-02-14T16:08:12.600910",
     "status": "completed"
    },
    "tags": []
   },
   "outputs": [
    {
     "data": {
      "text/plain": [
       "Region\n",
       "London                      22.104091\n",
       "Scotland                    17.664286\n",
       "South East England          17.429412\n",
       "West Midlands               14.908000\n",
       "Wales                       14.521111\n",
       "East Midlands               13.914286\n",
       "East of England             13.909000\n",
       "North East England          13.350000\n",
       "Yorkshire and the Humber    11.962727\n",
       "South West England          11.682500\n",
       "North West England          11.581818\n",
       "Northern Ireland             8.450000\n",
       "Name: Percent_of_international_students, dtype: float64"
      ]
     },
     "execution_count": 25,
     "metadata": {},
     "output_type": "execute_result"
    }
   ],
   "source": [
    "PoIS = uk_uni_df.groupby('Region').Percent_of_international_students.mean().sort_values(ascending = False)\n",
    "PoIS"
   ]
  },
  {
   "cell_type": "code",
   "execution_count": 26,
   "id": "12dfd44c",
   "metadata": {
    "_cell_guid": "4de11798-735c-4979-bb37-aec32d6af921",
    "_uuid": "345f3200-9a32-4974-b60b-e5275ce5744c",
    "collapsed": false,
    "execution": {
     "iopub.execute_input": "2023-02-14T16:08:12.684983Z",
     "iopub.status.busy": "2023-02-14T16:08:12.684515Z",
     "iopub.status.idle": "2023-02-14T16:08:12.695393Z",
     "shell.execute_reply": "2023-02-14T16:08:12.694132Z"
    },
    "jupyter": {
     "outputs_hidden": false
    },
    "papermill": {
     "duration": 0.037253,
     "end_time": "2023-02-14T16:08:12.697848",
     "exception": false,
     "start_time": "2023-02-14T16:08:12.660595",
     "status": "completed"
    },
    "tags": []
   },
   "outputs": [
    {
     "data": {
      "text/plain": [
       "Region\n",
       "London                      61.06\n",
       "Scotland                    11.39\n",
       "South East England           9.86\n",
       "West Midlands                0.38\n",
       "Wales                        0.05\n",
       "East Midlands                0.14\n",
       "East of England              0.14\n",
       "North East England           0.88\n",
       "Yorkshire and the Humber     5.42\n",
       "South West England           6.80\n",
       "North West England           7.33\n",
       "Northern Ireland            34.10\n",
       "Name: Percent_of_international_students, dtype: float64"
      ]
     },
     "execution_count": 26,
     "metadata": {},
     "output_type": "execute_result"
    }
   ],
   "source": [
    "round((PoIS - PoIS.mean())**2, 2)"
   ]
  },
  {
   "cell_type": "markdown",
   "id": "96e8e33c",
   "metadata": {
    "_cell_guid": "7d371cf8-eefe-4e18-ba33-a59950e02c01",
    "_uuid": "c4436752-bbb6-4c67-aa4d-6c561235f557",
    "papermill": {
     "duration": 0.021543,
     "end_time": "2023-02-14T16:08:12.740966",
     "exception": false,
     "start_time": "2023-02-14T16:08:12.719423",
     "status": "completed"
    },
    "tags": []
   },
   "source": [
    "Больше всего иностранных студентов: Лондон \\\n",
    "Много иностранных студентов: Шотландия, Юго-Восточная Англия \\\n",
    "Мало иностранных студентов: Северная Ирландия"
   ]
  },
  {
   "cell_type": "markdown",
   "id": "0e76463a",
   "metadata": {
    "_cell_guid": "8512e60a-318a-44a5-ab8e-720b2bee7b0d",
    "_uuid": "65989881-f1cf-4ac5-8855-d7102b29b958",
    "papermill": {
     "duration": 0.02133,
     "end_time": "2023-02-14T16:08:12.784439",
     "exception": false,
     "start_time": "2023-02-14T16:08:12.763109",
     "status": "completed"
    },
    "tags": []
   },
   "source": [
    "### Оформление результата"
   ]
  },
  {
   "cell_type": "code",
   "execution_count": 27,
   "id": "9ead779c",
   "metadata": {
    "_cell_guid": "79547911-e632-4d52-8268-8b379cb9389e",
    "_uuid": "cd3b8bfb-d7be-4355-89f5-386c9f54fb36",
    "collapsed": false,
    "execution": {
     "iopub.execute_input": "2023-02-14T16:08:12.831231Z",
     "iopub.status.busy": "2023-02-14T16:08:12.830795Z",
     "iopub.status.idle": "2023-02-14T16:08:12.894612Z",
     "shell.execute_reply": "2023-02-14T16:08:12.893096Z"
    },
    "jupyter": {
     "outputs_hidden": false
    },
    "papermill": {
     "duration": 0.091509,
     "end_time": "2023-02-14T16:08:12.897862",
     "exception": false,
     "start_time": "2023-02-14T16:08:12.806353",
     "status": "completed"
    },
    "tags": []
   },
   "outputs": [],
   "source": [
    "# создание таблицы с полученными данными\n",
    "result_df = pd.DataFrame(columns=['Region', \n",
    "                                  'Stud_satisfaction', \n",
    "                                  'urban_Costs',\n",
    "                                  'suburban_Costs',\n",
    "                                  'rural_Costs',\n",
    "                                  'Mean_stud_amount',\n",
    "                                  'Mean_int_studs_percent'])\n",
    "\n",
    "campus_dict = {'Urban': 'в городе', 'Suburban': 'в пригороде', 'Rural': 'вне города'}\n",
    "\n",
    "for region in uk_uni_df.Region.unique().tolist():\n",
    "    \n",
    "    reg_inf = {'Region': np.NaN, \n",
    "               'Stud_satisfaction': np.NaN, \n",
    "               'urban_Costs': np.NaN,\n",
    "               'suburban_Costs': np.NaN,\n",
    "               'rural_Costs': np.NaN,\n",
    "               'Mean_stud_amount': np.NaN,\n",
    "               'Mean_int_studs_percent': np.NaN}\n",
    "    \n",
    "    reg_inf['Region'] = region\n",
    "    reg_inf['Stud_satisfaction'] = round(PoSS[region], 2)\n",
    "    \n",
    "    for cs in ['Urban', 'Suburban', 'Rural']:\n",
    "        try:\n",
    "            reg_inf[cs.lower()+'_Costs'] = float(ECoL_df.loc[region, cs])\n",
    "        except:\n",
    "            continue\n",
    "    \n",
    "    reg_inf['Mean_stud_amount'] = int(AprSE[region])\n",
    "    reg_inf['Mean_int_studs_percent'] = round(PoIS[region], 2)\n",
    "\n",
    "    result_df = result_df.append(reg_inf, ignore_index=True)"
   ]
  },
  {
   "cell_type": "code",
   "execution_count": 28,
   "id": "d06426b4",
   "metadata": {
    "_cell_guid": "7cf2c647-46e0-45a0-9d3f-fd67fce3f08d",
    "_uuid": "c2e0b3f0-9631-4816-b7c1-ea7d19415396",
    "collapsed": false,
    "execution": {
     "iopub.execute_input": "2023-02-14T16:08:12.944921Z",
     "iopub.status.busy": "2023-02-14T16:08:12.944471Z",
     "iopub.status.idle": "2023-02-14T16:08:12.954346Z",
     "shell.execute_reply": "2023-02-14T16:08:12.952011Z"
    },
    "jupyter": {
     "outputs_hidden": false
    },
    "papermill": {
     "duration": 0.039358,
     "end_time": "2023-02-14T16:08:12.959620",
     "exception": false,
     "start_time": "2023-02-14T16:08:12.920262",
     "status": "completed"
    },
    "tags": []
   },
   "outputs": [],
   "source": [
    "result_df = result_df.sort_values(by = 'Stud_satisfaction', ascending = False).reset_index(drop = True)"
   ]
  },
  {
   "cell_type": "code",
   "execution_count": 29,
   "id": "226a93b2",
   "metadata": {
    "_cell_guid": "848f4c21-1e6d-455d-85f4-f78b5ca49521",
    "_uuid": "297aa4d7-a4f6-4f36-a6f6-ad6a37836454",
    "collapsed": false,
    "execution": {
     "iopub.execute_input": "2023-02-14T16:08:13.027206Z",
     "iopub.status.busy": "2023-02-14T16:08:13.026364Z",
     "iopub.status.idle": "2023-02-14T16:08:13.036233Z",
     "shell.execute_reply": "2023-02-14T16:08:13.035206Z"
    },
    "jupyter": {
     "outputs_hidden": false
    },
    "papermill": {
     "duration": 0.049223,
     "end_time": "2023-02-14T16:08:13.038757",
     "exception": false,
     "start_time": "2023-02-14T16:08:12.989534",
     "status": "completed"
    },
    "tags": []
   },
   "outputs": [],
   "source": [
    "# таблица с итоговыми данными\n",
    "result_df = result_df.fillna('')"
   ]
  },
  {
   "cell_type": "markdown",
   "id": "b66684dc",
   "metadata": {
    "_cell_guid": "cbba5406-ab2f-40c3-8838-5bb59242b1a4",
    "_uuid": "5283b68e-030c-4615-91a4-16915699f6fa",
    "papermill": {
     "duration": 0.02159,
     "end_time": "2023-02-14T16:08:13.089070",
     "exception": false,
     "start_time": "2023-02-14T16:08:13.067480",
     "status": "completed"
    },
    "tags": []
   },
   "source": [
    "## Результат"
   ]
  },
  {
   "cell_type": "code",
   "execution_count": 30,
   "id": "4b8919c9",
   "metadata": {
    "_cell_guid": "33e0cc3b-0a6a-4c50-b6e2-d8e4d3ad2e3d",
    "_uuid": "ec49b786-b457-4cc8-8347-aa9408d06cad",
    "collapsed": false,
    "execution": {
     "iopub.execute_input": "2023-02-14T16:08:13.137169Z",
     "iopub.status.busy": "2023-02-14T16:08:13.135366Z",
     "iopub.status.idle": "2023-02-14T16:08:13.158032Z",
     "shell.execute_reply": "2023-02-14T16:08:13.156613Z"
    },
    "jupyter": {
     "outputs_hidden": false
    },
    "papermill": {
     "duration": 0.0503,
     "end_time": "2023-02-14T16:08:13.160822",
     "exception": false,
     "start_time": "2023-02-14T16:08:13.110522",
     "status": "completed"
    },
    "tags": []
   },
   "outputs": [
    {
     "data": {
      "text/html": [
       "<div>\n",
       "<style scoped>\n",
       "    .dataframe tbody tr th:only-of-type {\n",
       "        vertical-align: middle;\n",
       "    }\n",
       "\n",
       "    .dataframe tbody tr th {\n",
       "        vertical-align: top;\n",
       "    }\n",
       "\n",
       "    .dataframe thead th {\n",
       "        text-align: right;\n",
       "    }\n",
       "</style>\n",
       "<table border=\"1\" class=\"dataframe\">\n",
       "  <thead>\n",
       "    <tr style=\"text-align: right;\">\n",
       "      <th></th>\n",
       "      <th>Region</th>\n",
       "      <th>Stud_satisfaction</th>\n",
       "      <th>urban_Costs</th>\n",
       "      <th>suburban_Costs</th>\n",
       "      <th>rural_Costs</th>\n",
       "      <th>Mean_stud_amount</th>\n",
       "      <th>Mean_int_studs_percent</th>\n",
       "    </tr>\n",
       "  </thead>\n",
       "  <tbody>\n",
       "    <tr>\n",
       "      <th>0</th>\n",
       "      <td>Wales</td>\n",
       "      <td>80.19</td>\n",
       "      <td>7771.0</td>\n",
       "      <td>7635.5</td>\n",
       "      <td>6885.5</td>\n",
       "      <td>14833</td>\n",
       "      <td>14.52</td>\n",
       "    </tr>\n",
       "    <tr>\n",
       "      <th>1</th>\n",
       "      <td>West Midlands</td>\n",
       "      <td>79.83</td>\n",
       "      <td>7048.5</td>\n",
       "      <td>8838.5</td>\n",
       "      <td>8000.0</td>\n",
       "      <td>19500</td>\n",
       "      <td>14.91</td>\n",
       "    </tr>\n",
       "    <tr>\n",
       "      <th>2</th>\n",
       "      <td>East Midlands</td>\n",
       "      <td>79.43</td>\n",
       "      <td>9949.0</td>\n",
       "      <td>9199.0</td>\n",
       "      <td></td>\n",
       "      <td>22500</td>\n",
       "      <td>13.91</td>\n",
       "    </tr>\n",
       "    <tr>\n",
       "      <th>3</th>\n",
       "      <td>South West England</td>\n",
       "      <td>79.34</td>\n",
       "      <td>7608.5</td>\n",
       "      <td>8308.5</td>\n",
       "      <td>8808.5</td>\n",
       "      <td>12416</td>\n",
       "      <td>11.68</td>\n",
       "    </tr>\n",
       "    <tr>\n",
       "      <th>4</th>\n",
       "      <td>Scotland</td>\n",
       "      <td>78.90</td>\n",
       "      <td>8000.0</td>\n",
       "      <td>7500.0</td>\n",
       "      <td></td>\n",
       "      <td>16071</td>\n",
       "      <td>17.66</td>\n",
       "    </tr>\n",
       "    <tr>\n",
       "      <th>5</th>\n",
       "      <td>Yorkshire and the Humber</td>\n",
       "      <td>78.85</td>\n",
       "      <td>8270.0</td>\n",
       "      <td>8000.0</td>\n",
       "      <td></td>\n",
       "      <td>18136</td>\n",
       "      <td>11.96</td>\n",
       "    </tr>\n",
       "    <tr>\n",
       "      <th>6</th>\n",
       "      <td>Northern Ireland</td>\n",
       "      <td>78.85</td>\n",
       "      <td>6000.0</td>\n",
       "      <td></td>\n",
       "      <td></td>\n",
       "      <td>22500</td>\n",
       "      <td>8.45</td>\n",
       "    </tr>\n",
       "    <tr>\n",
       "      <th>7</th>\n",
       "      <td>East of England</td>\n",
       "      <td>78.83</td>\n",
       "      <td>9415.0</td>\n",
       "      <td>9415.0</td>\n",
       "      <td></td>\n",
       "      <td>14500</td>\n",
       "      <td>13.91</td>\n",
       "    </tr>\n",
       "    <tr>\n",
       "      <th>8</th>\n",
       "      <td>North West England</td>\n",
       "      <td>78.57</td>\n",
       "      <td>7471.0</td>\n",
       "      <td>7471.0</td>\n",
       "      <td>8500.0</td>\n",
       "      <td>19500</td>\n",
       "      <td>11.58</td>\n",
       "    </tr>\n",
       "    <tr>\n",
       "      <th>9</th>\n",
       "      <td>South East England</td>\n",
       "      <td>78.56</td>\n",
       "      <td>8990.0</td>\n",
       "      <td>8990.0</td>\n",
       "      <td>8000.0</td>\n",
       "      <td>15147</td>\n",
       "      <td>17.43</td>\n",
       "    </tr>\n",
       "    <tr>\n",
       "      <th>10</th>\n",
       "      <td>North East England</td>\n",
       "      <td>77.97</td>\n",
       "      <td>8000.0</td>\n",
       "      <td></td>\n",
       "      <td>8000.0</td>\n",
       "      <td>19166</td>\n",
       "      <td>13.35</td>\n",
       "    </tr>\n",
       "    <tr>\n",
       "      <th>11</th>\n",
       "      <td>London</td>\n",
       "      <td>74.85</td>\n",
       "      <td>10229.0</td>\n",
       "      <td>9114.5</td>\n",
       "      <td></td>\n",
       "      <td>15681</td>\n",
       "      <td>22.10</td>\n",
       "    </tr>\n",
       "  </tbody>\n",
       "</table>\n",
       "</div>"
      ],
      "text/plain": [
       "                      Region  Stud_satisfaction  urban_Costs suburban_Costs  \\\n",
       "0                      Wales              80.19       7771.0         7635.5   \n",
       "1              West Midlands              79.83       7048.5         8838.5   \n",
       "2              East Midlands              79.43       9949.0         9199.0   \n",
       "3         South West England              79.34       7608.5         8308.5   \n",
       "4                   Scotland              78.90       8000.0         7500.0   \n",
       "5   Yorkshire and the Humber              78.85       8270.0         8000.0   \n",
       "6           Northern Ireland              78.85       6000.0                  \n",
       "7            East of England              78.83       9415.0         9415.0   \n",
       "8         North West England              78.57       7471.0         7471.0   \n",
       "9         South East England              78.56       8990.0         8990.0   \n",
       "10        North East England              77.97       8000.0                  \n",
       "11                    London              74.85      10229.0         9114.5   \n",
       "\n",
       "   rural_Costs  Mean_stud_amount  Mean_int_studs_percent  \n",
       "0       6885.5             14833                   14.52  \n",
       "1       8000.0             19500                   14.91  \n",
       "2                          22500                   13.91  \n",
       "3       8808.5             12416                   11.68  \n",
       "4                          16071                   17.66  \n",
       "5                          18136                   11.96  \n",
       "6                          22500                    8.45  \n",
       "7                          14500                   13.91  \n",
       "8       8500.0             19500                   11.58  \n",
       "9       8000.0             15147                   17.43  \n",
       "10      8000.0             19166                   13.35  \n",
       "11                         15681                   22.10  "
      ]
     },
     "execution_count": 30,
     "metadata": {},
     "output_type": "execute_result"
    }
   ],
   "source": [
    "result_df"
   ]
  },
  {
   "cell_type": "markdown",
   "id": "e8fab177",
   "metadata": {
    "_cell_guid": "95b03746-58bf-4b08-883c-ac2e351ca956",
    "_uuid": "eb6b3dc5-664e-40e2-a595-337512f08d51",
    "papermill": {
     "duration": 0.022546,
     "end_time": "2023-02-14T16:08:13.205634",
     "exception": false,
     "start_time": "2023-02-14T16:08:13.183088",
     "status": "completed"
    },
    "tags": []
   },
   "source": [
    "Выводы:\n",
    "\n",
    "- Cтуденты во всех регионах примерно одинаково удовлетворены, за исключением Лондона, где этот показатель заметно ниже\n",
    "\n",
    "- Cтоимость жизни отличается в зависимости от региона и расположения кампуса. Варианты расположения: город - все регионы, пригород - большинство регионов, вне города - половина регионов. Также в Юго-Западной и Юго-Восточной Англии и Уэйльсе отсутстивует более 20% информации по расположению кампуса, поэтому при выборе этих регионов стоит уточнить информацию по стоимости жизни\n",
    "\n",
    "- Количество студентов в каждом регионе широко распредлено и меняется в зависимости от университета\n",
    "\n",
    "- Больше всего иностранных студентов в Лондоне, много - Шотландии и Юго-Восточной Англии, а меньше всего - в Северной Ирландии"
   ]
  }
 ],
 "metadata": {
  "kernelspec": {
   "display_name": "Python 3",
   "language": "python",
   "name": "python3"
  },
  "language_info": {
   "codemirror_mode": {
    "name": "ipython",
    "version": 3
   },
   "file_extension": ".py",
   "mimetype": "text/x-python",
   "name": "python",
   "nbconvert_exporter": "python",
   "pygments_lexer": "ipython3",
   "version": "3.7.12"
  },
  "papermill": {
   "default_parameters": {},
   "duration": 21.670537,
   "end_time": "2023-02-14T16:08:14.255002",
   "environment_variables": {},
   "exception": null,
   "input_path": "__notebook__.ipynb",
   "output_path": "__notebook__.ipynb",
   "parameters": {},
   "start_time": "2023-02-14T16:07:52.584465",
   "version": "2.3.4"
  }
 },
 "nbformat": 4,
 "nbformat_minor": 5
}
