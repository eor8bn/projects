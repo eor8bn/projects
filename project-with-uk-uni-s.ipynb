{
 "cells": [
  {
   "cell_type": "markdown",
   "id": "de069d1c",
   "metadata": {
    "_cell_guid": "2e701332-fbf0-43c5-b2c3-c3ddc8f74718",
    "_uuid": "b510636d-c087-437f-8895-13f1711366a4",
    "papermill": {
     "duration": 0.01135,
     "end_time": "2022-11-27T16:28:11.180409",
     "exception": false,
     "start_time": "2022-11-27T16:28:11.169059",
     "status": "completed"
    },
    "tags": []
   },
   "source": [
    "### Исследование регионов Великобритании по параметрам университетов"
   ]
  },
  {
   "cell_type": "markdown",
   "id": "f7e21f7d",
   "metadata": {
    "_cell_guid": "3d0abdc9-2f22-4de8-83ff-f5a5c5ff2cc8",
    "_uuid": "533b08bf-1b84-45b1-bc2a-898a61dd55f1",
    "papermill": {
     "duration": 0.009943,
     "end_time": "2022-11-27T16:28:11.200227",
     "exception": false,
     "start_time": "2022-11-27T16:28:11.190284",
     "status": "completed"
    },
    "tags": []
   },
   "source": [
    "Выбор университета происходит преимущественно по наличию интересующих образовательных программ, его рейтингу, стоимости обучения и прочим параметрам.\n",
    "\n",
    "Однако, существует важный момент, на который не все обращают внимание при выборе университета - это жизнь в том месте, где университет находится.\n",
    "\n",
    "Цель данного проекта - изучить параметры университетов в регионах \n",
    "и получить информацию с особенностями для каждого региона, что могло бы помочь студентам при выборе региона, в котором они хотят учиться."
   ]
  },
  {
   "cell_type": "code",
   "execution_count": 1,
   "id": "2dcbc75f",
   "metadata": {
    "_cell_guid": "99dd7bf8-7eb8-4950-a974-3b1226f14fe8",
    "_uuid": "bf536673-8de0-4a86-864f-bdfdec2ffbcf",
    "collapsed": false,
    "execution": {
     "iopub.execute_input": "2022-11-27T16:28:11.223413Z",
     "iopub.status.busy": "2022-11-27T16:28:11.222678Z",
     "iopub.status.idle": "2022-11-27T16:28:12.392060Z",
     "shell.execute_reply": "2022-11-27T16:28:12.390130Z"
    },
    "jupyter": {
     "outputs_hidden": false
    },
    "papermill": {
     "duration": 1.185741,
     "end_time": "2022-11-27T16:28:12.395989",
     "exception": false,
     "start_time": "2022-11-27T16:28:11.210248",
     "status": "completed"
    },
    "tags": []
   },
   "outputs": [
    {
     "name": "stdout",
     "output_type": "stream",
     "text": [
      "/kaggle/input/best-universities-in-the-united-kingdom/uk_universities.csv\n"
     ]
    }
   ],
   "source": [
    "import pandas as pd\n",
    "import numpy as np\n",
    "from scipy import stats as st\n",
    "\n",
    "import os\n",
    "for dirname, _, filenames in os.walk('/kaggle/input'):\n",
    "    for filename in filenames:\n",
    "        print(os.path.join(dirname, filename))\n",
    "\n",
    "import seaborn as sns\n",
    "from matplotlib import pyplot as plt"
   ]
  },
  {
   "cell_type": "code",
   "execution_count": 2,
   "id": "cfd15d67",
   "metadata": {
    "_cell_guid": "d056b2da-5cc6-44be-a18b-661451e284c3",
    "_uuid": "6e57b288-5a3d-4d5c-80d2-247bb750b9ef",
    "collapsed": false,
    "execution": {
     "iopub.execute_input": "2022-11-27T16:28:12.419547Z",
     "iopub.status.busy": "2022-11-27T16:28:12.419128Z",
     "iopub.status.idle": "2022-11-27T16:28:12.441510Z",
     "shell.execute_reply": "2022-11-27T16:28:12.440203Z"
    },
    "jupyter": {
     "outputs_hidden": false
    },
    "papermill": {
     "duration": 0.036088,
     "end_time": "2022-11-27T16:28:12.443891",
     "exception": false,
     "start_time": "2022-11-27T16:28:12.407803",
     "status": "completed"
    },
    "tags": []
   },
   "outputs": [],
   "source": [
    "uk_uni_df = pd.read_csv('../input/best-universities-in-the-united-kingdom/uk_universities.csv')"
   ]
  },
  {
   "cell_type": "code",
   "execution_count": 3,
   "id": "b9fe8ceb",
   "metadata": {
    "_cell_guid": "0c05a526-3546-4da0-9286-ac19bb7f8bb1",
    "_uuid": "67177908-4e73-4467-987a-b4157cc1802e",
    "collapsed": false,
    "execution": {
     "iopub.execute_input": "2022-11-27T16:28:12.465764Z",
     "iopub.status.busy": "2022-11-27T16:28:12.465319Z",
     "iopub.status.idle": "2022-11-27T16:28:12.504201Z",
     "shell.execute_reply": "2022-11-27T16:28:12.502902Z"
    },
    "jupyter": {
     "outputs_hidden": false
    },
    "papermill": {
     "duration": 0.053815,
     "end_time": "2022-11-27T16:28:12.507610",
     "exception": false,
     "start_time": "2022-11-27T16:28:12.453795",
     "status": "completed"
    },
    "tags": []
   },
   "outputs": [
    {
     "data": {
      "text/html": [
       "<div>\n",
       "<style scoped>\n",
       "    .dataframe tbody tr th:only-of-type {\n",
       "        vertical-align: middle;\n",
       "    }\n",
       "\n",
       "    .dataframe tbody tr th {\n",
       "        vertical-align: top;\n",
       "    }\n",
       "\n",
       "    .dataframe thead th {\n",
       "        text-align: right;\n",
       "    }\n",
       "</style>\n",
       "<table border=\"1\" class=\"dataframe\">\n",
       "  <thead>\n",
       "    <tr style=\"text-align: right;\">\n",
       "      <th></th>\n",
       "      <th>University_name</th>\n",
       "      <th>Region</th>\n",
       "      <th>Founded_year</th>\n",
       "      <th>Motto</th>\n",
       "      <th>UK_rank</th>\n",
       "      <th>World_rank</th>\n",
       "      <th>CWUR_score</th>\n",
       "      <th>Minimum_IELTS_score</th>\n",
       "      <th>UG_average_fees_(in_pounds)</th>\n",
       "      <th>PG_average_fees_(in_pounds)</th>\n",
       "      <th>...</th>\n",
       "      <th>Student_satisfaction</th>\n",
       "      <th>Student_enrollment</th>\n",
       "      <th>Academic_staff</th>\n",
       "      <th>Control_type</th>\n",
       "      <th>Academic_Calender</th>\n",
       "      <th>Campus_setting</th>\n",
       "      <th>Estimated_cost_of_living_per_year_(in_pounds)</th>\n",
       "      <th>Latitude</th>\n",
       "      <th>Longitude</th>\n",
       "      <th>Website</th>\n",
       "    </tr>\n",
       "  </thead>\n",
       "  <tbody>\n",
       "    <tr>\n",
       "      <th>0</th>\n",
       "      <td>University of Cambridge</td>\n",
       "      <td>East of England</td>\n",
       "      <td>1209</td>\n",
       "      <td>From here, light and sacred draughts</td>\n",
       "      <td>1</td>\n",
       "      <td>4</td>\n",
       "      <td>94.1</td>\n",
       "      <td>6.5</td>\n",
       "      <td>21750</td>\n",
       "      <td>23187</td>\n",
       "      <td>...</td>\n",
       "      <td>85.50%</td>\n",
       "      <td>20,000-24,999</td>\n",
       "      <td>over-5,000</td>\n",
       "      <td>Public</td>\n",
       "      <td>Trimesters</td>\n",
       "      <td>Urban</td>\n",
       "      <td>12000</td>\n",
       "      <td>52.2054</td>\n",
       "      <td>0.1132</td>\n",
       "      <td>www.cam.ac.uk</td>\n",
       "    </tr>\n",
       "    <tr>\n",
       "      <th>1</th>\n",
       "      <td>University of Oxford</td>\n",
       "      <td>South East England</td>\n",
       "      <td>1096</td>\n",
       "      <td>The Lord is my light</td>\n",
       "      <td>2</td>\n",
       "      <td>2</td>\n",
       "      <td>93.3</td>\n",
       "      <td>6.5</td>\n",
       "      <td>21770</td>\n",
       "      <td>19888</td>\n",
       "      <td>...</td>\n",
       "      <td>86.50%</td>\n",
       "      <td>25,000-29,999</td>\n",
       "      <td>over-5,000</td>\n",
       "      <td>Public</td>\n",
       "      <td>Trimesters</td>\n",
       "      <td>Urban</td>\n",
       "      <td>11500</td>\n",
       "      <td>51.7548</td>\n",
       "      <td>-1.2544</td>\n",
       "      <td>www.ox.ac.uk</td>\n",
       "    </tr>\n",
       "    <tr>\n",
       "      <th>2</th>\n",
       "      <td>University of St Andrews</td>\n",
       "      <td>Scotland</td>\n",
       "      <td>1413</td>\n",
       "      <td>Ever to excel</td>\n",
       "      <td>3</td>\n",
       "      <td>86</td>\n",
       "      <td>75.8</td>\n",
       "      <td>6.5</td>\n",
       "      <td>17040</td>\n",
       "      <td>15440</td>\n",
       "      <td>...</td>\n",
       "      <td>87.90%</td>\n",
       "      <td>10,000-14,999</td>\n",
       "      <td>1,000-1,499</td>\n",
       "      <td>Public</td>\n",
       "      <td>Semesters</td>\n",
       "      <td>Suburban</td>\n",
       "      <td>12000</td>\n",
       "      <td>56.3417</td>\n",
       "      <td>-2.7943</td>\n",
       "      <td>www.st-andrews.ac.uk</td>\n",
       "    </tr>\n",
       "    <tr>\n",
       "      <th>3</th>\n",
       "      <td>Imperial College London</td>\n",
       "      <td>London</td>\n",
       "      <td>1907</td>\n",
       "      <td>Knowledge is the adornment and safeguard of th...</td>\n",
       "      <td>4</td>\n",
       "      <td>8</td>\n",
       "      <td>86.6</td>\n",
       "      <td>6.5</td>\n",
       "      <td>23500</td>\n",
       "      <td>29900</td>\n",
       "      <td>...</td>\n",
       "      <td>77.90%</td>\n",
       "      <td>15,000-19,999</td>\n",
       "      <td>4,000-4,499</td>\n",
       "      <td>Public</td>\n",
       "      <td>Continuous</td>\n",
       "      <td>Urban</td>\n",
       "      <td>10700</td>\n",
       "      <td>51.4988</td>\n",
       "      <td>-0.1749</td>\n",
       "      <td>www.ic.ac.uk</td>\n",
       "    </tr>\n",
       "    <tr>\n",
       "      <th>4</th>\n",
       "      <td>Loughborough University</td>\n",
       "      <td>East Midlands</td>\n",
       "      <td>1966</td>\n",
       "      <td>With Truth, Knowledge and Labour</td>\n",
       "      <td>5</td>\n",
       "      <td>404</td>\n",
       "      <td>72.8</td>\n",
       "      <td>5.5</td>\n",
       "      <td>16400</td>\n",
       "      <td>16400</td>\n",
       "      <td>...</td>\n",
       "      <td>85.80%</td>\n",
       "      <td>15,000-19,999</td>\n",
       "      <td>1,500-1,999</td>\n",
       "      <td>Public</td>\n",
       "      <td>Semesters</td>\n",
       "      <td>Suburban</td>\n",
       "      <td>9398</td>\n",
       "      <td>52.7650</td>\n",
       "      <td>-1.2321</td>\n",
       "      <td>www.lboro.ac.uk/</td>\n",
       "    </tr>\n",
       "  </tbody>\n",
       "</table>\n",
       "<p>5 rows × 21 columns</p>\n",
       "</div>"
      ],
      "text/plain": [
       "            University_name              Region  Founded_year  \\\n",
       "0   University of Cambridge     East of England          1209   \n",
       "1      University of Oxford  South East England          1096   \n",
       "2  University of St Andrews            Scotland          1413   \n",
       "3   Imperial College London              London          1907   \n",
       "4   Loughborough University       East Midlands          1966   \n",
       "\n",
       "                                               Motto  UK_rank  World_rank  \\\n",
       "0               From here, light and sacred draughts        1           4   \n",
       "1                               The Lord is my light        2           2   \n",
       "2                                      Ever to excel        3          86   \n",
       "3  Knowledge is the adornment and safeguard of th...        4           8   \n",
       "4                   With Truth, Knowledge and Labour        5         404   \n",
       "\n",
       "   CWUR_score  Minimum_IELTS_score  UG_average_fees_(in_pounds)  \\\n",
       "0        94.1                  6.5                        21750   \n",
       "1        93.3                  6.5                        21770   \n",
       "2        75.8                  6.5                        17040   \n",
       "3        86.6                  6.5                        23500   \n",
       "4        72.8                  5.5                        16400   \n",
       "\n",
       "   PG_average_fees_(in_pounds)  ... Student_satisfaction Student_enrollment  \\\n",
       "0                        23187  ...               85.50%      20,000-24,999   \n",
       "1                        19888  ...               86.50%      25,000-29,999   \n",
       "2                        15440  ...               87.90%      10,000-14,999   \n",
       "3                        29900  ...               77.90%      15,000-19,999   \n",
       "4                        16400  ...               85.80%      15,000-19,999   \n",
       "\n",
       "  Academic_staff Control_type Academic_Calender Campus_setting  \\\n",
       "0     over-5,000       Public        Trimesters          Urban   \n",
       "1     over-5,000       Public        Trimesters          Urban   \n",
       "2    1,000-1,499       Public         Semesters       Suburban   \n",
       "3    4,000-4,499       Public        Continuous          Urban   \n",
       "4    1,500-1,999       Public         Semesters       Suburban   \n",
       "\n",
       "  Estimated_cost_of_living_per_year_(in_pounds)  Latitude  Longitude  \\\n",
       "0                                         12000   52.2054     0.1132   \n",
       "1                                         11500   51.7548    -1.2544   \n",
       "2                                         12000   56.3417    -2.7943   \n",
       "3                                         10700   51.4988    -0.1749   \n",
       "4                                          9398   52.7650    -1.2321   \n",
       "\n",
       "                Website  \n",
       "0         www.cam.ac.uk  \n",
       "1          www.ox.ac.uk  \n",
       "2  www.st-andrews.ac.uk  \n",
       "3          www.ic.ac.uk  \n",
       "4      www.lboro.ac.uk/  \n",
       "\n",
       "[5 rows x 21 columns]"
      ]
     },
     "execution_count": 3,
     "metadata": {},
     "output_type": "execute_result"
    }
   ],
   "source": [
    "uk_uni_df.head()"
   ]
  },
  {
   "cell_type": "code",
   "execution_count": 4,
   "id": "752ea572",
   "metadata": {
    "_cell_guid": "ce225445-ae3b-474a-b7a3-29302efaad83",
    "_uuid": "20e2d902-7663-4b08-b4e5-329838cd1120",
    "collapsed": false,
    "execution": {
     "iopub.execute_input": "2022-11-27T16:28:12.533431Z",
     "iopub.status.busy": "2022-11-27T16:28:12.533001Z",
     "iopub.status.idle": "2022-11-27T16:28:12.561907Z",
     "shell.execute_reply": "2022-11-27T16:28:12.560115Z"
    },
    "jupyter": {
     "outputs_hidden": false
    },
    "papermill": {
     "duration": 0.044736,
     "end_time": "2022-11-27T16:28:12.564856",
     "exception": false,
     "start_time": "2022-11-27T16:28:12.520120",
     "status": "completed"
    },
    "tags": []
   },
   "outputs": [
    {
     "name": "stdout",
     "output_type": "stream",
     "text": [
      "<class 'pandas.core.frame.DataFrame'>\n",
      "RangeIndex: 131 entries, 0 to 130\n",
      "Data columns (total 21 columns):\n",
      " #   Column                                         Non-Null Count  Dtype  \n",
      "---  ------                                         --------------  -----  \n",
      " 0   University_name                                131 non-null    object \n",
      " 1   Region                                         131 non-null    object \n",
      " 2   Founded_year                                   131 non-null    int64  \n",
      " 3   Motto                                          114 non-null    object \n",
      " 4   UK_rank                                        131 non-null    int64  \n",
      " 5   World_rank                                     131 non-null    int64  \n",
      " 6   CWUR_score                                     84 non-null     float64\n",
      " 7   Minimum_IELTS_score                            131 non-null    float64\n",
      " 8   UG_average_fees_(in_pounds)                    131 non-null    int64  \n",
      " 9   PG_average_fees_(in_pounds)                    131 non-null    int64  \n",
      " 10  International_students                         131 non-null    object \n",
      " 11  Student_satisfaction                           131 non-null    object \n",
      " 12  Student_enrollment                             131 non-null    object \n",
      " 13  Academic_staff                                 131 non-null    object \n",
      " 14  Control_type                                   131 non-null    object \n",
      " 15  Academic_Calender                              105 non-null    object \n",
      " 16  Campus_setting                                 113 non-null    object \n",
      " 17  Estimated_cost_of_living_per_year_(in_pounds)  131 non-null    int64  \n",
      " 18  Latitude                                       131 non-null    float64\n",
      " 19  Longitude                                      131 non-null    float64\n",
      " 20  Website                                        131 non-null    object \n",
      "dtypes: float64(4), int64(6), object(11)\n",
      "memory usage: 21.6+ KB\n"
     ]
    }
   ],
   "source": [
    "uk_uni_df.info()"
   ]
  },
  {
   "cell_type": "markdown",
   "id": "b893055d",
   "metadata": {
    "_cell_guid": "849954a8-b870-41bd-a6e9-7cc97479adf9",
    "_uuid": "18c25391-12bf-4a5e-9edb-bbfc1a0ce78a",
    "papermill": {
     "duration": 0.011529,
     "end_time": "2022-11-27T16:28:12.587402",
     "exception": false,
     "start_time": "2022-11-27T16:28:12.575873",
     "status": "completed"
    },
    "tags": []
   },
   "source": [
    "Нужно исследовать по кажому региону следующие параметры:\n",
    "- удовлетворённость студентов (основной показатель)\n",
    "- стоимость жизни (чтобы оценить необходимый бюджет)\n",
    "- число студентов (для тех, кому важно большое комьюнити)\n",
    "- процент иностранных студентов"
   ]
  },
  {
   "cell_type": "markdown",
   "id": "23c12715",
   "metadata": {
    "_cell_guid": "8e7fb760-49c8-455f-a54e-adf8982d60c6",
    "_uuid": "a17770fc-733a-4628-b5a8-0768091c7ce7",
    "papermill": {
     "duration": 0.010678,
     "end_time": "2022-11-27T16:28:12.610736",
     "exception": false,
     "start_time": "2022-11-27T16:28:12.600058",
     "status": "completed"
    },
    "tags": []
   },
   "source": [
    "## Анализ данных"
   ]
  },
  {
   "cell_type": "markdown",
   "id": "9acdd82f",
   "metadata": {
    "_cell_guid": "78d3714e-08cd-4bb6-bf93-d1bf8a6f88b5",
    "_uuid": "fa8df8fb-47e1-480b-a5f7-4c9d33ead060",
    "papermill": {
     "duration": 0.011579,
     "end_time": "2022-11-27T16:28:12.633650",
     "exception": false,
     "start_time": "2022-11-27T16:28:12.622071",
     "status": "completed"
    },
    "tags": []
   },
   "source": [
    "### Удовлетворённость студентов по регионам"
   ]
  },
  {
   "cell_type": "code",
   "execution_count": 5,
   "id": "faa03f3b",
   "metadata": {
    "_cell_guid": "fc96c635-4327-40f3-8c8c-8c0f0bb6b1f0",
    "_uuid": "2a2d440a-2637-4006-a272-7278c3dda126",
    "collapsed": false,
    "execution": {
     "iopub.execute_input": "2022-11-27T16:28:12.656732Z",
     "iopub.status.busy": "2022-11-27T16:28:12.656341Z",
     "iopub.status.idle": "2022-11-27T16:28:12.666371Z",
     "shell.execute_reply": "2022-11-27T16:28:12.664857Z"
    },
    "jupyter": {
     "outputs_hidden": false
    },
    "papermill": {
     "duration": 0.024288,
     "end_time": "2022-11-27T16:28:12.668712",
     "exception": false,
     "start_time": "2022-11-27T16:28:12.644424",
     "status": "completed"
    },
    "tags": []
   },
   "outputs": [],
   "source": [
    "# преобразование колонок, содержащих проценты\n",
    "uk_uni_df.Student_satisfaction = uk_uni_df.Student_satisfaction.str.replace('%','').astype('float')\n",
    "uk_uni_df.International_students = uk_uni_df.International_students.str.replace('%','').astype('float')\n",
    "uk_uni_df = uk_uni_df.rename(columns={'Student_satisfaction': 'Percent_of_student_satisfaction', 'International_students': 'Percent_of_international_students'})"
   ]
  },
  {
   "cell_type": "markdown",
   "id": "d32b24fe",
   "metadata": {
    "_cell_guid": "4e64a877-f1c0-4e34-8aa0-3706213ba314",
    "_uuid": "8c32fd57-b9d0-49b1-9310-5d1de6b8edd6",
    "papermill": {
     "duration": 0.010833,
     "end_time": "2022-11-27T16:28:12.690341",
     "exception": false,
     "start_time": "2022-11-27T16:28:12.679508",
     "status": "completed"
    },
    "tags": []
   },
   "source": [
    "В пределах одного региона значения Student_satisfaction могут быть разнообразны, \\\n",
    "стоит посмотреть на их распределние."
   ]
  },
  {
   "cell_type": "code",
   "execution_count": 6,
   "id": "b36bc441",
   "metadata": {
    "_cell_guid": "18876305-4769-4d07-b5a1-1d3ba4bd4cb4",
    "_uuid": "8b4cf85b-969f-4885-a52e-6aed8f497a91",
    "collapsed": false,
    "execution": {
     "iopub.execute_input": "2022-11-27T16:28:12.713189Z",
     "iopub.status.busy": "2022-11-27T16:28:12.712811Z",
     "iopub.status.idle": "2022-11-27T16:28:13.891536Z",
     "shell.execute_reply": "2022-11-27T16:28:13.890329Z"
    },
    "jupyter": {
     "outputs_hidden": false
    },
    "papermill": {
     "duration": 1.192469,
     "end_time": "2022-11-27T16:28:13.893499",
     "exception": false,
     "start_time": "2022-11-27T16:28:12.701030",
     "status": "completed"
    },
    "tags": []
   },
   "outputs": [
    {
     "data": {
      "image/png": "[encoded data removed]",
      "text/plain": [
       "<Figure size 720x432 with 12 Axes>"
      ]
     },
     "metadata": {
      "needs_background": "light"
     },
     "output_type": "display_data"
    }
   ],
   "source": [
    "# распределение Student_satisfaction по регионам\n",
    "ur = uk_uni_df.Region.unique()\n",
    "plt.figure(figsize=(10,6))\n",
    "for i in range(len(ur)):\n",
    "    plt.subplot(3, 4, i+1)\n",
    "    plt.subplots_adjust(wspace=0.5, hspace=1)\n",
    "    plt.title(ur[i])\n",
    "    sns.kdeplot(data = uk_uni_df[uk_uni_df.Region == ur[i]], x = 'Percent_of_student_satisfaction').set(xlabel='Student satisfaction, %')"
   ]
  },
  {
   "cell_type": "markdown",
   "id": "bb620d38",
   "metadata": {
    "_cell_guid": "4a393516-65d0-4f95-bdc0-d974d8e469a6",
    "_uuid": "22e83af1-6d68-47b4-9ba2-196758f9655b",
    "papermill": {
     "duration": 0.010933,
     "end_time": "2022-11-27T16:28:13.915917",
     "exception": false,
     "start_time": "2022-11-27T16:28:13.904984",
     "status": "completed"
    },
    "tags": []
   },
   "source": [
    "Видно, что распредление близко к нормальному, однако есть различные деформации графиков. \\\n",
    "Посмотрим на данные, используя boxplot."
   ]
  },
  {
   "cell_type": "code",
   "execution_count": 7,
   "id": "38de96ed",
   "metadata": {
    "_cell_guid": "9bc545db-5639-46c4-96a2-803d94eef617",
    "_uuid": "8e89c565-fb9f-4631-a4c1-5b999f11b4f2",
    "collapsed": false,
    "execution": {
     "iopub.execute_input": "2022-11-27T16:28:13.940248Z",
     "iopub.status.busy": "2022-11-27T16:28:13.939887Z",
     "iopub.status.idle": "2022-11-27T16:28:14.265026Z",
     "shell.execute_reply": "2022-11-27T16:28:14.264140Z"
    },
    "jupyter": {
     "outputs_hidden": false
    },
    "papermill": {
     "duration": 0.339634,
     "end_time": "2022-11-27T16:28:14.267076",
     "exception": false,
     "start_time": "2022-11-27T16:28:13.927442",
     "status": "completed"
    },
    "tags": []
   },
   "outputs": [
    {
     "data": {
      "text/plain": [
       "[Text(0, 0.5, 'Student satisfaction, %')]"
      ]
     },
     "execution_count": 7,
     "metadata": {},
     "output_type": "execute_result"
    },
    {
     "data": {
      "image/png": "[encoded data removed]",
      "text/plain": [
       "<Figure size 864x576 with 1 Axes>"
      ]
     },
     "metadata": {
      "needs_background": "light"
     },
     "output_type": "display_data"
    }
   ],
   "source": [
    "plt.figure(figsize=(12,8))\n",
    "plt.xticks(rotation=45)\n",
    "sns.boxplot(data = uk_uni_df, x = 'Region', y = 'Percent_of_student_satisfaction').set(ylabel='Student satisfaction, %')"
   ]
  },
  {
   "cell_type": "code",
   "execution_count": 8,
   "id": "c311a88f",
   "metadata": {
    "execution": {
     "iopub.execute_input": "2022-11-27T16:28:14.295293Z",
     "iopub.status.busy": "2022-11-27T16:28:14.294238Z",
     "iopub.status.idle": "2022-11-27T16:28:14.304588Z",
     "shell.execute_reply": "2022-11-27T16:28:14.302903Z"
    },
    "papermill": {
     "duration": 0.028411,
     "end_time": "2022-11-27T16:28:14.307668",
     "exception": false,
     "start_time": "2022-11-27T16:28:14.279257",
     "status": "completed"
    },
    "tags": []
   },
   "outputs": [],
   "source": [
    "PoSS = uk_uni_df.groupby('Region').Percent_of_student_satisfaction.mean()"
   ]
  },
  {
   "cell_type": "markdown",
   "id": "9aca47dc",
   "metadata": {
    "_cell_guid": "d6d74cc6-9c96-47da-8a4d-c62f2ca13b86",
    "_uuid": "44ac1399-928c-4e28-badf-86da26b9de6a",
    "papermill": {
     "duration": 0.011892,
     "end_time": "2022-11-27T16:28:14.331865",
     "exception": false,
     "start_time": "2022-11-27T16:28:14.319973",
     "status": "completed"
    },
    "tags": []
   },
   "source": [
    "Заметно, что удовлетворённость студентов в Лондоне ниже, чем в остальных регионах. \\\n",
    "Проверим эту гипотезу...\n",
    "\n",
    "H0: удовлетворённость студентов Лондона не отличается \\\n",
    "H1: удовлетворённость студентов Лондона отличается"
   ]
  },
  {
   "cell_type": "code",
   "execution_count": 9,
   "id": "b87f22ee",
   "metadata": {
    "execution": {
     "iopub.execute_input": "2022-11-27T16:28:14.359002Z",
     "iopub.status.busy": "2022-11-27T16:28:14.358588Z",
     "iopub.status.idle": "2022-11-27T16:28:14.366055Z",
     "shell.execute_reply": "2022-11-27T16:28:14.364646Z"
    },
    "papermill": {
     "duration": 0.024626,
     "end_time": "2022-11-27T16:28:14.368349",
     "exception": false,
     "start_time": "2022-11-27T16:28:14.343723",
     "status": "completed"
    },
    "tags": []
   },
   "outputs": [],
   "source": [
    "def delete_outliers(df, column, graphic=0, x = 10, y = 10):\n",
    "    q1 = df[column].quantile(0.25)                 \n",
    "    q3 = df[column].quantile(0.75)\n",
    "    iqr = q3 - q1\n",
    "    iqr_test = (df[column] >= (q1 - 1.5 * iqr)) & (df[column] <= (q3 + 1.5 * iqr))\n",
    "    if graphic == 1:\n",
    "        return df.loc[iqr_test].boxplot([column], figsize=(x,y))\n",
    "    else:\n",
    "        return df.loc[iqr_test]"
   ]
  },
  {
   "cell_type": "code",
   "execution_count": 10,
   "id": "2bfe719c",
   "metadata": {
    "execution": {
     "iopub.execute_input": "2022-11-27T16:28:14.395202Z",
     "iopub.status.busy": "2022-11-27T16:28:14.394813Z",
     "iopub.status.idle": "2022-11-27T16:28:14.408038Z",
     "shell.execute_reply": "2022-11-27T16:28:14.407038Z"
    },
    "papermill": {
     "duration": 0.029945,
     "end_time": "2022-11-27T16:28:14.410563",
     "exception": false,
     "start_time": "2022-11-27T16:28:14.380618",
     "status": "completed"
    },
    "tags": []
   },
   "outputs": [],
   "source": [
    "londstuds = uk_uni_df[uk_uni_df['Region'] == 'London']\n",
    "nonlondstuds = uk_uni_df[uk_uni_df['Region'] != 'London']\n",
    "\n",
    "londstuds = delete_outliers(londstuds, 'Percent_of_student_satisfaction', 0)\n",
    "londstuds = londstuds['Percent_of_student_satisfaction']\n",
    "\n",
    "nonlondstuds = delete_outliers(nonlondstuds, 'Percent_of_student_satisfaction', 0)\n",
    "nonlondstuds = nonlondstuds['Percent_of_student_satisfaction']"
   ]
  },
  {
   "cell_type": "code",
   "execution_count": 11,
   "id": "c7866039",
   "metadata": {
    "_kg_hide-input": false,
    "execution": {
     "iopub.execute_input": "2022-11-27T16:28:14.437896Z",
     "iopub.status.busy": "2022-11-27T16:28:14.437445Z",
     "iopub.status.idle": "2022-11-27T16:28:14.446023Z",
     "shell.execute_reply": "2022-11-27T16:28:14.445207Z"
    },
    "papermill": {
     "duration": 0.024091,
     "end_time": "2022-11-27T16:28:14.447992",
     "exception": false,
     "start_time": "2022-11-27T16:28:14.423901",
     "status": "completed"
    },
    "tags": []
   },
   "outputs": [
    {
     "name": "stdout",
     "output_type": "stream",
     "text": [
      "p-value: 4.63997406298399e-09\n",
      "Отвергаем нулевую гипотезу\n"
     ]
    }
   ],
   "source": [
    "alpha = 0.05\n",
    "results = st.ttest_ind(londstuds, nonlondstuds)\n",
    "\n",
    "print('p-value:', results.pvalue)\n",
    "\n",
    "if (results.pvalue < alpha):\n",
    "    print(\"Отвергаем нулевую гипотезу\")\n",
    "else:\n",
    "    print(\"Не отвергаем нулевую гипотезу\")"
   ]
  },
  {
   "cell_type": "markdown",
   "id": "c6121f4d",
   "metadata": {
    "papermill": {
     "duration": 0.011774,
     "end_time": "2022-11-27T16:28:14.471816",
     "exception": false,
     "start_time": "2022-11-27T16:28:14.460042",
     "status": "completed"
    },
    "tags": []
   },
   "source": [
    "Удовлетворённость студентов в Лондоне действительно ниже, чем в остальных регионах"
   ]
  },
  {
   "cell_type": "code",
   "execution_count": 12,
   "id": "12fd5e7b",
   "metadata": {
    "_cell_guid": "3a211995-e2d5-4839-a057-a88fe34433ab",
    "_uuid": "7e09805c-4063-4dec-943b-8f3e6416a9c5",
    "collapsed": false,
    "execution": {
     "iopub.execute_input": "2022-11-27T16:28:14.498572Z",
     "iopub.status.busy": "2022-11-27T16:28:14.498211Z",
     "iopub.status.idle": "2022-11-27T16:28:15.907215Z",
     "shell.execute_reply": "2022-11-27T16:28:15.905443Z"
    },
    "jupyter": {
     "outputs_hidden": false
    },
    "papermill": {
     "duration": 1.42528,
     "end_time": "2022-11-27T16:28:15.909767",
     "exception": false,
     "start_time": "2022-11-27T16:28:14.484487",
     "status": "completed"
    },
    "tags": []
   },
   "outputs": [
    {
     "data": {
      "image/png": "[encoded data removed]",
      "text/plain": [
       "<Figure size 1152x1152 with 6 Axes>"
      ]
     },
     "metadata": {
      "needs_background": "light"
     },
     "output_type": "display_data"
    }
   ],
   "source": [
    "# влияние разных факторов на удовлетворённость студентов\n",
    "fctr = ['UK_rank', 'World_rank', 'CWUR_score',\n",
    "        'UG_average_fees_(in_pounds)', 'PG_average_fees_(in_pounds)',\n",
    "        'Estimated_cost_of_living_per_year_(in_pounds)']\n",
    "plt.figure(figsize=(16,16))\n",
    "for i in range(len(fctr)):\n",
    "    plt.subplot(3, 3, i+1)\n",
    "    sns.regplot(data = uk_uni_df, y = 'Percent_of_student_satisfaction', x = fctr[i]).set(ylabel='Student satisfaction, %', xlabel=fctr[i].replace('_',' '))"
   ]
  },
  {
   "cell_type": "markdown",
   "id": "8713abdf",
   "metadata": {
    "_cell_guid": "b95f2a8a-cd7e-4070-aac0-22eb0edbcf99",
    "_uuid": "5a50377a-42c5-4ff8-85e8-e0d0207ffc32",
    "papermill": {
     "duration": 0.013211,
     "end_time": "2022-11-27T16:28:15.936411",
     "exception": false,
     "start_time": "2022-11-27T16:28:15.923200",
     "status": "completed"
    },
    "tags": []
   },
   "source": [
    "Корреляции между рейтингами/стоимостями и удовлетворённостью студентов практически не наблюдается, за исключением небольшой корреляции по UK_rank, однако это объясняется тем, что при составлении рейтинга внутри Великобритании учитывается удовлетворённость студентов."
   ]
  },
  {
   "cell_type": "markdown",
   "id": "633bcf67",
   "metadata": {
    "_cell_guid": "fcc1ce18-e695-4a3e-9270-fcf3954c334c",
    "_uuid": "a218293b-888a-41d7-8aec-3b9ebebab91d",
    "papermill": {
     "duration": 0.013076,
     "end_time": "2022-11-27T16:28:15.963678",
     "exception": false,
     "start_time": "2022-11-27T16:28:15.950602",
     "status": "completed"
    },
    "tags": []
   },
   "source": [
    "### Оценочная стоимость проживания в год по каждому региону"
   ]
  },
  {
   "cell_type": "markdown",
   "id": "037f4a5c",
   "metadata": {
    "_cell_guid": "6cf95fb2-2612-474b-b885-f602868be9b1",
    "_uuid": "2cc52239-94e2-4b0d-8a7b-f894766d857e",
    "papermill": {
     "duration": 0.013015,
     "end_time": "2022-11-27T16:28:15.990003",
     "exception": false,
     "start_time": "2022-11-27T16:28:15.976988",
     "status": "completed"
    },
    "tags": []
   },
   "source": [
    "Стоимость будет в той или иной степени варьироваться по регионам. \\\n",
    "Однако, она может также изменяться от расположения кампуса."
   ]
  },
  {
   "cell_type": "code",
   "execution_count": 13,
   "id": "56271a43",
   "metadata": {
    "_cell_guid": "01b09099-361a-471e-8f83-1d58de5f132f",
    "_uuid": "6420bf2d-1d35-46c4-96f5-4ad0c2479ae5",
    "collapsed": false,
    "execution": {
     "iopub.execute_input": "2022-11-27T16:28:16.018150Z",
     "iopub.status.busy": "2022-11-27T16:28:16.017761Z",
     "iopub.status.idle": "2022-11-27T16:28:17.262541Z",
     "shell.execute_reply": "2022-11-27T16:28:17.261402Z"
    },
    "jupyter": {
     "outputs_hidden": false
    },
    "papermill": {
     "duration": 1.262019,
     "end_time": "2022-11-27T16:28:17.265090",
     "exception": false,
     "start_time": "2022-11-27T16:28:16.003071",
     "status": "completed"
    },
    "tags": []
   },
   "outputs": [
    {
     "data": {
      "image/png": "[encoded data removed]",
      "text/plain": [
       "<Figure size 720x432 with 12 Axes>"
      ]
     },
     "metadata": {
      "needs_background": "light"
     },
     "output_type": "display_data"
    }
   ],
   "source": [
    "# распределение Estimated_cost_of_living_(in_pounds) по регионам\n",
    "ur = uk_uni_df.Region.unique()\n",
    "plt.figure(figsize=(10,6))\n",
    "for i in range(len(ur)):\n",
    "    plt.subplot(3, 4, i+1)\n",
    "    plt.subplots_adjust(wspace=1, hspace=1.2)\n",
    "    plt.title(ur[i])\n",
    "    sns.kdeplot(data = uk_uni_df[uk_uni_df.Region == ur[i]], x = 'Estimated_cost_of_living_per_year_(in_pounds)', warn_singular = False).set(xlabel='Costs per year, £')"
   ]
  },
  {
   "cell_type": "markdown",
   "id": "77adb5af",
   "metadata": {
    "_cell_guid": "9f39e8e5-5873-4519-8c29-2d1c638cf40f",
    "_uuid": "e8defb40-3d99-4f41-8c19-d57a2f792674",
    "papermill": {
     "duration": 0.014133,
     "end_time": "2022-11-27T16:28:17.293692",
     "exception": false,
     "start_time": "2022-11-27T16:28:17.279559",
     "status": "completed"
    },
    "tags": []
   },
   "source": [
    "Два графика не отобразились, посмотрим на их данные отдельно."
   ]
  },
  {
   "cell_type": "code",
   "execution_count": 14,
   "id": "3d05c007",
   "metadata": {
    "_cell_guid": "d5d2f3e6-8516-42a3-b312-fde4330c74b7",
    "_uuid": "0a368d8e-d281-4655-bbbb-c8d96175cc57",
    "collapsed": false,
    "execution": {
     "iopub.execute_input": "2022-11-27T16:28:17.324966Z",
     "iopub.status.busy": "2022-11-27T16:28:17.324260Z",
     "iopub.status.idle": "2022-11-27T16:28:17.330971Z",
     "shell.execute_reply": "2022-11-27T16:28:17.330290Z"
    },
    "jupyter": {
     "outputs_hidden": false
    },
    "papermill": {
     "duration": 0.023991,
     "end_time": "2022-11-27T16:28:17.332718",
     "exception": false,
     "start_time": "2022-11-27T16:28:17.308727",
     "status": "completed"
    },
    "tags": []
   },
   "outputs": [
    {
     "data": {
      "text/plain": [
       "6      8000\n",
       "27     8000\n",
       "54     8000\n",
       "64     8000\n",
       "86     8000\n",
       "108    8000\n",
       "Name: Estimated_cost_of_living_per_year_(in_pounds), dtype: int64"
      ]
     },
     "execution_count": 14,
     "metadata": {},
     "output_type": "execute_result"
    }
   ],
   "source": [
    "uk_uni_df[uk_uni_df.Region == 'North East England']['Estimated_cost_of_living_per_year_(in_pounds)']"
   ]
  },
  {
   "cell_type": "code",
   "execution_count": 15,
   "id": "149ccba9",
   "metadata": {
    "_cell_guid": "a4820061-e754-4e55-a099-f65655a8dbcc",
    "_uuid": "19b2cc81-ab63-46c8-9d1d-853673a9a68b",
    "collapsed": false,
    "execution": {
     "iopub.execute_input": "2022-11-27T16:28:17.363614Z",
     "iopub.status.busy": "2022-11-27T16:28:17.362999Z",
     "iopub.status.idle": "2022-11-27T16:28:17.370090Z",
     "shell.execute_reply": "2022-11-27T16:28:17.369054Z"
    },
    "jupyter": {
     "outputs_hidden": false
    },
    "papermill": {
     "duration": 0.025952,
     "end_time": "2022-11-27T16:28:17.372682",
     "exception": false,
     "start_time": "2022-11-27T16:28:17.346730",
     "status": "completed"
    },
    "tags": []
   },
   "outputs": [
    {
     "data": {
      "text/plain": [
       "34    6000\n",
       "58    6000\n",
       "Name: Estimated_cost_of_living_per_year_(in_pounds), dtype: int64"
      ]
     },
     "execution_count": 15,
     "metadata": {},
     "output_type": "execute_result"
    }
   ],
   "source": [
    "uk_uni_df[uk_uni_df.Region == 'Northern Ireland']['Estimated_cost_of_living_per_year_(in_pounds)']"
   ]
  },
  {
   "cell_type": "markdown",
   "id": "03d306b8",
   "metadata": {
    "_cell_guid": "4ad1d1cf-435f-4346-9fb4-b8a457ab5b05",
    "_uuid": "7d9753e3-e261-4fb8-9f90-cae485f81a4e",
    "papermill": {
     "duration": 0.014277,
     "end_time": "2022-11-27T16:28:17.401752",
     "exception": false,
     "start_time": "2022-11-27T16:28:17.387475",
     "status": "completed"
    },
    "tags": []
   },
   "source": [
    "Их значения одинаковые, это равномерное распределение, поэтому kdeplot и не строится."
   ]
  },
  {
   "cell_type": "code",
   "execution_count": 16,
   "id": "2736e43c",
   "metadata": {
    "_cell_guid": "94394cf1-4b5c-488e-ab92-f2fc9989ae89",
    "_uuid": "1bb7de8a-2d5a-4431-a4ac-2f0a517b5456",
    "collapsed": false,
    "execution": {
     "iopub.execute_input": "2022-11-27T16:28:17.433201Z",
     "iopub.status.busy": "2022-11-27T16:28:17.432579Z",
     "iopub.status.idle": "2022-11-27T16:28:18.043207Z",
     "shell.execute_reply": "2022-11-27T16:28:18.041704Z"
    },
    "jupyter": {
     "outputs_hidden": false
    },
    "papermill": {
     "duration": 0.629302,
     "end_time": "2022-11-27T16:28:18.045475",
     "exception": false,
     "start_time": "2022-11-27T16:28:17.416173",
     "status": "completed"
    },
    "tags": []
   },
   "outputs": [
    {
     "data": {
      "text/plain": [
       "[Text(0.5, 0, 'Costs per year, £')]"
      ]
     },
     "execution_count": 16,
     "metadata": {},
     "output_type": "execute_result"
    },
    {
     "data": {
      "image/png": "[encoded data removed]",
      "text/plain": [
       "<Figure size 864x864 with 1 Axes>"
      ]
     },
     "metadata": {
      "needs_background": "light"
     },
     "output_type": "display_data"
    }
   ],
   "source": [
    "plt.figure(figsize=(12,12))\n",
    "sns.boxplot(data = uk_uni_df, y = 'Region', x = 'Estimated_cost_of_living_per_year_(in_pounds)', hue = 'Campus_setting', palette='viridis').set(xlabel='Costs per year, £')"
   ]
  },
  {
   "cell_type": "markdown",
   "id": "cff75393",
   "metadata": {
    "_cell_guid": "f266cb9b-6382-42cf-b640-dbca3f6c7906",
    "_uuid": "1d2e884e-19e0-4a6b-94c1-267c86d63de8",
    "papermill": {
     "duration": 0.014479,
     "end_time": "2022-11-27T16:28:18.075153",
     "exception": false,
     "start_time": "2022-11-27T16:28:18.060674",
     "status": "completed"
    },
    "tags": []
   },
   "source": [
    "Видим, что оценочная стоимость жизни действительно изменяется в зависимости от региона и расположения кампуса. \\\n",
    "Однако, по некоторым вариантам расположения кампуса информации практически нет. \\\n",
    "Это может быть связано с null значениями, что и видно в .info() выше (Campus_setting: 113 non-null значений из 131)"
   ]
  },
  {
   "cell_type": "code",
   "execution_count": 17,
   "id": "f545c1e5",
   "metadata": {
    "_cell_guid": "d6902dd4-97f8-45f0-82c7-19782208e8f7",
    "_uuid": "a17004ee-b9ef-4254-90c9-9796987f2765",
    "collapsed": false,
    "execution": {
     "iopub.execute_input": "2022-11-27T16:28:18.106759Z",
     "iopub.status.busy": "2022-11-27T16:28:18.106388Z",
     "iopub.status.idle": "2022-11-27T16:28:18.128170Z",
     "shell.execute_reply": "2022-11-27T16:28:18.126427Z"
    },
    "jupyter": {
     "outputs_hidden": false
    },
    "papermill": {
     "duration": 0.041393,
     "end_time": "2022-11-27T16:28:18.131254",
     "exception": false,
     "start_time": "2022-11-27T16:28:18.089861",
     "status": "completed"
    },
    "tags": []
   },
   "outputs": [
    {
     "data": {
      "text/plain": [
       "Region\n",
       "South West England    33.33\n",
       "South East England    23.53\n",
       "Wales                 22.22\n",
       "North West England    18.18\n",
       "East Midlands         14.29\n",
       "London                13.64\n",
       "East of England       10.00\n",
       "West Midlands         10.00\n",
       "Name: Region, dtype: float64"
      ]
     },
     "execution_count": 17,
     "metadata": {},
     "output_type": "execute_result"
    }
   ],
   "source": [
    "# процент null значений по Campus_setting\n",
    "cs_n = round((uk_uni_df[uk_uni_df['Campus_setting'].isna() == True].groupby('Region').Region.count() / uk_uni_df.groupby('Region').Region.count() * 100), 2).dropna().sort_values(ascending = False)\n",
    "cs_n"
   ]
  },
  {
   "cell_type": "markdown",
   "id": "7047f0da",
   "metadata": {
    "_cell_guid": "0952cc95-96c3-49fc-b346-5ad43d9d60ca",
    "_uuid": "65f45bc3-9f02-4131-8d6d-a1a6a7d32f9a",
    "papermill": {
     "duration": 0.015122,
     "end_time": "2022-11-27T16:28:18.162038",
     "exception": false,
     "start_time": "2022-11-27T16:28:18.146916",
     "status": "completed"
    },
    "tags": []
   },
   "source": [
    "При описании стоимости жизни по регионам стоит учитывать отсутствие записей. \\\n",
    "Для регионов, где null значений по Campus_setting больше 20%, подпишем замечание о том, что стоит уточнить информацию о стоимости жизнь при выборе этих регионов."
   ]
  },
  {
   "cell_type": "code",
   "execution_count": 18,
   "id": "9b1d8e21",
   "metadata": {
    "_cell_guid": "e301a2f8-2851-43b2-b4d2-4b2c8cc06dcd",
    "_uuid": "2c0b56af-5f52-48c0-8354-d31e21051233",
    "collapsed": false,
    "execution": {
     "iopub.execute_input": "2022-11-27T16:28:18.195038Z",
     "iopub.status.busy": "2022-11-27T16:28:18.194564Z",
     "iopub.status.idle": "2022-11-27T16:28:18.210058Z",
     "shell.execute_reply": "2022-11-27T16:28:18.208056Z"
    },
    "jupyter": {
     "outputs_hidden": false
    },
    "papermill": {
     "duration": 0.035369,
     "end_time": "2022-11-27T16:28:18.212780",
     "exception": false,
     "start_time": "2022-11-27T16:28:18.177411",
     "status": "completed"
    },
    "tags": []
   },
   "outputs": [
    {
     "data": {
      "text/plain": [
       "Region                    Campus_setting\n",
       "Northern Ireland          Urban              6000.0\n",
       "Wales                     Rural              6885.5\n",
       "West Midlands             Urban              7048.5\n",
       "North West England        Suburban           7471.0\n",
       "                          Urban              7471.0\n",
       "Scotland                  Suburban           7500.0\n",
       "South West England        Urban              7608.5\n",
       "Wales                     Suburban           7635.5\n",
       "                          Urban              7771.0\n",
       "Scotland                  Urban              8000.0\n",
       "West Midlands             Rural              8000.0\n",
       "North East England        Rural              8000.0\n",
       "                          Urban              8000.0\n",
       "Yorkshire and the Humber  Suburban           8000.0\n",
       "South East England        Rural              8000.0\n",
       "Yorkshire and the Humber  Urban              8270.0\n",
       "South West England        Suburban           8308.5\n",
       "North West England        Rural              8500.0\n",
       "South West England        Rural              8808.5\n",
       "West Midlands             Suburban           8838.5\n",
       "South East England        Urban              8990.0\n",
       "                          Suburban           8990.0\n",
       "London                    Suburban           9114.5\n",
       "East Midlands             Suburban           9199.0\n",
       "East of England           Urban              9415.0\n",
       "                          Suburban           9415.0\n",
       "East Midlands             Urban              9949.0\n",
       "London                    Urban             10229.0\n",
       "Name: Estimated_cost_of_living_per_year_(in_pounds), dtype: float64"
      ]
     },
     "execution_count": 18,
     "metadata": {},
     "output_type": "execute_result"
    }
   ],
   "source": [
    "# стоимость жизни по регионам и расположению кампуса\n",
    "ECoL = uk_uni_df.groupby(['Region', 'Campus_setting'])['Estimated_cost_of_living_per_year_(in_pounds)'].median().sort_values()\n",
    "ECoL_df = pd.DataFrame(ECoL)\n",
    "ECoL"
   ]
  },
  {
   "cell_type": "markdown",
   "id": "a489eeca",
   "metadata": {
    "_cell_guid": "0af0feac-b110-40c8-8e2a-b5cbb38c8dd9",
    "_uuid": "573c05e3-c3bd-4775-97e1-06d1a1550314",
    "papermill": {
     "duration": 0.015606,
     "end_time": "2022-11-27T16:28:18.244026",
     "exception": false,
     "start_time": "2022-11-27T16:28:18.228420",
     "status": "completed"
    },
    "tags": []
   },
   "source": [
    "### Число студентов (и преподавателей)"
   ]
  },
  {
   "cell_type": "markdown",
   "id": "22e94059",
   "metadata": {
    "_cell_guid": "ae3e03ee-293c-4a29-ae3e-5ed976ad8ed2",
    "_uuid": "1e5d3318-61be-4362-9329-7e1ec619457a",
    "papermill": {
     "duration": 0.015624,
     "end_time": "2022-11-27T16:28:18.275789",
     "exception": false,
     "start_time": "2022-11-27T16:28:18.260165",
     "status": "completed"
    },
    "tags": []
   },
   "source": [
    "Данные представленны в виде диапазонов, записанных как строчки, поэтому необходимо преобразовать их."
   ]
  },
  {
   "cell_type": "code",
   "execution_count": 19,
   "id": "96aa8288",
   "metadata": {
    "_cell_guid": "8becb476-3c1b-44e4-b1d6-97ee99a09fd7",
    "_uuid": "bc6047ff-1361-43a6-81cb-1325b36ca2dc",
    "collapsed": false,
    "execution": {
     "iopub.execute_input": "2022-11-27T16:28:18.310133Z",
     "iopub.status.busy": "2022-11-27T16:28:18.309743Z",
     "iopub.status.idle": "2022-11-27T16:28:18.317869Z",
     "shell.execute_reply": "2022-11-27T16:28:18.316681Z"
    },
    "jupyter": {
     "outputs_hidden": false
    },
    "papermill": {
     "duration": 0.028898,
     "end_time": "2022-11-27T16:28:18.320667",
     "exception": false,
     "start_time": "2022-11-27T16:28:18.291769",
     "status": "completed"
    },
    "tags": []
   },
   "outputs": [
    {
     "data": {
      "text/plain": [
       "array(['20,000-24,999', '25,000-29,999', '10,000-14,999', '15,000-19,999',\n",
       "       '40,000-44,999', '35,000-39,999', '30,000-34,999', '5,000-5,999',\n",
       "       '6,000-6,999', '3,000-3,999', '7,000-7,999', '2,000-2,999',\n",
       "       '4,000-4,999', '1,000-1,999', '9,000-9,999', '8,000-8,999'],\n",
       "      dtype=object)"
      ]
     },
     "execution_count": 19,
     "metadata": {},
     "output_type": "execute_result"
    }
   ],
   "source": [
    "uk_uni_df.Student_enrollment.unique()"
   ]
  },
  {
   "cell_type": "code",
   "execution_count": 20,
   "id": "d6f923e3",
   "metadata": {
    "_cell_guid": "4a804b61-7d92-474a-b662-941be0d05960",
    "_uuid": "5a428cb8-5270-402c-8bad-c748a5eeb460",
    "collapsed": false,
    "execution": {
     "iopub.execute_input": "2022-11-27T16:28:18.353994Z",
     "iopub.status.busy": "2022-11-27T16:28:18.353287Z",
     "iopub.status.idle": "2022-11-27T16:28:18.361273Z",
     "shell.execute_reply": "2022-11-27T16:28:18.360239Z"
    },
    "jupyter": {
     "outputs_hidden": false
    },
    "papermill": {
     "duration": 0.027915,
     "end_time": "2022-11-27T16:28:18.364206",
     "exception": false,
     "start_time": "2022-11-27T16:28:18.336291",
     "status": "completed"
    },
    "tags": []
   },
   "outputs": [
    {
     "data": {
      "text/plain": [
       "array(['over-5,000', '1,000-1,499', '4,000-4,499', '1,500-1,999',\n",
       "       '2,000-2,499', '2,500-2,999', '3,500-3,999', '3,000-3,499',\n",
       "       '100-199', '800-899', '300-399', '700-799', '400-499', '900-999',\n",
       "       '200-299', '500-599', '600-699', '50-99'], dtype=object)"
      ]
     },
     "execution_count": 20,
     "metadata": {},
     "output_type": "execute_result"
    }
   ],
   "source": [
    "uk_uni_df.Academic_staff.unique()"
   ]
  },
  {
   "cell_type": "code",
   "execution_count": 21,
   "id": "62927087",
   "metadata": {
    "_cell_guid": "c46a88b6-8008-4a8a-9859-11050ad91ac2",
    "_uuid": "c41935ba-e76c-4b0d-99aa-0fc2f94c32e3",
    "collapsed": false,
    "execution": {
     "iopub.execute_input": "2022-11-27T16:28:18.397501Z",
     "iopub.status.busy": "2022-11-27T16:28:18.397114Z",
     "iopub.status.idle": "2022-11-27T16:28:18.407368Z",
     "shell.execute_reply": "2022-11-27T16:28:18.406202Z"
    },
    "jupyter": {
     "outputs_hidden": false
    },
    "papermill": {
     "duration": 0.030092,
     "end_time": "2022-11-27T16:28:18.410206",
     "exception": false,
     "start_time": "2022-11-27T16:28:18.380114",
     "status": "completed"
    },
    "tags": []
   },
   "outputs": [],
   "source": [
    "def range_to_mean(str0):\n",
    "    s = str0.replace(',', '').split('-')\n",
    "    if s[0] == 'over':\n",
    "        m = int(s[1])\n",
    "    else:\n",
    "        m = (int(s[0]) + int(s[1])) / 2\n",
    "        m = round(m)\n",
    "    return m\n",
    "    \n",
    "uk_uni_df['Approx_stud_enrollment'] = uk_uni_df.Student_enrollment.apply(range_to_mean)\n",
    "uk_uni_df['Approx_academic_staff'] = uk_uni_df.Academic_staff.apply(range_to_mean)"
   ]
  },
  {
   "cell_type": "code",
   "execution_count": 22,
   "id": "d74412d1",
   "metadata": {
    "_cell_guid": "5dec16c7-8b87-4912-a0db-b03882b706a5",
    "_uuid": "62100426-df6d-478f-911b-2e1ac19128e5",
    "collapsed": false,
    "execution": {
     "iopub.execute_input": "2022-11-27T16:28:18.445100Z",
     "iopub.status.busy": "2022-11-27T16:28:18.444581Z",
     "iopub.status.idle": "2022-11-27T16:28:19.002152Z",
     "shell.execute_reply": "2022-11-27T16:28:19.000877Z"
    },
    "jupyter": {
     "outputs_hidden": false
    },
    "papermill": {
     "duration": 0.578104,
     "end_time": "2022-11-27T16:28:19.004559",
     "exception": false,
     "start_time": "2022-11-27T16:28:18.426455",
     "status": "completed"
    },
    "tags": []
   },
   "outputs": [
    {
     "data": {
      "image/png": "[encoded data removed]",
      "text/plain": [
       "<Figure size 1152x1152 with 2 Axes>"
      ]
     },
     "metadata": {
      "needs_background": "light"
     },
     "output_type": "display_data"
    }
   ],
   "source": [
    "ppl = ['Approx_stud_enrollment', 'Approx_academic_staff']\n",
    "plt.figure(figsize=(16,16))\n",
    "for i in range(len(ppl)):\n",
    "    plt.subplot(2, 2, i+1)\n",
    "    plt.subplots_adjust(wspace=0.5, hspace=0.5)\n",
    "    sns.boxplot(data = uk_uni_df, x = ppl[i], y = 'Region').set(xlabel=ppl[i].replace('_',' ').replace('Approx','Approximately'))"
   ]
  },
  {
   "cell_type": "markdown",
   "id": "f0214fa4",
   "metadata": {
    "_cell_guid": "c36763fc-edbc-4f06-ad84-83be88611728",
    "_uuid": "b6fe7802-62af-4640-a5e1-aa11ddbb7af6",
    "papermill": {
     "duration": 0.015842,
     "end_time": "2022-11-27T16:28:19.036331",
     "exception": false,
     "start_time": "2022-11-27T16:28:19.020489",
     "status": "completed"
    },
    "tags": []
   },
   "source": [
    "Видно, что данные по большинству регионов довольно широко распределены, поэтому учитывать число студентов в университете всё же лучше независимо от региона."
   ]
  },
  {
   "cell_type": "code",
   "execution_count": 23,
   "id": "43fbcf78",
   "metadata": {
    "_cell_guid": "ac73bfec-0cf5-4070-b474-bd4556e7913d",
    "_uuid": "d774ce08-65c8-4802-a819-c7fdf26312aa",
    "collapsed": false,
    "execution": {
     "iopub.execute_input": "2022-11-27T16:28:19.071227Z",
     "iopub.status.busy": "2022-11-27T16:28:19.069919Z",
     "iopub.status.idle": "2022-11-27T16:28:19.077371Z",
     "shell.execute_reply": "2022-11-27T16:28:19.076365Z"
    },
    "jupyter": {
     "outputs_hidden": false
    },
    "papermill": {
     "duration": 0.02683,
     "end_time": "2022-11-27T16:28:19.079441",
     "exception": false,
     "start_time": "2022-11-27T16:28:19.052611",
     "status": "completed"
    },
    "tags": []
   },
   "outputs": [],
   "source": [
    "AprSE = round(uk_uni_df.groupby('Region').Approx_stud_enrollment.mean().sort_values(ascending = False), 2)"
   ]
  },
  {
   "cell_type": "markdown",
   "id": "8d05c6db",
   "metadata": {
    "_cell_guid": "bdf8f624-3a3a-471c-b81d-0e26c1923f3f",
    "_uuid": "c5e9e819-9178-43ba-991c-0f8471145b5f",
    "papermill": {
     "duration": 0.016369,
     "end_time": "2022-11-27T16:28:19.112239",
     "exception": false,
     "start_time": "2022-11-27T16:28:19.095870",
     "status": "completed"
    },
    "tags": []
   },
   "source": [
    "### Число иностранных студентов"
   ]
  },
  {
   "cell_type": "code",
   "execution_count": 24,
   "id": "7e8fddd0",
   "metadata": {
    "_cell_guid": "7728acb0-4cb7-4b91-9e72-f603989155bf",
    "_uuid": "3b92628c-a656-4008-a75d-be7110dae5bf",
    "collapsed": false,
    "execution": {
     "iopub.execute_input": "2022-11-27T16:28:19.146843Z",
     "iopub.status.busy": "2022-11-27T16:28:19.146426Z",
     "iopub.status.idle": "2022-11-27T16:28:19.463263Z",
     "shell.execute_reply": "2022-11-27T16:28:19.461200Z"
    },
    "jupyter": {
     "outputs_hidden": false
    },
    "papermill": {
     "duration": 0.337183,
     "end_time": "2022-11-27T16:28:19.465898",
     "exception": false,
     "start_time": "2022-11-27T16:28:19.128715",
     "status": "completed"
    },
    "tags": []
   },
   "outputs": [
    {
     "data": {
      "text/plain": [
       "[Text(0, 0.5, 'International students, %')]"
      ]
     },
     "execution_count": 24,
     "metadata": {},
     "output_type": "execute_result"
    },
    {
     "data": {
      "image/png": "[encoded data removed]",
      "text/plain": [
       "<Figure size 864x576 with 1 Axes>"
      ]
     },
     "metadata": {
      "needs_background": "light"
     },
     "output_type": "display_data"
    }
   ],
   "source": [
    "plt.figure(figsize=(12,8))\n",
    "plt.xticks(rotation=45)\n",
    "sns.boxplot(data = uk_uni_df, x = 'Region', y = 'Percent_of_international_students').set(ylabel='International students, %')"
   ]
  },
  {
   "cell_type": "code",
   "execution_count": 25,
   "id": "5c98a2ea",
   "metadata": {
    "_cell_guid": "23a74db7-9615-4368-9cca-53e4368a8c90",
    "_uuid": "b00e779f-cf00-4fc2-9450-aa4ba3bdf463",
    "collapsed": false,
    "execution": {
     "iopub.execute_input": "2022-11-27T16:28:19.502113Z",
     "iopub.status.busy": "2022-11-27T16:28:19.501698Z",
     "iopub.status.idle": "2022-11-27T16:28:19.514129Z",
     "shell.execute_reply": "2022-11-27T16:28:19.512581Z"
    },
    "jupyter": {
     "outputs_hidden": false
    },
    "papermill": {
     "duration": 0.033153,
     "end_time": "2022-11-27T16:28:19.516712",
     "exception": false,
     "start_time": "2022-11-27T16:28:19.483559",
     "status": "completed"
    },
    "tags": []
   },
   "outputs": [
    {
     "data": {
      "text/plain": [
       "Region\n",
       "London                      22.104091\n",
       "Scotland                    17.664286\n",
       "South East England          17.429412\n",
       "West Midlands               14.908000\n",
       "Wales                       14.521111\n",
       "East Midlands               13.914286\n",
       "East of England             13.909000\n",
       "North East England          13.350000\n",
       "Yorkshire and the Humber    11.962727\n",
       "South West England          11.682500\n",
       "North West England          11.581818\n",
       "Northern Ireland             8.450000\n",
       "Name: Percent_of_international_students, dtype: float64"
      ]
     },
     "execution_count": 25,
     "metadata": {},
     "output_type": "execute_result"
    }
   ],
   "source": [
    "PoIS = uk_uni_df.groupby('Region').Percent_of_international_students.mean().sort_values(ascending = False)\n",
    "PoIS"
   ]
  },
  {
   "cell_type": "code",
   "execution_count": 26,
   "id": "f175ff65",
   "metadata": {
    "_cell_guid": "4de11798-735c-4979-bb37-aec32d6af921",
    "_uuid": "345f3200-9a32-4974-b60b-e5275ce5744c",
    "collapsed": false,
    "execution": {
     "iopub.execute_input": "2022-11-27T16:28:19.554061Z",
     "iopub.status.busy": "2022-11-27T16:28:19.553663Z",
     "iopub.status.idle": "2022-11-27T16:28:19.563983Z",
     "shell.execute_reply": "2022-11-27T16:28:19.562455Z"
    },
    "jupyter": {
     "outputs_hidden": false
    },
    "papermill": {
     "duration": 0.032082,
     "end_time": "2022-11-27T16:28:19.566999",
     "exception": false,
     "start_time": "2022-11-27T16:28:19.534917",
     "status": "completed"
    },
    "tags": []
   },
   "outputs": [
    {
     "data": {
      "text/plain": [
       "Region\n",
       "London                      61.06\n",
       "Scotland                    11.39\n",
       "South East England           9.86\n",
       "West Midlands                0.38\n",
       "Wales                        0.05\n",
       "East Midlands                0.14\n",
       "East of England              0.14\n",
       "North East England           0.88\n",
       "Yorkshire and the Humber     5.42\n",
       "South West England           6.80\n",
       "North West England           7.33\n",
       "Northern Ireland            34.10\n",
       "Name: Percent_of_international_students, dtype: float64"
      ]
     },
     "execution_count": 26,
     "metadata": {},
     "output_type": "execute_result"
    }
   ],
   "source": [
    "round((PoIS - PoIS.mean())**2, 2)"
   ]
  },
  {
   "cell_type": "markdown",
   "id": "5503ca6f",
   "metadata": {
    "_cell_guid": "7d371cf8-eefe-4e18-ba33-a59950e02c01",
    "_uuid": "c4436752-bbb6-4c67-aa4d-6c561235f557",
    "papermill": {
     "duration": 0.016967,
     "end_time": "2022-11-27T16:28:19.602034",
     "exception": false,
     "start_time": "2022-11-27T16:28:19.585067",
     "status": "completed"
    },
    "tags": []
   },
   "source": [
    "Больше всего иностранных студентов: Лондон \\\n",
    "Много иностранных студентов: Шотландия, Юго-Восточная Англия \\\n",
    "Мало иностранных студентов: Северная Ирландия"
   ]
  },
  {
   "cell_type": "markdown",
   "id": "c7206d5e",
   "metadata": {
    "_cell_guid": "8512e60a-318a-44a5-ab8e-720b2bee7b0d",
    "_uuid": "65989881-f1cf-4ac5-8855-d7102b29b958",
    "papermill": {
     "duration": 0.017331,
     "end_time": "2022-11-27T16:28:19.636870",
     "exception": false,
     "start_time": "2022-11-27T16:28:19.619539",
     "status": "completed"
    },
    "tags": []
   },
   "source": [
    "### Оформление результата"
   ]
  },
  {
   "cell_type": "code",
   "execution_count": 27,
   "id": "2e550280",
   "metadata": {
    "_cell_guid": "79547911-e632-4d52-8268-8b379cb9389e",
    "_uuid": "cd3b8bfb-d7be-4355-89f5-386c9f54fb36",
    "collapsed": false,
    "execution": {
     "iopub.execute_input": "2022-11-27T16:28:19.673775Z",
     "iopub.status.busy": "2022-11-27T16:28:19.673409Z",
     "iopub.status.idle": "2022-11-27T16:28:19.731472Z",
     "shell.execute_reply": "2022-11-27T16:28:19.730517Z"
    },
    "jupyter": {
     "outputs_hidden": false
    },
    "papermill": {
     "duration": 0.080037,
     "end_time": "2022-11-27T16:28:19.734610",
     "exception": false,
     "start_time": "2022-11-27T16:28:19.654573",
     "status": "completed"
    },
    "tags": []
   },
   "outputs": [],
   "source": [
    "# создание таблицы с полученными данными\n",
    "result_df = pd.DataFrame(columns=['Region', \n",
    "                                  'Stud_satisfaction', \n",
    "                                  'urban_Costs',\n",
    "                                  'suburban_Costs',\n",
    "                                  'rural_Costs',\n",
    "                                  'Mean_stud_amount',\n",
    "                                  'Mean_int_studs_percent'])\n",
    "\n",
    "campus_dict = {'Urban': 'в городе', 'Suburban': 'в пригороде', 'Rural': 'вне города'}\n",
    "\n",
    "for region in uk_uni_df.Region.unique().tolist():\n",
    "    \n",
    "    reg_inf = {'Region': np.NaN, \n",
    "               'Stud_satisfaction': np.NaN, \n",
    "               'urban_Costs': np.NaN,\n",
    "               'suburban_Costs': np.NaN,\n",
    "               'rural_Costs': np.NaN,\n",
    "               'Mean_stud_amount': np.NaN,\n",
    "               'Mean_int_studs_percent': np.NaN}\n",
    "    \n",
    "    reg_inf['Region'] = region\n",
    "    reg_inf['Stud_satisfaction'] = round(PoSS[region], 2)\n",
    "    \n",
    "    for cs in ['Urban', 'Suburban', 'Rural']:\n",
    "        try:\n",
    "            reg_inf[cs.lower()+'_Costs'] = float(ECoL_df.loc[region, cs])\n",
    "        except:\n",
    "            continue\n",
    "    \n",
    "    reg_inf['Mean_stud_amount'] = int(AprSE[region])\n",
    "    reg_inf['Mean_int_studs_percent'] = round(PoIS[region], 2)\n",
    "\n",
    "    result_df = result_df.append(reg_inf, ignore_index=True)"
   ]
  },
  {
   "cell_type": "code",
   "execution_count": 28,
   "id": "c51aa5d4",
   "metadata": {
    "_cell_guid": "7cf2c647-46e0-45a0-9d3f-fd67fce3f08d",
    "_uuid": "c2e0b3f0-9631-4816-b7c1-ea7d19415396",
    "collapsed": false,
    "execution": {
     "iopub.execute_input": "2022-11-27T16:28:19.773073Z",
     "iopub.status.busy": "2022-11-27T16:28:19.772698Z",
     "iopub.status.idle": "2022-11-27T16:28:19.781167Z",
     "shell.execute_reply": "2022-11-27T16:28:19.779771Z"
    },
    "jupyter": {
     "outputs_hidden": false
    },
    "papermill": {
     "duration": 0.031293,
     "end_time": "2022-11-27T16:28:19.783978",
     "exception": false,
     "start_time": "2022-11-27T16:28:19.752685",
     "status": "completed"
    },
    "tags": []
   },
   "outputs": [],
   "source": [
    "result_df = result_df.sort_values(by = 'Stud_satisfaction', ascending = False).reset_index(drop = True)"
   ]
  },
  {
   "cell_type": "code",
   "execution_count": 29,
   "id": "5d44c672",
   "metadata": {
    "_cell_guid": "848f4c21-1e6d-455d-85f4-f78b5ca49521",
    "_uuid": "297aa4d7-a4f6-4f36-a6f6-ad6a37836454",
    "collapsed": false,
    "execution": {
     "iopub.execute_input": "2022-11-27T16:28:19.825061Z",
     "iopub.status.busy": "2022-11-27T16:28:19.824601Z",
     "iopub.status.idle": "2022-11-27T16:28:19.832687Z",
     "shell.execute_reply": "2022-11-27T16:28:19.831209Z"
    },
    "jupyter": {
     "outputs_hidden": false
    },
    "papermill": {
     "duration": 0.033372,
     "end_time": "2022-11-27T16:28:19.835317",
     "exception": false,
     "start_time": "2022-11-27T16:28:19.801945",
     "status": "completed"
    },
    "tags": []
   },
   "outputs": [],
   "source": [
    "# таблица с итоговыми данными\n",
    "result_df = result_df.fillna('')"
   ]
  },
  {
   "cell_type": "markdown",
   "id": "fbaecf72",
   "metadata": {
    "_cell_guid": "cbba5406-ab2f-40c3-8838-5bb59242b1a4",
    "_uuid": "5283b68e-030c-4615-91a4-16915699f6fa",
    "papermill": {
     "duration": 0.018237,
     "end_time": "2022-11-27T16:28:19.871838",
     "exception": false,
     "start_time": "2022-11-27T16:28:19.853601",
     "status": "completed"
    },
    "tags": []
   },
   "source": [
    "## Результат"
   ]
  },
  {
   "cell_type": "code",
   "execution_count": 30,
   "id": "50414f23",
   "metadata": {
    "_cell_guid": "33e0cc3b-0a6a-4c50-b6e2-d8e4d3ad2e3d",
    "_uuid": "ec49b786-b457-4cc8-8347-aa9408d06cad",
    "collapsed": false,
    "execution": {
     "iopub.execute_input": "2022-11-27T16:28:19.909269Z",
     "iopub.status.busy": "2022-11-27T16:28:19.908933Z",
     "iopub.status.idle": "2022-11-27T16:28:19.924847Z",
     "shell.execute_reply": "2022-11-27T16:28:19.923474Z"
    },
    "jupyter": {
     "outputs_hidden": false
    },
    "papermill": {
     "duration": 0.037854,
     "end_time": "2022-11-27T16:28:19.927823",
     "exception": false,
     "start_time": "2022-11-27T16:28:19.889969",
     "status": "completed"
    },
    "tags": []
   },
   "outputs": [
    {
     "data": {
      "text/html": [
       "<div>\n",
       "<style scoped>\n",
       "    .dataframe tbody tr th:only-of-type {\n",
       "        vertical-align: middle;\n",
       "    }\n",
       "\n",
       "    .dataframe tbody tr th {\n",
       "        vertical-align: top;\n",
       "    }\n",
       "\n",
       "    .dataframe thead th {\n",
       "        text-align: right;\n",
       "    }\n",
       "</style>\n",
       "<table border=\"1\" class=\"dataframe\">\n",
       "  <thead>\n",
       "    <tr style=\"text-align: right;\">\n",
       "      <th></th>\n",
       "      <th>Region</th>\n",
       "      <th>Stud_satisfaction</th>\n",
       "      <th>urban_Costs</th>\n",
       "      <th>suburban_Costs</th>\n",
       "      <th>rural_Costs</th>\n",
       "      <th>Mean_stud_amount</th>\n",
       "      <th>Mean_int_studs_percent</th>\n",
       "    </tr>\n",
       "  </thead>\n",
       "  <tbody>\n",
       "    <tr>\n",
       "      <th>0</th>\n",
       "      <td>Wales</td>\n",
       "      <td>80.19</td>\n",
       "      <td>7771.0</td>\n",
       "      <td>7635.5</td>\n",
       "      <td>6885.5</td>\n",
       "      <td>14833</td>\n",
       "      <td>14.52</td>\n",
       "    </tr>\n",
       "    <tr>\n",
       "      <th>1</th>\n",
       "      <td>West Midlands</td>\n",
       "      <td>79.83</td>\n",
       "      <td>7048.5</td>\n",
       "      <td>8838.5</td>\n",
       "      <td>8000.0</td>\n",
       "      <td>19500</td>\n",
       "      <td>14.91</td>\n",
       "    </tr>\n",
       "    <tr>\n",
       "      <th>2</th>\n",
       "      <td>East Midlands</td>\n",
       "      <td>79.43</td>\n",
       "      <td>9949.0</td>\n",
       "      <td>9199.0</td>\n",
       "      <td></td>\n",
       "      <td>22500</td>\n",
       "      <td>13.91</td>\n",
       "    </tr>\n",
       "    <tr>\n",
       "      <th>3</th>\n",
       "      <td>South West England</td>\n",
       "      <td>79.34</td>\n",
       "      <td>7608.5</td>\n",
       "      <td>8308.5</td>\n",
       "      <td>8808.5</td>\n",
       "      <td>12416</td>\n",
       "      <td>11.68</td>\n",
       "    </tr>\n",
       "    <tr>\n",
       "      <th>4</th>\n",
       "      <td>Scotland</td>\n",
       "      <td>78.90</td>\n",
       "      <td>8000.0</td>\n",
       "      <td>7500.0</td>\n",
       "      <td></td>\n",
       "      <td>16071</td>\n",
       "      <td>17.66</td>\n",
       "    </tr>\n",
       "    <tr>\n",
       "      <th>5</th>\n",
       "      <td>Yorkshire and the Humber</td>\n",
       "      <td>78.85</td>\n",
       "      <td>8270.0</td>\n",
       "      <td>8000.0</td>\n",
       "      <td></td>\n",
       "      <td>18136</td>\n",
       "      <td>11.96</td>\n",
       "    </tr>\n",
       "    <tr>\n",
       "      <th>6</th>\n",
       "      <td>Northern Ireland</td>\n",
       "      <td>78.85</td>\n",
       "      <td>6000.0</td>\n",
       "      <td></td>\n",
       "      <td></td>\n",
       "      <td>22500</td>\n",
       "      <td>8.45</td>\n",
       "    </tr>\n",
       "    <tr>\n",
       "      <th>7</th>\n",
       "      <td>East of England</td>\n",
       "      <td>78.83</td>\n",
       "      <td>9415.0</td>\n",
       "      <td>9415.0</td>\n",
       "      <td></td>\n",
       "      <td>14500</td>\n",
       "      <td>13.91</td>\n",
       "    </tr>\n",
       "    <tr>\n",
       "      <th>8</th>\n",
       "      <td>North West England</td>\n",
       "      <td>78.57</td>\n",
       "      <td>7471.0</td>\n",
       "      <td>7471.0</td>\n",
       "      <td>8500.0</td>\n",
       "      <td>19500</td>\n",
       "      <td>11.58</td>\n",
       "    </tr>\n",
       "    <tr>\n",
       "      <th>9</th>\n",
       "      <td>South East England</td>\n",
       "      <td>78.56</td>\n",
       "      <td>8990.0</td>\n",
       "      <td>8990.0</td>\n",
       "      <td>8000.0</td>\n",
       "      <td>15147</td>\n",
       "      <td>17.43</td>\n",
       "    </tr>\n",
       "    <tr>\n",
       "      <th>10</th>\n",
       "      <td>North East England</td>\n",
       "      <td>77.97</td>\n",
       "      <td>8000.0</td>\n",
       "      <td></td>\n",
       "      <td>8000.0</td>\n",
       "      <td>19166</td>\n",
       "      <td>13.35</td>\n",
       "    </tr>\n",
       "    <tr>\n",
       "      <th>11</th>\n",
       "      <td>London</td>\n",
       "      <td>74.85</td>\n",
       "      <td>10229.0</td>\n",
       "      <td>9114.5</td>\n",
       "      <td></td>\n",
       "      <td>15681</td>\n",
       "      <td>22.10</td>\n",
       "    </tr>\n",
       "  </tbody>\n",
       "</table>\n",
       "</div>"
      ],
      "text/plain": [
       "                      Region  Stud_satisfaction  urban_Costs suburban_Costs  \\\n",
       "0                      Wales              80.19       7771.0         7635.5   \n",
       "1              West Midlands              79.83       7048.5         8838.5   \n",
       "2              East Midlands              79.43       9949.0         9199.0   \n",
       "3         South West England              79.34       7608.5         8308.5   \n",
       "4                   Scotland              78.90       8000.0         7500.0   \n",
       "5   Yorkshire and the Humber              78.85       8270.0         8000.0   \n",
       "6           Northern Ireland              78.85       6000.0                  \n",
       "7            East of England              78.83       9415.0         9415.0   \n",
       "8         North West England              78.57       7471.0         7471.0   \n",
       "9         South East England              78.56       8990.0         8990.0   \n",
       "10        North East England              77.97       8000.0                  \n",
       "11                    London              74.85      10229.0         9114.5   \n",
       "\n",
       "   rural_Costs  Mean_stud_amount  Mean_int_studs_percent  \n",
       "0       6885.5             14833                   14.52  \n",
       "1       8000.0             19500                   14.91  \n",
       "2                          22500                   13.91  \n",
       "3       8808.5             12416                   11.68  \n",
       "4                          16071                   17.66  \n",
       "5                          18136                   11.96  \n",
       "6                          22500                    8.45  \n",
       "7                          14500                   13.91  \n",
       "8       8500.0             19500                   11.58  \n",
       "9       8000.0             15147                   17.43  \n",
       "10      8000.0             19166                   13.35  \n",
       "11                         15681                   22.10  "
      ]
     },
     "execution_count": 30,
     "metadata": {},
     "output_type": "execute_result"
    }
   ],
   "source": [
    "result_df"
   ]
  },
  {
   "cell_type": "markdown",
   "id": "28924bb1",
   "metadata": {
    "_cell_guid": "95b03746-58bf-4b08-883c-ac2e351ca956",
    "_uuid": "eb6b3dc5-664e-40e2-a595-337512f08d51",
    "papermill": {
     "duration": 0.017442,
     "end_time": "2022-11-27T16:28:19.963115",
     "exception": false,
     "start_time": "2022-11-27T16:28:19.945673",
     "status": "completed"
    },
    "tags": []
   },
   "source": [
    "Выводы:\n",
    "\n",
    "- Cтуденты во всех регионах примерно одинаково удовлетворены, за исключением Лондона, где этот показатель заметно ниже\n",
    "\n",
    "- Cтоимость жизни отличается в зависимости от региона и расположения кампуса. Варианты расположения: город - все регионы, пригород - большинство регионов, вне города - половина регионов. Также в Юго-Западной и Юго-Восточной Англии и Уэйльсе отсутстивует более 20% информации по расположению кампуса, поэтому при выборе этих регионов стоит уточнить информацию по стоимости жизни\n",
    "\n",
    "- Количество студентов в каждом регионе широко распредлено и меняется в зависимости от университета\n",
    "\n",
    "- Больше всего иностранных студентов в Лондоне, много - Шотландии и Юго-Восточной Англии, а меньше всего - в Северной Ирландии"
   ]
  }
 ],
 "metadata": {
  "kernelspec": {
   "display_name": "Python 3",
   "language": "python",
   "name": "python3"
  },
  "language_info": {
   "codemirror_mode": {
    "name": "ipython",
    "version": 3
   },
   "file_extension": ".py",
   "mimetype": "text/x-python",
   "name": "python",
   "nbconvert_exporter": "python",
   "pygments_lexer": "ipython3",
   "version": "3.7.12"
  },
  "papermill": {
   "default_parameters": {},
   "duration": 17.708288,
   "end_time": "2022-11-27T16:28:20.906162",
   "environment_variables": {},
   "exception": null,
   "input_path": "__notebook__.ipynb",
   "output_path": "__notebook__.ipynb",
   "parameters": {},
   "start_time": "2022-11-27T16:28:03.197874",
   "version": "2.3.4"
  }
 },
 "nbformat": 4,
 "nbformat_minor": 5
}
